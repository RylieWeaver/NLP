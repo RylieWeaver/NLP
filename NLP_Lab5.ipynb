{
  "cells": [
    {
      "cell_type": "markdown",
      "metadata": {
        "id": "view-in-github",
        "colab_type": "text"
      },
      "source": [
        "<a href=\"https://colab.research.google.com/github/RylieWeaver/NLP/blob/main/NLP_Lab5.ipynb\" target=\"_parent\"><img src=\"https://colab.research.google.com/assets/colab-badge.svg\" alt=\"Open In Colab\"/></a>"
      ]
    },
    {
      "cell_type": "markdown",
      "metadata": {
        "id": "SA_ITZobliWG"
      },
      "source": [
        "# 9.4 Lab Assignment #5: Topic Modeling"
      ]
    },
    {
      "cell_type": "markdown",
      "metadata": {
        "id": "6M4kkRhGgZ9L"
      },
      "source": [
        "https://colab.research.google.com/drive/19y5rpwGVqT9Gbvom9mM4YMWWXbctBkW4?usp=sharing"
      ]
    },
    {
      "cell_type": "markdown",
      "metadata": {
        "id": "hoSlbg5unACf"
      },
      "source": [
        "## Setup"
      ]
    },
    {
      "cell_type": "markdown",
      "metadata": {
        "id": "hSCNL3pcnBVu"
      },
      "source": [
        "### Mount Drive"
      ]
    },
    {
      "cell_type": "code",
      "execution_count": null,
      "metadata": {
        "colab": {
          "base_uri": "https://localhost:8080/"
        },
        "id": "CWiUHtMlnDor",
        "outputId": "4d8a157d-8e3b-4f52-f9ed-7f2ca5075409"
      },
      "outputs": [
        {
          "name": "stdout",
          "output_type": "stream",
          "text": [
            "Mounted at /content/drive\n"
          ]
        }
      ],
      "source": [
        "# Setup access to my Google Drive\n",
        "from google.colab import drive\n",
        "drive.mount('/content/drive',  force_remount=True)"
      ]
    },
    {
      "cell_type": "code",
      "execution_count": null,
      "metadata": {
        "colab": {
          "base_uri": "https://localhost:8080/"
        },
        "id": "BRy3s5ryncDJ",
        "outputId": "7378b9c6-1915-4651-f6c8-653257327e9f"
      },
      "outputs": [
        {
          "name": "stdout",
          "output_type": "stream",
          "text": [
            "/content/drive/MyDrive/CGU/NLP\n"
          ]
        }
      ],
      "source": [
        "# Travel to NLP Directory\n",
        "%cd \"/content/drive/MyDrive/CGU/NLP\""
      ]
    },
    {
      "cell_type": "code",
      "execution_count": null,
      "metadata": {
        "colab": {
          "base_uri": "https://localhost:8080/"
        },
        "id": "WtA93onFncDK",
        "outputId": "988a796a-0c7f-4a1b-af29-86b245607a53"
      },
      "outputs": [
        {
          "name": "stdout",
          "output_type": "stream",
          "text": [
            "\u001b[0m\u001b[01;34mLab1\u001b[0m/  \u001b[01;34mLab2\u001b[0m/  \u001b[01;34mLab3\u001b[0m/  \u001b[01;34mLab3.2\u001b[0m/  \u001b[01;34mLab3.2_extra\u001b[0m/  \u001b[01;34mLab3_extra\u001b[0m/  \u001b[01;34mLab4\u001b[0m/  \u001b[01;34mLab4_extra\u001b[0m/  \u001b[01;34mLab5\u001b[0m/  \u001b[01;34mLab5_extra\u001b[0m/\n"
          ]
        }
      ],
      "source": [
        "%ls"
      ]
    },
    {
      "cell_type": "markdown",
      "metadata": {
        "id": "OXXo3O40q3d2"
      },
      "source": [
        "### Pip"
      ]
    },
    {
      "cell_type": "code",
      "execution_count": null,
      "metadata": {
        "colab": {
          "base_uri": "https://localhost:8080/"
        },
        "id": "QZm4gRgZLuYs",
        "outputId": "73ecd1b5-89d8-4da3-da49-84831e78c59c"
      },
      "outputs": [
        {
          "name": "stdout",
          "output_type": "stream",
          "text": [
            "Collecting pyLDAvis\n",
            "  Downloading pyLDAvis-3.4.1-py3-none-any.whl (2.6 MB)\n",
            "\u001b[2K     \u001b[90m━━━━━━━━━━━━━━━━━━━━━━━━━━━━━━━━━━━━━━━━\u001b[0m \u001b[32m2.6/2.6 MB\u001b[0m \u001b[31m18.6 MB/s\u001b[0m eta \u001b[36m0:00:00\u001b[0m\n",
            "\u001b[?25hRequirement already satisfied: numpy>=1.24.2 in /usr/local/lib/python3.10/dist-packages (from pyLDAvis) (1.25.2)\n",
            "Requirement already satisfied: scipy in /usr/local/lib/python3.10/dist-packages (from pyLDAvis) (1.11.4)\n",
            "Requirement already satisfied: pandas>=2.0.0 in /usr/local/lib/python3.10/dist-packages (from pyLDAvis) (2.0.3)\n",
            "Requirement already satisfied: joblib>=1.2.0 in /usr/local/lib/python3.10/dist-packages (from pyLDAvis) (1.3.2)\n",
            "Requirement already satisfied: jinja2 in /usr/local/lib/python3.10/dist-packages (from pyLDAvis) (3.1.3)\n",
            "Requirement already satisfied: numexpr in /usr/local/lib/python3.10/dist-packages (from pyLDAvis) (2.9.0)\n",
            "Collecting funcy (from pyLDAvis)\n",
            "  Downloading funcy-2.0-py2.py3-none-any.whl (30 kB)\n",
            "Requirement already satisfied: scikit-learn>=1.0.0 in /usr/local/lib/python3.10/dist-packages (from pyLDAvis) (1.2.2)\n",
            "Requirement already satisfied: gensim in /usr/local/lib/python3.10/dist-packages (from pyLDAvis) (4.3.2)\n",
            "Requirement already satisfied: setuptools in /usr/local/lib/python3.10/dist-packages (from pyLDAvis) (67.7.2)\n",
            "Requirement already satisfied: python-dateutil>=2.8.2 in /usr/local/lib/python3.10/dist-packages (from pandas>=2.0.0->pyLDAvis) (2.8.2)\n",
            "Requirement already satisfied: pytz>=2020.1 in /usr/local/lib/python3.10/dist-packages (from pandas>=2.0.0->pyLDAvis) (2023.4)\n",
            "Requirement already satisfied: tzdata>=2022.1 in /usr/local/lib/python3.10/dist-packages (from pandas>=2.0.0->pyLDAvis) (2024.1)\n",
            "Requirement already satisfied: threadpoolctl>=2.0.0 in /usr/local/lib/python3.10/dist-packages (from scikit-learn>=1.0.0->pyLDAvis) (3.4.0)\n",
            "Requirement already satisfied: smart-open>=1.8.1 in /usr/local/lib/python3.10/dist-packages (from gensim->pyLDAvis) (6.4.0)\n",
            "Requirement already satisfied: MarkupSafe>=2.0 in /usr/local/lib/python3.10/dist-packages (from jinja2->pyLDAvis) (2.1.5)\n",
            "Requirement already satisfied: six>=1.5 in /usr/local/lib/python3.10/dist-packages (from python-dateutil>=2.8.2->pandas>=2.0.0->pyLDAvis) (1.16.0)\n",
            "Installing collected packages: funcy, pyLDAvis\n",
            "Successfully installed funcy-2.0 pyLDAvis-3.4.1\n"
          ]
        }
      ],
      "source": [
        "!pip install pyLDAvis"
      ]
    },
    {
      "cell_type": "code",
      "source": [],
      "metadata": {
        "id": "hjsYrNwIgNOQ"
      },
      "execution_count": null,
      "outputs": []
    },
    {
      "cell_type": "markdown",
      "metadata": {
        "id": "5iHHuQd3nSOM"
      },
      "source": [
        "### Imports"
      ]
    },
    {
      "cell_type": "code",
      "execution_count": null,
      "metadata": {
        "id": "nMext0wQnRFp"
      },
      "outputs": [],
      "source": [
        "import pandas as pd\n",
        "import numpy as np"
      ]
    },
    {
      "cell_type": "code",
      "execution_count": null,
      "metadata": {
        "colab": {
          "base_uri": "https://localhost:8080/"
        },
        "id": "Fc8j1IlWQSLg",
        "outputId": "922ab199-6118-435f-9faa-2eadfa5995ac"
      },
      "outputs": [
        {
          "name": "stderr",
          "output_type": "stream",
          "text": [
            "[nltk_data] Downloading package punkt to /root/nltk_data...\n",
            "[nltk_data]   Unzipping tokenizers/punkt.zip.\n"
          ]
        }
      ],
      "source": [
        "import nltk\n",
        "nltk.download('punkt')\n",
        "from nltk.tokenize import word_tokenize"
      ]
    },
    {
      "cell_type": "code",
      "execution_count": null,
      "metadata": {
        "id": "omfn0m7gukCb"
      },
      "outputs": [],
      "source": [
        "import re\n",
        "import ast\n",
        "import pickle"
      ]
    },
    {
      "cell_type": "code",
      "execution_count": null,
      "metadata": {
        "id": "DQE3zZ0R34sX"
      },
      "outputs": [],
      "source": [
        "import gensim\n",
        "from gensim import corpora\n",
        "from gensim.models.phrases import Phrases, Phraser\n",
        "from gensim.corpora import Dictionary"
      ]
    },
    {
      "cell_type": "code",
      "execution_count": null,
      "metadata": {
        "id": "oQrXi4IH_ISr"
      },
      "outputs": [],
      "source": [
        "from gensim.models import LsiModel\n",
        "from gensim.models.coherencemodel import CoherenceModel\n",
        "import matplotlib.pyplot as plt"
      ]
    },
    {
      "cell_type": "code",
      "execution_count": null,
      "metadata": {
        "colab": {
          "base_uri": "https://localhost:8080/"
        },
        "id": "_50UUp4VKgRl",
        "outputId": "6b2310b2-be42-41da-a4c4-7590e1b6dc8b"
      },
      "outputs": [
        {
          "name": "stderr",
          "output_type": "stream",
          "text": [
            "/usr/local/lib/python3.10/dist-packages/ipykernel/ipkernel.py:283: DeprecationWarning: `should_run_async` will not call `transform_cell` automatically in the future. Please pass the result to `transformed_cell` argument and any exception that happen during thetransform in `preprocessing_exc_tuple` in IPython 7.17 and above.\n",
            "  and should_run_async(code)\n"
          ]
        }
      ],
      "source": [
        "from gensim.models import LdaModel\n",
        "\n",
        "import pyLDAvis\n",
        "import pyLDAvis.gensim_models as gensimvis"
      ]
    },
    {
      "cell_type": "markdown",
      "metadata": {
        "id": "InbFedZKsw6q"
      },
      "source": [
        "## Clean Data\n",
        "\n"
      ]
    },
    {
      "cell_type": "markdown",
      "metadata": {
        "id": "GRPuS5A_RbWX"
      },
      "source": [
        "### Load"
      ]
    },
    {
      "cell_type": "code",
      "execution_count": null,
      "metadata": {
        "id": "PRmcGFfz0VkK"
      },
      "outputs": [],
      "source": [
        "reviews = pd.read_csv('Lab3_extra/csv_files/cleaned_reviews.csv')"
      ]
    },
    {
      "cell_type": "code",
      "execution_count": null,
      "metadata": {
        "colab": {
          "base_uri": "https://localhost:8080/",
          "height": 206
        },
        "id": "70FiPlaG0gA4",
        "outputId": "dd1a9e2c-2fac-46b8-b76a-16b566be1d56"
      },
      "outputs": [
        {
          "data": {
            "application/vnd.google.colaboratory.intrinsic+json": {
              "summary": "{\n  \"name\": \"reviews\",\n  \"rows\": 63213,\n  \"fields\": [\n    {\n      \"column\": \"Rating\",\n      \"properties\": {\n        \"dtype\": \"number\",\n        \"std\": 1.4947922894256092,\n        \"min\": 1.0,\n        \"max\": 5.0,\n        \"num_unique_values\": 5,\n        \"samples\": [\n          3.0,\n          1.0,\n          4.0\n        ],\n        \"semantic_type\": \"\",\n        \"description\": \"\"\n      }\n    },\n    {\n      \"column\": \"Date\",\n      \"properties\": {\n        \"dtype\": \"object\",\n        \"num_unique_values\": 63200,\n        \"samples\": [\n          \"2019-07-02 14:02:07\",\n          \"2012-10-11 18:12:34\",\n          \"2015-07-08 02:28:45\"\n        ],\n        \"semantic_type\": \"\",\n        \"description\": \"\"\n      }\n    },\n    {\n      \"column\": \"Review\",\n      \"properties\": {\n        \"dtype\": \"string\",\n        \"num_unique_values\": 63102,\n        \"samples\": [\n          \"This place was recommended by friends so I stopped in for lunch on a Sunday.  Caprese panino was great and the atmosphere was very nice.  Got an espresso after the sandwich and the quality of the coffee was excellent!  I highly recommend this place for coffee lovers.  They have a drive thru too!\",\n          \"Great new little place with hints of Japanese and Nepali cultures. The chef was very friendly and his food was as good to match. The onigiri was warm but not too hot; good stickyness level. My momo soup was very tasty, I added siracha to make it a little more spicy; everything was made fresh to order and was great!\",\n          \"The food we had was definitely premade in bulk... Not authentic. Service was ok.\"\n        ],\n        \"semantic_type\": \"\",\n        \"description\": \"\"\n      }\n    },\n    {\n      \"column\": \"Business\",\n      \"properties\": {\n        \"dtype\": \"category\",\n        \"num_unique_values\": 965,\n        \"samples\": [\n          \"BIBIBOP Asian Grill\",\n          \"Austin Eastciders - Barton Springs\",\n          \"Cast Iron\"\n        ],\n        \"semantic_type\": \"\",\n        \"description\": \"\"\n      }\n    },\n    {\n      \"column\": \"City\",\n      \"properties\": {\n        \"dtype\": \"category\",\n        \"num_unique_values\": 161,\n        \"samples\": [\n          \"Groveport\",\n          \"Louisville\",\n          \"Watertown\"\n        ],\n        \"semantic_type\": \"\",\n        \"description\": \"\"\n      }\n    },\n    {\n      \"column\": \"State\",\n      \"properties\": {\n        \"dtype\": \"category\",\n        \"num_unique_values\": 9,\n        \"samples\": [\n          \"CO\",\n          \"GA\",\n          \"TX\"\n        ],\n        \"semantic_type\": \"\",\n        \"description\": \"\"\n      }\n    },\n    {\n      \"column\": \"Zip\",\n      \"properties\": {\n        \"dtype\": \"category\",\n        \"num_unique_values\": 459,\n        \"samples\": [\n          \"30341\",\n          \"02119\",\n          \"02140\"\n        ],\n        \"semantic_type\": \"\",\n        \"description\": \"\"\n      }\n    },\n    {\n      \"column\": \"Business Rating Score\",\n      \"properties\": {\n        \"dtype\": \"number\",\n        \"std\": 0.7413209609467051,\n        \"min\": 1.0,\n        \"max\": 5.0,\n        \"num_unique_values\": 9,\n        \"samples\": [\n          1.5,\n          3.0,\n          2.0\n        ],\n        \"semantic_type\": \"\",\n        \"description\": \"\"\n      }\n    },\n    {\n      \"column\": \"Cleaned Review\",\n      \"properties\": {\n        \"dtype\": \"string\",\n        \"num_unique_values\": 63073,\n        \"samples\": [\n          \"for breakfast buffet that include juice egg sausage bacon crossiants toast bagel muffin yogurt waffle french toast etc really good deal this great option you have picky kid therefore they can eat what they like versus order off the menu which just expensive not more service average over the time here for breakfast\",\n          \"burritos generally the dry side and the flavor simple but have give them credit the whole wheat tortilla and brown rice option good healthy option you into that sort thing\",\n          \"nasty food very unsanitary the cashier lazy and there literally always one waiter would never come here again\"\n        ],\n        \"semantic_type\": \"\",\n        \"description\": \"\"\n      }\n    }\n  ]\n}",
              "type": "dataframe",
              "variable_name": "reviews"
            },
            "text/html": [
              "\n",
              "  <div id=\"df-d147e183-95ec-4e44-9ca8-76c16bb36ac7\" class=\"colab-df-container\">\n",
              "    <div>\n",
              "<style scoped>\n",
              "    .dataframe tbody tr th:only-of-type {\n",
              "        vertical-align: middle;\n",
              "    }\n",
              "\n",
              "    .dataframe tbody tr th {\n",
              "        vertical-align: top;\n",
              "    }\n",
              "\n",
              "    .dataframe thead th {\n",
              "        text-align: right;\n",
              "    }\n",
              "</style>\n",
              "<table border=\"1\" class=\"dataframe\">\n",
              "  <thead>\n",
              "    <tr style=\"text-align: right;\">\n",
              "      <th></th>\n",
              "      <th>Rating</th>\n",
              "      <th>Date</th>\n",
              "      <th>Review</th>\n",
              "      <th>Business</th>\n",
              "      <th>City</th>\n",
              "      <th>State</th>\n",
              "      <th>Zip</th>\n",
              "      <th>Business Rating Score</th>\n",
              "      <th>Cleaned Review</th>\n",
              "    </tr>\n",
              "  </thead>\n",
              "  <tbody>\n",
              "    <tr>\n",
              "      <th>0</th>\n",
              "      <td>5.0</td>\n",
              "      <td>2008-09-29 09:33:04</td>\n",
              "      <td>its the best pizza hut i'v found in florida al...</td>\n",
              "      <td>Pizza Hut</td>\n",
              "      <td>Orlando</td>\n",
              "      <td>FL</td>\n",
              "      <td>32819</td>\n",
              "      <td>3.5</td>\n",
              "      <td>its the best pizza hut find florida always get...</td>\n",
              "    </tr>\n",
              "    <tr>\n",
              "      <th>1</th>\n",
              "      <td>3.0</td>\n",
              "      <td>2013-12-06 23:22:26</td>\n",
              "      <td>This place is an interesting combo. The chef, ...</td>\n",
              "      <td>La Mongerie Bakery &amp; Bistro</td>\n",
              "      <td>Atlanta</td>\n",
              "      <td>GA</td>\n",
              "      <td>30308</td>\n",
              "      <td>3.0</td>\n",
              "      <td>this place interesting combo the chef david in...</td>\n",
              "    </tr>\n",
              "    <tr>\n",
              "      <th>2</th>\n",
              "      <td>5.0</td>\n",
              "      <td>2008-11-16 09:44:04</td>\n",
              "      <td>Pizza Hut is great! You get huge pizzas for yo...</td>\n",
              "      <td>Pizza Hut</td>\n",
              "      <td>Orlando</td>\n",
              "      <td>FL</td>\n",
              "      <td>32819</td>\n",
              "      <td>3.5</td>\n",
              "      <td>pizza hut great you get huge pizza for your mo...</td>\n",
              "    </tr>\n",
              "    <tr>\n",
              "      <th>3</th>\n",
              "      <td>5.0</td>\n",
              "      <td>2016-04-11 17:00:34</td>\n",
              "      <td>Always a great place to taste some tea with fr...</td>\n",
              "      <td>Teavana</td>\n",
              "      <td>Atlanta</td>\n",
              "      <td>GA</td>\n",
              "      <td>30326</td>\n",
              "      <td>3.0</td>\n",
              "      <td>always great place taste some tea with friend ...</td>\n",
              "    </tr>\n",
              "    <tr>\n",
              "      <th>4</th>\n",
              "      <td>4.0</td>\n",
              "      <td>2015-05-26 06:47:56</td>\n",
              "      <td>Delish! Stopped in on a random Sunday and so g...</td>\n",
              "      <td>Native Foods Cafe</td>\n",
              "      <td>Happy Valley</td>\n",
              "      <td>OR</td>\n",
              "      <td>97086</td>\n",
              "      <td>4.5</td>\n",
              "      <td>delish stopped random sunday and glad normally...</td>\n",
              "    </tr>\n",
              "  </tbody>\n",
              "</table>\n",
              "</div>\n",
              "    <div class=\"colab-df-buttons\">\n",
              "\n",
              "  <div class=\"colab-df-container\">\n",
              "    <button class=\"colab-df-convert\" onclick=\"convertToInteractive('df-d147e183-95ec-4e44-9ca8-76c16bb36ac7')\"\n",
              "            title=\"Convert this dataframe to an interactive table.\"\n",
              "            style=\"display:none;\">\n",
              "\n",
              "  <svg xmlns=\"http://www.w3.org/2000/svg\" height=\"24px\" viewBox=\"0 -960 960 960\">\n",
              "    <path d=\"M120-120v-720h720v720H120Zm60-500h600v-160H180v160Zm220 220h160v-160H400v160Zm0 220h160v-160H400v160ZM180-400h160v-160H180v160Zm440 0h160v-160H620v160ZM180-180h160v-160H180v160Zm440 0h160v-160H620v160Z\"/>\n",
              "  </svg>\n",
              "    </button>\n",
              "\n",
              "  <style>\n",
              "    .colab-df-container {\n",
              "      display:flex;\n",
              "      gap: 12px;\n",
              "    }\n",
              "\n",
              "    .colab-df-convert {\n",
              "      background-color: #E8F0FE;\n",
              "      border: none;\n",
              "      border-radius: 50%;\n",
              "      cursor: pointer;\n",
              "      display: none;\n",
              "      fill: #1967D2;\n",
              "      height: 32px;\n",
              "      padding: 0 0 0 0;\n",
              "      width: 32px;\n",
              "    }\n",
              "\n",
              "    .colab-df-convert:hover {\n",
              "      background-color: #E2EBFA;\n",
              "      box-shadow: 0px 1px 2px rgba(60, 64, 67, 0.3), 0px 1px 3px 1px rgba(60, 64, 67, 0.15);\n",
              "      fill: #174EA6;\n",
              "    }\n",
              "\n",
              "    .colab-df-buttons div {\n",
              "      margin-bottom: 4px;\n",
              "    }\n",
              "\n",
              "    [theme=dark] .colab-df-convert {\n",
              "      background-color: #3B4455;\n",
              "      fill: #D2E3FC;\n",
              "    }\n",
              "\n",
              "    [theme=dark] .colab-df-convert:hover {\n",
              "      background-color: #434B5C;\n",
              "      box-shadow: 0px 1px 3px 1px rgba(0, 0, 0, 0.15);\n",
              "      filter: drop-shadow(0px 1px 2px rgba(0, 0, 0, 0.3));\n",
              "      fill: #FFFFFF;\n",
              "    }\n",
              "  </style>\n",
              "\n",
              "    <script>\n",
              "      const buttonEl =\n",
              "        document.querySelector('#df-d147e183-95ec-4e44-9ca8-76c16bb36ac7 button.colab-df-convert');\n",
              "      buttonEl.style.display =\n",
              "        google.colab.kernel.accessAllowed ? 'block' : 'none';\n",
              "\n",
              "      async function convertToInteractive(key) {\n",
              "        const element = document.querySelector('#df-d147e183-95ec-4e44-9ca8-76c16bb36ac7');\n",
              "        const dataTable =\n",
              "          await google.colab.kernel.invokeFunction('convertToInteractive',\n",
              "                                                    [key], {});\n",
              "        if (!dataTable) return;\n",
              "\n",
              "        const docLinkHtml = 'Like what you see? Visit the ' +\n",
              "          '<a target=\"_blank\" href=https://colab.research.google.com/notebooks/data_table.ipynb>data table notebook</a>'\n",
              "          + ' to learn more about interactive tables.';\n",
              "        element.innerHTML = '';\n",
              "        dataTable['output_type'] = 'display_data';\n",
              "        await google.colab.output.renderOutput(dataTable, element);\n",
              "        const docLink = document.createElement('div');\n",
              "        docLink.innerHTML = docLinkHtml;\n",
              "        element.appendChild(docLink);\n",
              "      }\n",
              "    </script>\n",
              "  </div>\n",
              "\n",
              "\n",
              "<div id=\"df-0a745b3e-92e6-4f82-8920-b36ba90561f9\">\n",
              "  <button class=\"colab-df-quickchart\" onclick=\"quickchart('df-0a745b3e-92e6-4f82-8920-b36ba90561f9')\"\n",
              "            title=\"Suggest charts\"\n",
              "            style=\"display:none;\">\n",
              "\n",
              "<svg xmlns=\"http://www.w3.org/2000/svg\" height=\"24px\"viewBox=\"0 0 24 24\"\n",
              "     width=\"24px\">\n",
              "    <g>\n",
              "        <path d=\"M19 3H5c-1.1 0-2 .9-2 2v14c0 1.1.9 2 2 2h14c1.1 0 2-.9 2-2V5c0-1.1-.9-2-2-2zM9 17H7v-7h2v7zm4 0h-2V7h2v10zm4 0h-2v-4h2v4z\"/>\n",
              "    </g>\n",
              "</svg>\n",
              "  </button>\n",
              "\n",
              "<style>\n",
              "  .colab-df-quickchart {\n",
              "      --bg-color: #E8F0FE;\n",
              "      --fill-color: #1967D2;\n",
              "      --hover-bg-color: #E2EBFA;\n",
              "      --hover-fill-color: #174EA6;\n",
              "      --disabled-fill-color: #AAA;\n",
              "      --disabled-bg-color: #DDD;\n",
              "  }\n",
              "\n",
              "  [theme=dark] .colab-df-quickchart {\n",
              "      --bg-color: #3B4455;\n",
              "      --fill-color: #D2E3FC;\n",
              "      --hover-bg-color: #434B5C;\n",
              "      --hover-fill-color: #FFFFFF;\n",
              "      --disabled-bg-color: #3B4455;\n",
              "      --disabled-fill-color: #666;\n",
              "  }\n",
              "\n",
              "  .colab-df-quickchart {\n",
              "    background-color: var(--bg-color);\n",
              "    border: none;\n",
              "    border-radius: 50%;\n",
              "    cursor: pointer;\n",
              "    display: none;\n",
              "    fill: var(--fill-color);\n",
              "    height: 32px;\n",
              "    padding: 0;\n",
              "    width: 32px;\n",
              "  }\n",
              "\n",
              "  .colab-df-quickchart:hover {\n",
              "    background-color: var(--hover-bg-color);\n",
              "    box-shadow: 0 1px 2px rgba(60, 64, 67, 0.3), 0 1px 3px 1px rgba(60, 64, 67, 0.15);\n",
              "    fill: var(--button-hover-fill-color);\n",
              "  }\n",
              "\n",
              "  .colab-df-quickchart-complete:disabled,\n",
              "  .colab-df-quickchart-complete:disabled:hover {\n",
              "    background-color: var(--disabled-bg-color);\n",
              "    fill: var(--disabled-fill-color);\n",
              "    box-shadow: none;\n",
              "  }\n",
              "\n",
              "  .colab-df-spinner {\n",
              "    border: 2px solid var(--fill-color);\n",
              "    border-color: transparent;\n",
              "    border-bottom-color: var(--fill-color);\n",
              "    animation:\n",
              "      spin 1s steps(1) infinite;\n",
              "  }\n",
              "\n",
              "  @keyframes spin {\n",
              "    0% {\n",
              "      border-color: transparent;\n",
              "      border-bottom-color: var(--fill-color);\n",
              "      border-left-color: var(--fill-color);\n",
              "    }\n",
              "    20% {\n",
              "      border-color: transparent;\n",
              "      border-left-color: var(--fill-color);\n",
              "      border-top-color: var(--fill-color);\n",
              "    }\n",
              "    30% {\n",
              "      border-color: transparent;\n",
              "      border-left-color: var(--fill-color);\n",
              "      border-top-color: var(--fill-color);\n",
              "      border-right-color: var(--fill-color);\n",
              "    }\n",
              "    40% {\n",
              "      border-color: transparent;\n",
              "      border-right-color: var(--fill-color);\n",
              "      border-top-color: var(--fill-color);\n",
              "    }\n",
              "    60% {\n",
              "      border-color: transparent;\n",
              "      border-right-color: var(--fill-color);\n",
              "    }\n",
              "    80% {\n",
              "      border-color: transparent;\n",
              "      border-right-color: var(--fill-color);\n",
              "      border-bottom-color: var(--fill-color);\n",
              "    }\n",
              "    90% {\n",
              "      border-color: transparent;\n",
              "      border-bottom-color: var(--fill-color);\n",
              "    }\n",
              "  }\n",
              "</style>\n",
              "\n",
              "  <script>\n",
              "    async function quickchart(key) {\n",
              "      const quickchartButtonEl =\n",
              "        document.querySelector('#' + key + ' button');\n",
              "      quickchartButtonEl.disabled = true;  // To prevent multiple clicks.\n",
              "      quickchartButtonEl.classList.add('colab-df-spinner');\n",
              "      try {\n",
              "        const charts = await google.colab.kernel.invokeFunction(\n",
              "            'suggestCharts', [key], {});\n",
              "      } catch (error) {\n",
              "        console.error('Error during call to suggestCharts:', error);\n",
              "      }\n",
              "      quickchartButtonEl.classList.remove('colab-df-spinner');\n",
              "      quickchartButtonEl.classList.add('colab-df-quickchart-complete');\n",
              "    }\n",
              "    (() => {\n",
              "      let quickchartButtonEl =\n",
              "        document.querySelector('#df-0a745b3e-92e6-4f82-8920-b36ba90561f9 button');\n",
              "      quickchartButtonEl.style.display =\n",
              "        google.colab.kernel.accessAllowed ? 'block' : 'none';\n",
              "    })();\n",
              "  </script>\n",
              "</div>\n",
              "\n",
              "    </div>\n",
              "  </div>\n"
            ],
            "text/plain": [
              "   Rating                 Date  \\\n",
              "0     5.0  2008-09-29 09:33:04   \n",
              "1     3.0  2013-12-06 23:22:26   \n",
              "2     5.0  2008-11-16 09:44:04   \n",
              "3     5.0  2016-04-11 17:00:34   \n",
              "4     4.0  2015-05-26 06:47:56   \n",
              "\n",
              "                                              Review  \\\n",
              "0  its the best pizza hut i'v found in florida al...   \n",
              "1  This place is an interesting combo. The chef, ...   \n",
              "2  Pizza Hut is great! You get huge pizzas for yo...   \n",
              "3  Always a great place to taste some tea with fr...   \n",
              "4  Delish! Stopped in on a random Sunday and so g...   \n",
              "\n",
              "                      Business          City State    Zip  \\\n",
              "0                    Pizza Hut       Orlando    FL  32819   \n",
              "1  La Mongerie Bakery & Bistro       Atlanta    GA  30308   \n",
              "2                    Pizza Hut       Orlando    FL  32819   \n",
              "3                      Teavana       Atlanta    GA  30326   \n",
              "4            Native Foods Cafe  Happy Valley    OR  97086   \n",
              "\n",
              "   Business Rating Score                                     Cleaned Review  \n",
              "0                    3.5  its the best pizza hut find florida always get...  \n",
              "1                    3.0  this place interesting combo the chef david in...  \n",
              "2                    3.5  pizza hut great you get huge pizza for your mo...  \n",
              "3                    3.0  always great place taste some tea with friend ...  \n",
              "4                    4.5  delish stopped random sunday and glad normally...  "
            ]
          },
          "execution_count": 7,
          "metadata": {},
          "output_type": "execute_result"
        }
      ],
      "source": [
        "reviews.head()"
      ]
    },
    {
      "cell_type": "code",
      "execution_count": null,
      "metadata": {
        "colab": {
          "base_uri": "https://localhost:8080/"
        },
        "id": "Hh2_bz28m4Hm",
        "outputId": "07eb98ff-4da7-4c33-a86f-f6f18625cc28"
      },
      "outputs": [
        {
          "data": {
            "text/plain": [
              "(63213, 9)"
            ]
          },
          "execution_count": 8,
          "metadata": {},
          "output_type": "execute_result"
        }
      ],
      "source": [
        "reviews.shape"
      ]
    },
    {
      "cell_type": "markdown",
      "metadata": {
        "id": "re1Ju3Sywk_7"
      },
      "source": [
        "### Tokenize"
      ]
    },
    {
      "cell_type": "markdown",
      "metadata": {
        "id": "aS2klT2ttUGA"
      },
      "source": [
        "(because I translated from tokens to string in lab3)"
      ]
    },
    {
      "cell_type": "code",
      "execution_count": null,
      "metadata": {
        "id": "2IrRPGXkPK9_"
      },
      "outputs": [],
      "source": [
        "def tokenize(text):\n",
        "  tokenized = word_tokenize(text)\n",
        "  return tokenized"
      ]
    },
    {
      "cell_type": "code",
      "execution_count": null,
      "metadata": {
        "colab": {
          "base_uri": "https://localhost:8080/"
        },
        "id": "b_BzSId6Pzud",
        "outputId": "c12551cb-16e6-4c89-e5b4-fe4e4fb4385e"
      },
      "outputs": [
        {
          "name": "stdout",
          "output_type": "stream",
          "text": [
            "shame for take long get here walk notice sign say sue say already like this place woman take order ask she the famous sue she say sue but not not famous get hot italian perfect like the bun little toasted not get soggy with the oil will back\n",
            "----------------------------------------------------------------------\n",
            "['shame', 'for', 'take', 'long', 'get', 'here', 'walk', 'notice', 'sign', 'say', 'sue', 'say', 'already', 'like', 'this', 'place', 'woman', 'take', 'order', 'ask', 'she', 'the', 'famous', 'sue', 'she', 'say', 'sue', 'but', 'not', 'not', 'famous', 'get', 'hot', 'italian', 'perfect', 'like', 'the', 'bun', 'little', 'toasted', 'not', 'get', 'soggy', 'with', 'the', 'oil', 'will', 'back']\n"
          ]
        }
      ],
      "source": [
        "# Test the tokenization\n",
        "column = reviews['Cleaned Review']\n",
        "test = column[10]\n",
        "print(test)\n",
        "print(\"----------------------------------------------------------------------\")\n",
        "print(tokenize(test))"
      ]
    },
    {
      "cell_type": "code",
      "execution_count": null,
      "metadata": {
        "id": "nOuDWB2LQsYC"
      },
      "outputs": [],
      "source": [
        "# Apply tokenization to the DataFrame\n",
        "reviews['Cleaned Review'] = reviews['Cleaned Review'].apply(tokenize)"
      ]
    },
    {
      "cell_type": "code",
      "execution_count": null,
      "metadata": {
        "colab": {
          "base_uri": "https://localhost:8080/",
          "height": 206
        },
        "id": "ScbH89qyQsYD",
        "outputId": "81606be1-09b9-46e9-d615-62460903172f"
      },
      "outputs": [
        {
          "data": {
            "application/vnd.google.colaboratory.intrinsic+json": {
              "summary": "{\n  \"name\": \"reviews\",\n  \"rows\": 63213,\n  \"fields\": [\n    {\n      \"column\": \"Rating\",\n      \"properties\": {\n        \"dtype\": \"number\",\n        \"std\": 1.4947922894256092,\n        \"min\": 1.0,\n        \"max\": 5.0,\n        \"num_unique_values\": 5,\n        \"samples\": [\n          3.0,\n          1.0,\n          4.0\n        ],\n        \"semantic_type\": \"\",\n        \"description\": \"\"\n      }\n    },\n    {\n      \"column\": \"Date\",\n      \"properties\": {\n        \"dtype\": \"object\",\n        \"num_unique_values\": 63200,\n        \"samples\": [\n          \"2019-07-02 14:02:07\",\n          \"2012-10-11 18:12:34\",\n          \"2015-07-08 02:28:45\"\n        ],\n        \"semantic_type\": \"\",\n        \"description\": \"\"\n      }\n    },\n    {\n      \"column\": \"Review\",\n      \"properties\": {\n        \"dtype\": \"string\",\n        \"num_unique_values\": 63102,\n        \"samples\": [\n          \"This place was recommended by friends so I stopped in for lunch on a Sunday.  Caprese panino was great and the atmosphere was very nice.  Got an espresso after the sandwich and the quality of the coffee was excellent!  I highly recommend this place for coffee lovers.  They have a drive thru too!\",\n          \"Great new little place with hints of Japanese and Nepali cultures. The chef was very friendly and his food was as good to match. The onigiri was warm but not too hot; good stickyness level. My momo soup was very tasty, I added siracha to make it a little more spicy; everything was made fresh to order and was great!\",\n          \"The food we had was definitely premade in bulk... Not authentic. Service was ok.\"\n        ],\n        \"semantic_type\": \"\",\n        \"description\": \"\"\n      }\n    },\n    {\n      \"column\": \"Business\",\n      \"properties\": {\n        \"dtype\": \"category\",\n        \"num_unique_values\": 965,\n        \"samples\": [\n          \"BIBIBOP Asian Grill\",\n          \"Austin Eastciders - Barton Springs\",\n          \"Cast Iron\"\n        ],\n        \"semantic_type\": \"\",\n        \"description\": \"\"\n      }\n    },\n    {\n      \"column\": \"City\",\n      \"properties\": {\n        \"dtype\": \"category\",\n        \"num_unique_values\": 161,\n        \"samples\": [\n          \"Groveport\",\n          \"Louisville\",\n          \"Watertown\"\n        ],\n        \"semantic_type\": \"\",\n        \"description\": \"\"\n      }\n    },\n    {\n      \"column\": \"State\",\n      \"properties\": {\n        \"dtype\": \"category\",\n        \"num_unique_values\": 9,\n        \"samples\": [\n          \"CO\",\n          \"GA\",\n          \"TX\"\n        ],\n        \"semantic_type\": \"\",\n        \"description\": \"\"\n      }\n    },\n    {\n      \"column\": \"Zip\",\n      \"properties\": {\n        \"dtype\": \"category\",\n        \"num_unique_values\": 459,\n        \"samples\": [\n          \"30341\",\n          \"02119\",\n          \"02140\"\n        ],\n        \"semantic_type\": \"\",\n        \"description\": \"\"\n      }\n    },\n    {\n      \"column\": \"Business Rating Score\",\n      \"properties\": {\n        \"dtype\": \"number\",\n        \"std\": 0.7413209609467051,\n        \"min\": 1.0,\n        \"max\": 5.0,\n        \"num_unique_values\": 9,\n        \"samples\": [\n          1.5,\n          3.0,\n          2.0\n        ],\n        \"semantic_type\": \"\",\n        \"description\": \"\"\n      }\n    },\n    {\n      \"column\": \"Cleaned Review\",\n      \"properties\": {\n        \"dtype\": \"object\",\n        \"semantic_type\": \"\",\n        \"description\": \"\"\n      }\n    }\n  ]\n}",
              "type": "dataframe",
              "variable_name": "reviews"
            },
            "text/html": [
              "\n",
              "  <div id=\"df-88da0663-f129-4427-afcb-bca41e61a76a\" class=\"colab-df-container\">\n",
              "    <div>\n",
              "<style scoped>\n",
              "    .dataframe tbody tr th:only-of-type {\n",
              "        vertical-align: middle;\n",
              "    }\n",
              "\n",
              "    .dataframe tbody tr th {\n",
              "        vertical-align: top;\n",
              "    }\n",
              "\n",
              "    .dataframe thead th {\n",
              "        text-align: right;\n",
              "    }\n",
              "</style>\n",
              "<table border=\"1\" class=\"dataframe\">\n",
              "  <thead>\n",
              "    <tr style=\"text-align: right;\">\n",
              "      <th></th>\n",
              "      <th>Rating</th>\n",
              "      <th>Date</th>\n",
              "      <th>Review</th>\n",
              "      <th>Business</th>\n",
              "      <th>City</th>\n",
              "      <th>State</th>\n",
              "      <th>Zip</th>\n",
              "      <th>Business Rating Score</th>\n",
              "      <th>Cleaned Review</th>\n",
              "    </tr>\n",
              "  </thead>\n",
              "  <tbody>\n",
              "    <tr>\n",
              "      <th>0</th>\n",
              "      <td>5.0</td>\n",
              "      <td>2008-09-29 09:33:04</td>\n",
              "      <td>its the best pizza hut i'v found in florida al...</td>\n",
              "      <td>Pizza Hut</td>\n",
              "      <td>Orlando</td>\n",
              "      <td>FL</td>\n",
              "      <td>32819</td>\n",
              "      <td>3.5</td>\n",
              "      <td>[its, the, best, pizza, hut, find, florida, al...</td>\n",
              "    </tr>\n",
              "    <tr>\n",
              "      <th>1</th>\n",
              "      <td>3.0</td>\n",
              "      <td>2013-12-06 23:22:26</td>\n",
              "      <td>This place is an interesting combo. The chef, ...</td>\n",
              "      <td>La Mongerie Bakery &amp; Bistro</td>\n",
              "      <td>Atlanta</td>\n",
              "      <td>GA</td>\n",
              "      <td>30308</td>\n",
              "      <td>3.0</td>\n",
              "      <td>[this, place, interesting, combo, the, chef, d...</td>\n",
              "    </tr>\n",
              "    <tr>\n",
              "      <th>2</th>\n",
              "      <td>5.0</td>\n",
              "      <td>2008-11-16 09:44:04</td>\n",
              "      <td>Pizza Hut is great! You get huge pizzas for yo...</td>\n",
              "      <td>Pizza Hut</td>\n",
              "      <td>Orlando</td>\n",
              "      <td>FL</td>\n",
              "      <td>32819</td>\n",
              "      <td>3.5</td>\n",
              "      <td>[pizza, hut, great, you, get, huge, pizza, for...</td>\n",
              "    </tr>\n",
              "    <tr>\n",
              "      <th>3</th>\n",
              "      <td>5.0</td>\n",
              "      <td>2016-04-11 17:00:34</td>\n",
              "      <td>Always a great place to taste some tea with fr...</td>\n",
              "      <td>Teavana</td>\n",
              "      <td>Atlanta</td>\n",
              "      <td>GA</td>\n",
              "      <td>30326</td>\n",
              "      <td>3.0</td>\n",
              "      <td>[always, great, place, taste, some, tea, with,...</td>\n",
              "    </tr>\n",
              "    <tr>\n",
              "      <th>4</th>\n",
              "      <td>4.0</td>\n",
              "      <td>2015-05-26 06:47:56</td>\n",
              "      <td>Delish! Stopped in on a random Sunday and so g...</td>\n",
              "      <td>Native Foods Cafe</td>\n",
              "      <td>Happy Valley</td>\n",
              "      <td>OR</td>\n",
              "      <td>97086</td>\n",
              "      <td>4.5</td>\n",
              "      <td>[delish, stopped, random, sunday, and, glad, n...</td>\n",
              "    </tr>\n",
              "  </tbody>\n",
              "</table>\n",
              "</div>\n",
              "    <div class=\"colab-df-buttons\">\n",
              "\n",
              "  <div class=\"colab-df-container\">\n",
              "    <button class=\"colab-df-convert\" onclick=\"convertToInteractive('df-88da0663-f129-4427-afcb-bca41e61a76a')\"\n",
              "            title=\"Convert this dataframe to an interactive table.\"\n",
              "            style=\"display:none;\">\n",
              "\n",
              "  <svg xmlns=\"http://www.w3.org/2000/svg\" height=\"24px\" viewBox=\"0 -960 960 960\">\n",
              "    <path d=\"M120-120v-720h720v720H120Zm60-500h600v-160H180v160Zm220 220h160v-160H400v160Zm0 220h160v-160H400v160ZM180-400h160v-160H180v160Zm440 0h160v-160H620v160ZM180-180h160v-160H180v160Zm440 0h160v-160H620v160Z\"/>\n",
              "  </svg>\n",
              "    </button>\n",
              "\n",
              "  <style>\n",
              "    .colab-df-container {\n",
              "      display:flex;\n",
              "      gap: 12px;\n",
              "    }\n",
              "\n",
              "    .colab-df-convert {\n",
              "      background-color: #E8F0FE;\n",
              "      border: none;\n",
              "      border-radius: 50%;\n",
              "      cursor: pointer;\n",
              "      display: none;\n",
              "      fill: #1967D2;\n",
              "      height: 32px;\n",
              "      padding: 0 0 0 0;\n",
              "      width: 32px;\n",
              "    }\n",
              "\n",
              "    .colab-df-convert:hover {\n",
              "      background-color: #E2EBFA;\n",
              "      box-shadow: 0px 1px 2px rgba(60, 64, 67, 0.3), 0px 1px 3px 1px rgba(60, 64, 67, 0.15);\n",
              "      fill: #174EA6;\n",
              "    }\n",
              "\n",
              "    .colab-df-buttons div {\n",
              "      margin-bottom: 4px;\n",
              "    }\n",
              "\n",
              "    [theme=dark] .colab-df-convert {\n",
              "      background-color: #3B4455;\n",
              "      fill: #D2E3FC;\n",
              "    }\n",
              "\n",
              "    [theme=dark] .colab-df-convert:hover {\n",
              "      background-color: #434B5C;\n",
              "      box-shadow: 0px 1px 3px 1px rgba(0, 0, 0, 0.15);\n",
              "      filter: drop-shadow(0px 1px 2px rgba(0, 0, 0, 0.3));\n",
              "      fill: #FFFFFF;\n",
              "    }\n",
              "  </style>\n",
              "\n",
              "    <script>\n",
              "      const buttonEl =\n",
              "        document.querySelector('#df-88da0663-f129-4427-afcb-bca41e61a76a button.colab-df-convert');\n",
              "      buttonEl.style.display =\n",
              "        google.colab.kernel.accessAllowed ? 'block' : 'none';\n",
              "\n",
              "      async function convertToInteractive(key) {\n",
              "        const element = document.querySelector('#df-88da0663-f129-4427-afcb-bca41e61a76a');\n",
              "        const dataTable =\n",
              "          await google.colab.kernel.invokeFunction('convertToInteractive',\n",
              "                                                    [key], {});\n",
              "        if (!dataTable) return;\n",
              "\n",
              "        const docLinkHtml = 'Like what you see? Visit the ' +\n",
              "          '<a target=\"_blank\" href=https://colab.research.google.com/notebooks/data_table.ipynb>data table notebook</a>'\n",
              "          + ' to learn more about interactive tables.';\n",
              "        element.innerHTML = '';\n",
              "        dataTable['output_type'] = 'display_data';\n",
              "        await google.colab.output.renderOutput(dataTable, element);\n",
              "        const docLink = document.createElement('div');\n",
              "        docLink.innerHTML = docLinkHtml;\n",
              "        element.appendChild(docLink);\n",
              "      }\n",
              "    </script>\n",
              "  </div>\n",
              "\n",
              "\n",
              "<div id=\"df-485c25be-22b1-4cc0-9a98-cc5f24eb66b2\">\n",
              "  <button class=\"colab-df-quickchart\" onclick=\"quickchart('df-485c25be-22b1-4cc0-9a98-cc5f24eb66b2')\"\n",
              "            title=\"Suggest charts\"\n",
              "            style=\"display:none;\">\n",
              "\n",
              "<svg xmlns=\"http://www.w3.org/2000/svg\" height=\"24px\"viewBox=\"0 0 24 24\"\n",
              "     width=\"24px\">\n",
              "    <g>\n",
              "        <path d=\"M19 3H5c-1.1 0-2 .9-2 2v14c0 1.1.9 2 2 2h14c1.1 0 2-.9 2-2V5c0-1.1-.9-2-2-2zM9 17H7v-7h2v7zm4 0h-2V7h2v10zm4 0h-2v-4h2v4z\"/>\n",
              "    </g>\n",
              "</svg>\n",
              "  </button>\n",
              "\n",
              "<style>\n",
              "  .colab-df-quickchart {\n",
              "      --bg-color: #E8F0FE;\n",
              "      --fill-color: #1967D2;\n",
              "      --hover-bg-color: #E2EBFA;\n",
              "      --hover-fill-color: #174EA6;\n",
              "      --disabled-fill-color: #AAA;\n",
              "      --disabled-bg-color: #DDD;\n",
              "  }\n",
              "\n",
              "  [theme=dark] .colab-df-quickchart {\n",
              "      --bg-color: #3B4455;\n",
              "      --fill-color: #D2E3FC;\n",
              "      --hover-bg-color: #434B5C;\n",
              "      --hover-fill-color: #FFFFFF;\n",
              "      --disabled-bg-color: #3B4455;\n",
              "      --disabled-fill-color: #666;\n",
              "  }\n",
              "\n",
              "  .colab-df-quickchart {\n",
              "    background-color: var(--bg-color);\n",
              "    border: none;\n",
              "    border-radius: 50%;\n",
              "    cursor: pointer;\n",
              "    display: none;\n",
              "    fill: var(--fill-color);\n",
              "    height: 32px;\n",
              "    padding: 0;\n",
              "    width: 32px;\n",
              "  }\n",
              "\n",
              "  .colab-df-quickchart:hover {\n",
              "    background-color: var(--hover-bg-color);\n",
              "    box-shadow: 0 1px 2px rgba(60, 64, 67, 0.3), 0 1px 3px 1px rgba(60, 64, 67, 0.15);\n",
              "    fill: var(--button-hover-fill-color);\n",
              "  }\n",
              "\n",
              "  .colab-df-quickchart-complete:disabled,\n",
              "  .colab-df-quickchart-complete:disabled:hover {\n",
              "    background-color: var(--disabled-bg-color);\n",
              "    fill: var(--disabled-fill-color);\n",
              "    box-shadow: none;\n",
              "  }\n",
              "\n",
              "  .colab-df-spinner {\n",
              "    border: 2px solid var(--fill-color);\n",
              "    border-color: transparent;\n",
              "    border-bottom-color: var(--fill-color);\n",
              "    animation:\n",
              "      spin 1s steps(1) infinite;\n",
              "  }\n",
              "\n",
              "  @keyframes spin {\n",
              "    0% {\n",
              "      border-color: transparent;\n",
              "      border-bottom-color: var(--fill-color);\n",
              "      border-left-color: var(--fill-color);\n",
              "    }\n",
              "    20% {\n",
              "      border-color: transparent;\n",
              "      border-left-color: var(--fill-color);\n",
              "      border-top-color: var(--fill-color);\n",
              "    }\n",
              "    30% {\n",
              "      border-color: transparent;\n",
              "      border-left-color: var(--fill-color);\n",
              "      border-top-color: var(--fill-color);\n",
              "      border-right-color: var(--fill-color);\n",
              "    }\n",
              "    40% {\n",
              "      border-color: transparent;\n",
              "      border-right-color: var(--fill-color);\n",
              "      border-top-color: var(--fill-color);\n",
              "    }\n",
              "    60% {\n",
              "      border-color: transparent;\n",
              "      border-right-color: var(--fill-color);\n",
              "    }\n",
              "    80% {\n",
              "      border-color: transparent;\n",
              "      border-right-color: var(--fill-color);\n",
              "      border-bottom-color: var(--fill-color);\n",
              "    }\n",
              "    90% {\n",
              "      border-color: transparent;\n",
              "      border-bottom-color: var(--fill-color);\n",
              "    }\n",
              "  }\n",
              "</style>\n",
              "\n",
              "  <script>\n",
              "    async function quickchart(key) {\n",
              "      const quickchartButtonEl =\n",
              "        document.querySelector('#' + key + ' button');\n",
              "      quickchartButtonEl.disabled = true;  // To prevent multiple clicks.\n",
              "      quickchartButtonEl.classList.add('colab-df-spinner');\n",
              "      try {\n",
              "        const charts = await google.colab.kernel.invokeFunction(\n",
              "            'suggestCharts', [key], {});\n",
              "      } catch (error) {\n",
              "        console.error('Error during call to suggestCharts:', error);\n",
              "      }\n",
              "      quickchartButtonEl.classList.remove('colab-df-spinner');\n",
              "      quickchartButtonEl.classList.add('colab-df-quickchart-complete');\n",
              "    }\n",
              "    (() => {\n",
              "      let quickchartButtonEl =\n",
              "        document.querySelector('#df-485c25be-22b1-4cc0-9a98-cc5f24eb66b2 button');\n",
              "      quickchartButtonEl.style.display =\n",
              "        google.colab.kernel.accessAllowed ? 'block' : 'none';\n",
              "    })();\n",
              "  </script>\n",
              "</div>\n",
              "\n",
              "    </div>\n",
              "  </div>\n"
            ],
            "text/plain": [
              "   Rating                 Date  \\\n",
              "0     5.0  2008-09-29 09:33:04   \n",
              "1     3.0  2013-12-06 23:22:26   \n",
              "2     5.0  2008-11-16 09:44:04   \n",
              "3     5.0  2016-04-11 17:00:34   \n",
              "4     4.0  2015-05-26 06:47:56   \n",
              "\n",
              "                                              Review  \\\n",
              "0  its the best pizza hut i'v found in florida al...   \n",
              "1  This place is an interesting combo. The chef, ...   \n",
              "2  Pizza Hut is great! You get huge pizzas for yo...   \n",
              "3  Always a great place to taste some tea with fr...   \n",
              "4  Delish! Stopped in on a random Sunday and so g...   \n",
              "\n",
              "                      Business          City State    Zip  \\\n",
              "0                    Pizza Hut       Orlando    FL  32819   \n",
              "1  La Mongerie Bakery & Bistro       Atlanta    GA  30308   \n",
              "2                    Pizza Hut       Orlando    FL  32819   \n",
              "3                      Teavana       Atlanta    GA  30326   \n",
              "4            Native Foods Cafe  Happy Valley    OR  97086   \n",
              "\n",
              "   Business Rating Score                                     Cleaned Review  \n",
              "0                    3.5  [its, the, best, pizza, hut, find, florida, al...  \n",
              "1                    3.0  [this, place, interesting, combo, the, chef, d...  \n",
              "2                    3.5  [pizza, hut, great, you, get, huge, pizza, for...  \n",
              "3                    3.0  [always, great, place, taste, some, tea, with,...  \n",
              "4                    4.5  [delish, stopped, random, sunday, and, glad, n...  "
            ]
          },
          "execution_count": 20,
          "metadata": {},
          "output_type": "execute_result"
        }
      ],
      "source": [
        "# Check tokenization\n",
        "reviews.head()"
      ]
    },
    {
      "cell_type": "markdown",
      "metadata": {
        "id": "vfWVnO94wot_"
      },
      "source": [
        "### Normalize"
      ]
    },
    {
      "cell_type": "markdown",
      "metadata": {
        "id": "OK5qUZUgtc4Z"
      },
      "source": [
        "(make sure removed digits and punctuation)"
      ]
    },
    {
      "cell_type": "code",
      "execution_count": null,
      "metadata": {
        "id": "2np4p5tnRr_y"
      },
      "outputs": [],
      "source": [
        "def normalize_tokens(tokens):\n",
        "  normalized_tokens = []\n",
        "\n",
        "  for token in tokens:\n",
        "      if isinstance(token, str):\n",
        "\n",
        "        # Remove digits and punctuation\n",
        "        token = re.sub(r'[\\d\\W]+', '', token)\n",
        "\n",
        "        # Append the token\n",
        "        normalized_tokens.append(token)\n",
        "\n",
        "  return normalized_tokens"
      ]
    },
    {
      "cell_type": "code",
      "execution_count": null,
      "metadata": {
        "colab": {
          "base_uri": "https://localhost:8080/"
        },
        "id": "eiRn-YKPSr0a",
        "outputId": "fee46500-f7fa-4e45-ebf1-d4727c9c808f"
      },
      "outputs": [
        {
          "name": "stdout",
          "output_type": "stream",
          "text": [
            "['shame', 'for', 'take', 'long', 'get', 'here', 'walk', 'notice', 'sign', 'say', 'sue', 'say', 'already', 'like', 'this', 'place', 'woman', 'take', 'order', 'ask', 'she', 'the', 'famous', 'sue', 'she', 'say', 'sue', 'but', 'not', 'not', 'famous', 'get', 'hot', 'italian', 'perfect', 'like', 'the', 'bun', 'little', 'toasted', 'not', 'get', 'soggy', 'with', 'the', 'oil', 'will', 'back']\n",
            "----------------------------------------------------------------------\n",
            "['shame', 'for', 'take', 'long', 'get', 'here', 'walk', 'notice', 'sign', 'say', 'sue', 'say', 'already', 'like', 'this', 'place', 'woman', 'take', 'order', 'ask', 'she', 'the', 'famous', 'sue', 'she', 'say', 'sue', 'but', 'not', 'not', 'famous', 'get', 'hot', 'italian', 'perfect', 'like', 'the', 'bun', 'little', 'toasted', 'not', 'get', 'soggy', 'with', 'the', 'oil', 'will', 'back']\n"
          ]
        }
      ],
      "source": [
        "# Test the normalization\n",
        "column = reviews['Cleaned Review']\n",
        "test = column[10]\n",
        "print(test)\n",
        "print(\"----------------------------------------------------------------------\")\n",
        "print(normalize_tokens(test))"
      ]
    },
    {
      "cell_type": "code",
      "execution_count": null,
      "metadata": {
        "id": "2exeh8eJSzve"
      },
      "outputs": [],
      "source": [
        "# Apply normalization to the DataFrame\n",
        "reviews['Cleaned Review'] = reviews['Cleaned Review'].apply(normalize_tokens)"
      ]
    },
    {
      "cell_type": "code",
      "execution_count": null,
      "metadata": {
        "colab": {
          "base_uri": "https://localhost:8080/",
          "height": 206
        },
        "id": "ClTijhPiSzvf",
        "outputId": "c0931fca-444e-47a3-f3f7-2f4429a4d418"
      },
      "outputs": [
        {
          "data": {
            "application/vnd.google.colaboratory.intrinsic+json": {
              "summary": "{\n  \"name\": \"reviews\",\n  \"rows\": 63213,\n  \"fields\": [\n    {\n      \"column\": \"Rating\",\n      \"properties\": {\n        \"dtype\": \"number\",\n        \"std\": 1.4947922894256092,\n        \"min\": 1.0,\n        \"max\": 5.0,\n        \"num_unique_values\": 5,\n        \"samples\": [\n          3.0,\n          1.0,\n          4.0\n        ],\n        \"semantic_type\": \"\",\n        \"description\": \"\"\n      }\n    },\n    {\n      \"column\": \"Date\",\n      \"properties\": {\n        \"dtype\": \"object\",\n        \"num_unique_values\": 63200,\n        \"samples\": [\n          \"2019-07-02 14:02:07\",\n          \"2012-10-11 18:12:34\",\n          \"2015-07-08 02:28:45\"\n        ],\n        \"semantic_type\": \"\",\n        \"description\": \"\"\n      }\n    },\n    {\n      \"column\": \"Review\",\n      \"properties\": {\n        \"dtype\": \"string\",\n        \"num_unique_values\": 63102,\n        \"samples\": [\n          \"This place was recommended by friends so I stopped in for lunch on a Sunday.  Caprese panino was great and the atmosphere was very nice.  Got an espresso after the sandwich and the quality of the coffee was excellent!  I highly recommend this place for coffee lovers.  They have a drive thru too!\",\n          \"Great new little place with hints of Japanese and Nepali cultures. The chef was very friendly and his food was as good to match. The onigiri was warm but not too hot; good stickyness level. My momo soup was very tasty, I added siracha to make it a little more spicy; everything was made fresh to order and was great!\",\n          \"The food we had was definitely premade in bulk... Not authentic. Service was ok.\"\n        ],\n        \"semantic_type\": \"\",\n        \"description\": \"\"\n      }\n    },\n    {\n      \"column\": \"Business\",\n      \"properties\": {\n        \"dtype\": \"category\",\n        \"num_unique_values\": 965,\n        \"samples\": [\n          \"BIBIBOP Asian Grill\",\n          \"Austin Eastciders - Barton Springs\",\n          \"Cast Iron\"\n        ],\n        \"semantic_type\": \"\",\n        \"description\": \"\"\n      }\n    },\n    {\n      \"column\": \"City\",\n      \"properties\": {\n        \"dtype\": \"category\",\n        \"num_unique_values\": 161,\n        \"samples\": [\n          \"Groveport\",\n          \"Louisville\",\n          \"Watertown\"\n        ],\n        \"semantic_type\": \"\",\n        \"description\": \"\"\n      }\n    },\n    {\n      \"column\": \"State\",\n      \"properties\": {\n        \"dtype\": \"category\",\n        \"num_unique_values\": 9,\n        \"samples\": [\n          \"CO\",\n          \"GA\",\n          \"TX\"\n        ],\n        \"semantic_type\": \"\",\n        \"description\": \"\"\n      }\n    },\n    {\n      \"column\": \"Zip\",\n      \"properties\": {\n        \"dtype\": \"category\",\n        \"num_unique_values\": 459,\n        \"samples\": [\n          \"30341\",\n          \"02119\",\n          \"02140\"\n        ],\n        \"semantic_type\": \"\",\n        \"description\": \"\"\n      }\n    },\n    {\n      \"column\": \"Business Rating Score\",\n      \"properties\": {\n        \"dtype\": \"number\",\n        \"std\": 0.7413209609467051,\n        \"min\": 1.0,\n        \"max\": 5.0,\n        \"num_unique_values\": 9,\n        \"samples\": [\n          1.5,\n          3.0,\n          2.0\n        ],\n        \"semantic_type\": \"\",\n        \"description\": \"\"\n      }\n    },\n    {\n      \"column\": \"Cleaned Review\",\n      \"properties\": {\n        \"dtype\": \"object\",\n        \"semantic_type\": \"\",\n        \"description\": \"\"\n      }\n    }\n  ]\n}",
              "type": "dataframe",
              "variable_name": "reviews"
            },
            "text/html": [
              "\n",
              "  <div id=\"df-74cf40a6-46c5-4830-bd2a-d0bbc482787a\" class=\"colab-df-container\">\n",
              "    <div>\n",
              "<style scoped>\n",
              "    .dataframe tbody tr th:only-of-type {\n",
              "        vertical-align: middle;\n",
              "    }\n",
              "\n",
              "    .dataframe tbody tr th {\n",
              "        vertical-align: top;\n",
              "    }\n",
              "\n",
              "    .dataframe thead th {\n",
              "        text-align: right;\n",
              "    }\n",
              "</style>\n",
              "<table border=\"1\" class=\"dataframe\">\n",
              "  <thead>\n",
              "    <tr style=\"text-align: right;\">\n",
              "      <th></th>\n",
              "      <th>Rating</th>\n",
              "      <th>Date</th>\n",
              "      <th>Review</th>\n",
              "      <th>Business</th>\n",
              "      <th>City</th>\n",
              "      <th>State</th>\n",
              "      <th>Zip</th>\n",
              "      <th>Business Rating Score</th>\n",
              "      <th>Cleaned Review</th>\n",
              "    </tr>\n",
              "  </thead>\n",
              "  <tbody>\n",
              "    <tr>\n",
              "      <th>0</th>\n",
              "      <td>5.0</td>\n",
              "      <td>2008-09-29 09:33:04</td>\n",
              "      <td>its the best pizza hut i'v found in florida al...</td>\n",
              "      <td>Pizza Hut</td>\n",
              "      <td>Orlando</td>\n",
              "      <td>FL</td>\n",
              "      <td>32819</td>\n",
              "      <td>3.5</td>\n",
              "      <td>[its, the, best, pizza, hut, find, florida, al...</td>\n",
              "    </tr>\n",
              "    <tr>\n",
              "      <th>1</th>\n",
              "      <td>3.0</td>\n",
              "      <td>2013-12-06 23:22:26</td>\n",
              "      <td>This place is an interesting combo. The chef, ...</td>\n",
              "      <td>La Mongerie Bakery &amp; Bistro</td>\n",
              "      <td>Atlanta</td>\n",
              "      <td>GA</td>\n",
              "      <td>30308</td>\n",
              "      <td>3.0</td>\n",
              "      <td>[this, place, interesting, combo, the, chef, d...</td>\n",
              "    </tr>\n",
              "    <tr>\n",
              "      <th>2</th>\n",
              "      <td>5.0</td>\n",
              "      <td>2008-11-16 09:44:04</td>\n",
              "      <td>Pizza Hut is great! You get huge pizzas for yo...</td>\n",
              "      <td>Pizza Hut</td>\n",
              "      <td>Orlando</td>\n",
              "      <td>FL</td>\n",
              "      <td>32819</td>\n",
              "      <td>3.5</td>\n",
              "      <td>[pizza, hut, great, you, get, huge, pizza, for...</td>\n",
              "    </tr>\n",
              "    <tr>\n",
              "      <th>3</th>\n",
              "      <td>5.0</td>\n",
              "      <td>2016-04-11 17:00:34</td>\n",
              "      <td>Always a great place to taste some tea with fr...</td>\n",
              "      <td>Teavana</td>\n",
              "      <td>Atlanta</td>\n",
              "      <td>GA</td>\n",
              "      <td>30326</td>\n",
              "      <td>3.0</td>\n",
              "      <td>[always, great, place, taste, some, tea, with,...</td>\n",
              "    </tr>\n",
              "    <tr>\n",
              "      <th>4</th>\n",
              "      <td>4.0</td>\n",
              "      <td>2015-05-26 06:47:56</td>\n",
              "      <td>Delish! Stopped in on a random Sunday and so g...</td>\n",
              "      <td>Native Foods Cafe</td>\n",
              "      <td>Happy Valley</td>\n",
              "      <td>OR</td>\n",
              "      <td>97086</td>\n",
              "      <td>4.5</td>\n",
              "      <td>[delish, stopped, random, sunday, and, glad, n...</td>\n",
              "    </tr>\n",
              "  </tbody>\n",
              "</table>\n",
              "</div>\n",
              "    <div class=\"colab-df-buttons\">\n",
              "\n",
              "  <div class=\"colab-df-container\">\n",
              "    <button class=\"colab-df-convert\" onclick=\"convertToInteractive('df-74cf40a6-46c5-4830-bd2a-d0bbc482787a')\"\n",
              "            title=\"Convert this dataframe to an interactive table.\"\n",
              "            style=\"display:none;\">\n",
              "\n",
              "  <svg xmlns=\"http://www.w3.org/2000/svg\" height=\"24px\" viewBox=\"0 -960 960 960\">\n",
              "    <path d=\"M120-120v-720h720v720H120Zm60-500h600v-160H180v160Zm220 220h160v-160H400v160Zm0 220h160v-160H400v160ZM180-400h160v-160H180v160Zm440 0h160v-160H620v160ZM180-180h160v-160H180v160Zm440 0h160v-160H620v160Z\"/>\n",
              "  </svg>\n",
              "    </button>\n",
              "\n",
              "  <style>\n",
              "    .colab-df-container {\n",
              "      display:flex;\n",
              "      gap: 12px;\n",
              "    }\n",
              "\n",
              "    .colab-df-convert {\n",
              "      background-color: #E8F0FE;\n",
              "      border: none;\n",
              "      border-radius: 50%;\n",
              "      cursor: pointer;\n",
              "      display: none;\n",
              "      fill: #1967D2;\n",
              "      height: 32px;\n",
              "      padding: 0 0 0 0;\n",
              "      width: 32px;\n",
              "    }\n",
              "\n",
              "    .colab-df-convert:hover {\n",
              "      background-color: #E2EBFA;\n",
              "      box-shadow: 0px 1px 2px rgba(60, 64, 67, 0.3), 0px 1px 3px 1px rgba(60, 64, 67, 0.15);\n",
              "      fill: #174EA6;\n",
              "    }\n",
              "\n",
              "    .colab-df-buttons div {\n",
              "      margin-bottom: 4px;\n",
              "    }\n",
              "\n",
              "    [theme=dark] .colab-df-convert {\n",
              "      background-color: #3B4455;\n",
              "      fill: #D2E3FC;\n",
              "    }\n",
              "\n",
              "    [theme=dark] .colab-df-convert:hover {\n",
              "      background-color: #434B5C;\n",
              "      box-shadow: 0px 1px 3px 1px rgba(0, 0, 0, 0.15);\n",
              "      filter: drop-shadow(0px 1px 2px rgba(0, 0, 0, 0.3));\n",
              "      fill: #FFFFFF;\n",
              "    }\n",
              "  </style>\n",
              "\n",
              "    <script>\n",
              "      const buttonEl =\n",
              "        document.querySelector('#df-74cf40a6-46c5-4830-bd2a-d0bbc482787a button.colab-df-convert');\n",
              "      buttonEl.style.display =\n",
              "        google.colab.kernel.accessAllowed ? 'block' : 'none';\n",
              "\n",
              "      async function convertToInteractive(key) {\n",
              "        const element = document.querySelector('#df-74cf40a6-46c5-4830-bd2a-d0bbc482787a');\n",
              "        const dataTable =\n",
              "          await google.colab.kernel.invokeFunction('convertToInteractive',\n",
              "                                                    [key], {});\n",
              "        if (!dataTable) return;\n",
              "\n",
              "        const docLinkHtml = 'Like what you see? Visit the ' +\n",
              "          '<a target=\"_blank\" href=https://colab.research.google.com/notebooks/data_table.ipynb>data table notebook</a>'\n",
              "          + ' to learn more about interactive tables.';\n",
              "        element.innerHTML = '';\n",
              "        dataTable['output_type'] = 'display_data';\n",
              "        await google.colab.output.renderOutput(dataTable, element);\n",
              "        const docLink = document.createElement('div');\n",
              "        docLink.innerHTML = docLinkHtml;\n",
              "        element.appendChild(docLink);\n",
              "      }\n",
              "    </script>\n",
              "  </div>\n",
              "\n",
              "\n",
              "<div id=\"df-b9fe59bd-68e4-486a-b76c-3046ec7bc411\">\n",
              "  <button class=\"colab-df-quickchart\" onclick=\"quickchart('df-b9fe59bd-68e4-486a-b76c-3046ec7bc411')\"\n",
              "            title=\"Suggest charts\"\n",
              "            style=\"display:none;\">\n",
              "\n",
              "<svg xmlns=\"http://www.w3.org/2000/svg\" height=\"24px\"viewBox=\"0 0 24 24\"\n",
              "     width=\"24px\">\n",
              "    <g>\n",
              "        <path d=\"M19 3H5c-1.1 0-2 .9-2 2v14c0 1.1.9 2 2 2h14c1.1 0 2-.9 2-2V5c0-1.1-.9-2-2-2zM9 17H7v-7h2v7zm4 0h-2V7h2v10zm4 0h-2v-4h2v4z\"/>\n",
              "    </g>\n",
              "</svg>\n",
              "  </button>\n",
              "\n",
              "<style>\n",
              "  .colab-df-quickchart {\n",
              "      --bg-color: #E8F0FE;\n",
              "      --fill-color: #1967D2;\n",
              "      --hover-bg-color: #E2EBFA;\n",
              "      --hover-fill-color: #174EA6;\n",
              "      --disabled-fill-color: #AAA;\n",
              "      --disabled-bg-color: #DDD;\n",
              "  }\n",
              "\n",
              "  [theme=dark] .colab-df-quickchart {\n",
              "      --bg-color: #3B4455;\n",
              "      --fill-color: #D2E3FC;\n",
              "      --hover-bg-color: #434B5C;\n",
              "      --hover-fill-color: #FFFFFF;\n",
              "      --disabled-bg-color: #3B4455;\n",
              "      --disabled-fill-color: #666;\n",
              "  }\n",
              "\n",
              "  .colab-df-quickchart {\n",
              "    background-color: var(--bg-color);\n",
              "    border: none;\n",
              "    border-radius: 50%;\n",
              "    cursor: pointer;\n",
              "    display: none;\n",
              "    fill: var(--fill-color);\n",
              "    height: 32px;\n",
              "    padding: 0;\n",
              "    width: 32px;\n",
              "  }\n",
              "\n",
              "  .colab-df-quickchart:hover {\n",
              "    background-color: var(--hover-bg-color);\n",
              "    box-shadow: 0 1px 2px rgba(60, 64, 67, 0.3), 0 1px 3px 1px rgba(60, 64, 67, 0.15);\n",
              "    fill: var(--button-hover-fill-color);\n",
              "  }\n",
              "\n",
              "  .colab-df-quickchart-complete:disabled,\n",
              "  .colab-df-quickchart-complete:disabled:hover {\n",
              "    background-color: var(--disabled-bg-color);\n",
              "    fill: var(--disabled-fill-color);\n",
              "    box-shadow: none;\n",
              "  }\n",
              "\n",
              "  .colab-df-spinner {\n",
              "    border: 2px solid var(--fill-color);\n",
              "    border-color: transparent;\n",
              "    border-bottom-color: var(--fill-color);\n",
              "    animation:\n",
              "      spin 1s steps(1) infinite;\n",
              "  }\n",
              "\n",
              "  @keyframes spin {\n",
              "    0% {\n",
              "      border-color: transparent;\n",
              "      border-bottom-color: var(--fill-color);\n",
              "      border-left-color: var(--fill-color);\n",
              "    }\n",
              "    20% {\n",
              "      border-color: transparent;\n",
              "      border-left-color: var(--fill-color);\n",
              "      border-top-color: var(--fill-color);\n",
              "    }\n",
              "    30% {\n",
              "      border-color: transparent;\n",
              "      border-left-color: var(--fill-color);\n",
              "      border-top-color: var(--fill-color);\n",
              "      border-right-color: var(--fill-color);\n",
              "    }\n",
              "    40% {\n",
              "      border-color: transparent;\n",
              "      border-right-color: var(--fill-color);\n",
              "      border-top-color: var(--fill-color);\n",
              "    }\n",
              "    60% {\n",
              "      border-color: transparent;\n",
              "      border-right-color: var(--fill-color);\n",
              "    }\n",
              "    80% {\n",
              "      border-color: transparent;\n",
              "      border-right-color: var(--fill-color);\n",
              "      border-bottom-color: var(--fill-color);\n",
              "    }\n",
              "    90% {\n",
              "      border-color: transparent;\n",
              "      border-bottom-color: var(--fill-color);\n",
              "    }\n",
              "  }\n",
              "</style>\n",
              "\n",
              "  <script>\n",
              "    async function quickchart(key) {\n",
              "      const quickchartButtonEl =\n",
              "        document.querySelector('#' + key + ' button');\n",
              "      quickchartButtonEl.disabled = true;  // To prevent multiple clicks.\n",
              "      quickchartButtonEl.classList.add('colab-df-spinner');\n",
              "      try {\n",
              "        const charts = await google.colab.kernel.invokeFunction(\n",
              "            'suggestCharts', [key], {});\n",
              "      } catch (error) {\n",
              "        console.error('Error during call to suggestCharts:', error);\n",
              "      }\n",
              "      quickchartButtonEl.classList.remove('colab-df-spinner');\n",
              "      quickchartButtonEl.classList.add('colab-df-quickchart-complete');\n",
              "    }\n",
              "    (() => {\n",
              "      let quickchartButtonEl =\n",
              "        document.querySelector('#df-b9fe59bd-68e4-486a-b76c-3046ec7bc411 button');\n",
              "      quickchartButtonEl.style.display =\n",
              "        google.colab.kernel.accessAllowed ? 'block' : 'none';\n",
              "    })();\n",
              "  </script>\n",
              "</div>\n",
              "\n",
              "    </div>\n",
              "  </div>\n"
            ],
            "text/plain": [
              "   Rating                 Date  \\\n",
              "0     5.0  2008-09-29 09:33:04   \n",
              "1     3.0  2013-12-06 23:22:26   \n",
              "2     5.0  2008-11-16 09:44:04   \n",
              "3     5.0  2016-04-11 17:00:34   \n",
              "4     4.0  2015-05-26 06:47:56   \n",
              "\n",
              "                                              Review  \\\n",
              "0  its the best pizza hut i'v found in florida al...   \n",
              "1  This place is an interesting combo. The chef, ...   \n",
              "2  Pizza Hut is great! You get huge pizzas for yo...   \n",
              "3  Always a great place to taste some tea with fr...   \n",
              "4  Delish! Stopped in on a random Sunday and so g...   \n",
              "\n",
              "                      Business          City State    Zip  \\\n",
              "0                    Pizza Hut       Orlando    FL  32819   \n",
              "1  La Mongerie Bakery & Bistro       Atlanta    GA  30308   \n",
              "2                    Pizza Hut       Orlando    FL  32819   \n",
              "3                      Teavana       Atlanta    GA  30326   \n",
              "4            Native Foods Cafe  Happy Valley    OR  97086   \n",
              "\n",
              "   Business Rating Score                                     Cleaned Review  \n",
              "0                    3.5  [its, the, best, pizza, hut, find, florida, al...  \n",
              "1                    3.0  [this, place, interesting, combo, the, chef, d...  \n",
              "2                    3.5  [pizza, hut, great, you, get, huge, pizza, for...  \n",
              "3                    3.0  [always, great, place, taste, some, tea, with,...  \n",
              "4                    4.5  [delish, stopped, random, sunday, and, glad, n...  "
            ]
          },
          "execution_count": 34,
          "metadata": {},
          "output_type": "execute_result"
        }
      ],
      "source": [
        "# Check normalization\n",
        "reviews.head()"
      ]
    },
    {
      "cell_type": "markdown",
      "metadata": {
        "id": "so4wN3si4LTR"
      },
      "source": [
        "### Build Corpus"
      ]
    },
    {
      "cell_type": "code",
      "execution_count": null,
      "metadata": {
        "id": "hpAELQ9W4O8y"
      },
      "outputs": [],
      "source": [
        "# Use actual reviews to make corpus\n",
        "review_column = reviews['Cleaned Review']"
      ]
    },
    {
      "cell_type": "code",
      "execution_count": null,
      "metadata": {
        "id": "-vsY1fbWWnZy"
      },
      "outputs": [],
      "source": [
        "# Convert string representations of lists back to actual lists\n",
        "review_column = review_column.apply(ast.literal_eval)"
      ]
    },
    {
      "cell_type": "code",
      "execution_count": null,
      "metadata": {
        "colab": {
          "base_uri": "https://localhost:8080/"
        },
        "id": "ZQu3qXIvWXjE",
        "outputId": "fd3fc7eb-fc70-4a84-80c2-a8108f384845"
      },
      "outputs": [
        {
          "data": {
            "text/plain": [
              "0    [its, the, best, pizza, hut, find, florida, al...\n",
              "1    [this, place, interesting, combo, the, chef, d...\n",
              "2    [pizza, hut, great, you, get, huge, pizza, for...\n",
              "3    [always, great, place, taste, some, tea, with,...\n",
              "4    [delish, stopped, random, sunday, and, glad, n...\n",
              "Name: Cleaned Review, dtype: object"
            ]
          },
          "execution_count": 56,
          "metadata": {},
          "output_type": "execute_result"
        }
      ],
      "source": [
        "# Check conversion\n",
        "review_column.head()"
      ]
    },
    {
      "cell_type": "code",
      "execution_count": null,
      "metadata": {
        "id": "D818lBVJ4KZy"
      },
      "outputs": [],
      "source": [
        "# Build the bigram model\n",
        "bigram = Phrases(review_column, min_count=1, threshold=2)\n",
        "bigram_mod = Phraser(bigram)\n",
        "\n",
        "# Apply the bigram model to the reviews\n",
        "bigram_reviews = [bigram_mod[review] for review in review_column]"
      ]
    },
    {
      "cell_type": "code",
      "execution_count": null,
      "metadata": {
        "colab": {
          "base_uri": "https://localhost:8080/"
        },
        "id": "FM7MmLihU3iF",
        "outputId": "ee515ac7-d602-4b36-913e-f35b393fb122"
      },
      "outputs": [
        {
          "name": "stdout",
          "output_type": "stream",
          "text": [
            "Number of unique tokens: 4440\n"
          ]
        }
      ],
      "source": [
        "# Create a dictionary from the reviews\n",
        "dictionary = corpora.Dictionary(bigram_reviews)\n",
        "\n",
        "# Filter out words that occur less than 60 documents, or more than 50% of the documents.\n",
        "dictionary.filter_extremes(no_below=60, no_above=0.5)\n",
        "\n",
        "# The final number of tokens in the dictionary\n",
        "print(f\"Number of unique tokens: {len(dictionary)}\")"
      ]
    },
    {
      "cell_type": "code",
      "execution_count": null,
      "metadata": {
        "id": "V4CZVSQlU4Jg"
      },
      "outputs": [],
      "source": [
        "# Convert document into the bag-of-words (BoW) format = list of (token_id, token_count) tuples\n",
        "corpus = [dictionary.doc2bow(review) for review in bigram_reviews]"
      ]
    },
    {
      "cell_type": "code",
      "execution_count": null,
      "metadata": {
        "colab": {
          "base_uri": "https://localhost:8080/"
        },
        "id": "EWbI9XDTXorC",
        "outputId": "05b75e3f-b298-4f0f-8be2-a8b604831260"
      },
      "outputs": [
        {
          "name": "stdout",
          "output_type": "stream",
          "text": [
            "[(0, 1), (1, 1), (2, 1), (3, 1), (4, 1), (5, 1), (6, 1), (7, 1), (8, 1), (9, 1), (10, 1), (11, 2), (12, 1), (13, 1), (14, 1), (15, 1), (16, 2), (17, 1), (18, 1), (19, 1), (20, 1), (21, 3)]\n",
            "---\n",
            "[(16, 1), (20, 1), (22, 1), (23, 2), (24, 1), (25, 1), (26, 1), (27, 1), (28, 1), (29, 1), (30, 1), (31, 1), (32, 1), (33, 1), (34, 1), (35, 4), (36, 1), (37, 1), (38, 1), (39, 2), (40, 1), (41, 1), (42, 1), (43, 2), (44, 1), (45, 1), (46, 1), (47, 1), (48, 1), (49, 1), (50, 1), (51, 2), (52, 1), (53, 1), (54, 1), (55, 2), (56, 1), (57, 1), (58, 1), (59, 1), (60, 1), (61, 1), (62, 1), (63, 1), (64, 1), (65, 1), (66, 1)]\n",
            "---\n",
            "[(6, 1), (7, 2), (9, 2), (13, 1), (21, 2), (35, 1), (36, 1), (50, 1), (67, 1), (68, 1), (69, 1), (70, 2), (71, 1), (72, 1), (73, 1), (74, 1), (75, 1), (76, 1), (77, 1), (78, 1), (79, 1)]\n",
            "---\n",
            "[(0, 1), (6, 1), (14, 1), (54, 1), (70, 1), (80, 1), (81, 1), (82, 1), (83, 1)]\n",
            "---\n",
            "[(4, 1), (7, 2), (11, 1), (26, 1), (35, 1), (51, 1), (64, 1), (84, 2), (85, 1), (86, 1), (87, 1), (88, 1), (89, 2), (90, 1), (91, 1), (92, 1), (93, 1), (94, 1), (95, 1), (96, 1), (97, 1), (98, 1), (99, 1), (100, 1), (101, 1), (102, 1), (103, 1), (104, 1), (105, 1), (106, 2), (107, 1)]\n",
            "---\n"
          ]
        }
      ],
      "source": [
        "# Print the first few documents in the corpus\n",
        "for doc in corpus[:5]:\n",
        "    print(doc)\n",
        "    print(\"---\")"
      ]
    },
    {
      "cell_type": "markdown",
      "metadata": {
        "id": "NJ1JxiKrwraH"
      },
      "source": [
        "### Save"
      ]
    },
    {
      "cell_type": "code",
      "execution_count": null,
      "metadata": {
        "colab": {
          "base_uri": "https://localhost:8080/"
        },
        "id": "wPZ73ucEwwlz",
        "outputId": "71648ed4-a0e5-4f23-c4bd-c6a442de54ef"
      },
      "outputs": [
        {
          "name": "stdout",
          "output_type": "stream",
          "text": [
            "\u001b[0m\u001b[01;34mLab1\u001b[0m/  \u001b[01;34mLab2\u001b[0m/  \u001b[01;34mLab3\u001b[0m/  \u001b[01;34mLab3.2\u001b[0m/  \u001b[01;34mLab3.2_extra\u001b[0m/  \u001b[01;34mLab3_extra\u001b[0m/  \u001b[01;34mLab4\u001b[0m/  \u001b[01;34mLab4_extra\u001b[0m/  \u001b[01;34mLab5\u001b[0m/  \u001b[01;34mLab5_extra\u001b[0m/\n"
          ]
        }
      ],
      "source": [
        "%ls"
      ]
    },
    {
      "cell_type": "code",
      "execution_count": null,
      "metadata": {
        "id": "K5vxGHgdw1SL"
      },
      "outputs": [],
      "source": [
        "# DataFrame\n",
        "reviews.to_csv('Lab5/cleaned_lemma_reviews.csv', index=False)"
      ]
    },
    {
      "cell_type": "code",
      "execution_count": null,
      "metadata": {
        "id": "aos_XCjRZZGs"
      },
      "outputs": [],
      "source": [
        "# Dictionary\n",
        "with open('Lab5/dictionary.pkl', 'wb') as f:\n",
        "    pickle.dump(dictionary, f)"
      ]
    },
    {
      "cell_type": "code",
      "execution_count": null,
      "metadata": {
        "id": "NarWFs9kZqOO"
      },
      "outputs": [],
      "source": [
        "# Corpus\n",
        "with open('Lab5/corpus.pkl', 'wb') as f:\n",
        "    pickle.dump(corpus, f)"
      ]
    },
    {
      "cell_type": "markdown",
      "metadata": {
        "id": "u139Iti3QTSF"
      },
      "source": [
        "## LSA"
      ]
    },
    {
      "cell_type": "markdown",
      "metadata": {
        "id": "Qqlc6X1fxJGF"
      },
      "source": [
        "### Load"
      ]
    },
    {
      "cell_type": "code",
      "execution_count": null,
      "metadata": {
        "id": "61FOma7ExJGF"
      },
      "outputs": [],
      "source": [
        "reviews = pd.read_csv('Lab5/cleaned_lemma_reviews.csv')"
      ]
    },
    {
      "cell_type": "code",
      "execution_count": null,
      "metadata": {
        "colab": {
          "base_uri": "https://localhost:8080/",
          "height": 206
        },
        "id": "5aCh5FRkxJGF",
        "outputId": "a9314316-36c2-457a-e020-4d1012124ca7"
      },
      "outputs": [
        {
          "data": {
            "application/vnd.google.colaboratory.intrinsic+json": {
              "summary": "{\n  \"name\": \"reviews\",\n  \"rows\": 63213,\n  \"fields\": [\n    {\n      \"column\": \"Rating\",\n      \"properties\": {\n        \"dtype\": \"number\",\n        \"std\": 1.4947922894256092,\n        \"min\": 1.0,\n        \"max\": 5.0,\n        \"num_unique_values\": 5,\n        \"samples\": [\n          3.0,\n          1.0,\n          4.0\n        ],\n        \"semantic_type\": \"\",\n        \"description\": \"\"\n      }\n    },\n    {\n      \"column\": \"Date\",\n      \"properties\": {\n        \"dtype\": \"object\",\n        \"num_unique_values\": 63200,\n        \"samples\": [\n          \"2019-07-02 14:02:07\",\n          \"2012-10-11 18:12:34\",\n          \"2015-07-08 02:28:45\"\n        ],\n        \"semantic_type\": \"\",\n        \"description\": \"\"\n      }\n    },\n    {\n      \"column\": \"Review\",\n      \"properties\": {\n        \"dtype\": \"string\",\n        \"num_unique_values\": 63102,\n        \"samples\": [\n          \"This place was recommended by friends so I stopped in for lunch on a Sunday.  Caprese panino was great and the atmosphere was very nice.  Got an espresso after the sandwich and the quality of the coffee was excellent!  I highly recommend this place for coffee lovers.  They have a drive thru too!\",\n          \"Great new little place with hints of Japanese and Nepali cultures. The chef was very friendly and his food was as good to match. The onigiri was warm but not too hot; good stickyness level. My momo soup was very tasty, I added siracha to make it a little more spicy; everything was made fresh to order and was great!\",\n          \"The food we had was definitely premade in bulk... Not authentic. Service was ok.\"\n        ],\n        \"semantic_type\": \"\",\n        \"description\": \"\"\n      }\n    },\n    {\n      \"column\": \"Business\",\n      \"properties\": {\n        \"dtype\": \"category\",\n        \"num_unique_values\": 965,\n        \"samples\": [\n          \"BIBIBOP Asian Grill\",\n          \"Austin Eastciders - Barton Springs\",\n          \"Cast Iron\"\n        ],\n        \"semantic_type\": \"\",\n        \"description\": \"\"\n      }\n    },\n    {\n      \"column\": \"City\",\n      \"properties\": {\n        \"dtype\": \"category\",\n        \"num_unique_values\": 161,\n        \"samples\": [\n          \"Groveport\",\n          \"Louisville\",\n          \"Watertown\"\n        ],\n        \"semantic_type\": \"\",\n        \"description\": \"\"\n      }\n    },\n    {\n      \"column\": \"State\",\n      \"properties\": {\n        \"dtype\": \"category\",\n        \"num_unique_values\": 9,\n        \"samples\": [\n          \"CO\",\n          \"GA\",\n          \"TX\"\n        ],\n        \"semantic_type\": \"\",\n        \"description\": \"\"\n      }\n    },\n    {\n      \"column\": \"Zip\",\n      \"properties\": {\n        \"dtype\": \"category\",\n        \"num_unique_values\": 459,\n        \"samples\": [\n          \"30341\",\n          \"02119\",\n          \"02140\"\n        ],\n        \"semantic_type\": \"\",\n        \"description\": \"\"\n      }\n    },\n    {\n      \"column\": \"Business Rating Score\",\n      \"properties\": {\n        \"dtype\": \"number\",\n        \"std\": 0.7413209609467051,\n        \"min\": 1.0,\n        \"max\": 5.0,\n        \"num_unique_values\": 9,\n        \"samples\": [\n          1.5,\n          3.0,\n          2.0\n        ],\n        \"semantic_type\": \"\",\n        \"description\": \"\"\n      }\n    },\n    {\n      \"column\": \"Cleaned Review\",\n      \"properties\": {\n        \"dtype\": \"string\",\n        \"num_unique_values\": 63073,\n        \"samples\": [\n          \"['for', 'breakfast', 'buffet', 'that', 'include', 'juice', 'egg', 'sausage', 'bacon', 'crossiants', 'toast', 'bagel', 'muffin', 'yogurt', 'waffle', 'french', 'toast', 'etc', 'really', 'good', 'deal', 'this', 'great', 'option', 'you', 'have', 'picky', 'kid', 'therefore', 'they', 'can', 'eat', 'what', 'they', 'like', 'versus', 'order', 'off', 'the', 'menu', 'which', 'just', 'expensive', 'not', 'more', 'service', 'average', 'over', 'the', 'time', 'here', 'for', 'breakfast']\",\n          \"['burritos', 'generally', 'the', 'dry', 'side', 'and', 'the', 'flavor', 'simple', 'but', 'have', 'give', 'them', 'credit', 'the', 'whole', 'wheat', 'tortilla', 'and', 'brown', 'rice', 'option', 'good', 'healthy', 'option', 'you', 'into', 'that', 'sort', 'thing']\",\n          \"['nasty', 'food', 'very', 'unsanitary', 'the', 'cashier', 'lazy', 'and', 'there', 'literally', 'always', 'one', 'waiter', 'would', 'never', 'come', 'here', 'again']\"\n        ],\n        \"semantic_type\": \"\",\n        \"description\": \"\"\n      }\n    }\n  ]\n}",
              "type": "dataframe",
              "variable_name": "reviews"
            },
            "text/html": [
              "\n",
              "  <div id=\"df-b5c4b459-50b9-4e59-87db-94336179ab52\" class=\"colab-df-container\">\n",
              "    <div>\n",
              "<style scoped>\n",
              "    .dataframe tbody tr th:only-of-type {\n",
              "        vertical-align: middle;\n",
              "    }\n",
              "\n",
              "    .dataframe tbody tr th {\n",
              "        vertical-align: top;\n",
              "    }\n",
              "\n",
              "    .dataframe thead th {\n",
              "        text-align: right;\n",
              "    }\n",
              "</style>\n",
              "<table border=\"1\" class=\"dataframe\">\n",
              "  <thead>\n",
              "    <tr style=\"text-align: right;\">\n",
              "      <th></th>\n",
              "      <th>Rating</th>\n",
              "      <th>Date</th>\n",
              "      <th>Review</th>\n",
              "      <th>Business</th>\n",
              "      <th>City</th>\n",
              "      <th>State</th>\n",
              "      <th>Zip</th>\n",
              "      <th>Business Rating Score</th>\n",
              "      <th>Cleaned Review</th>\n",
              "    </tr>\n",
              "  </thead>\n",
              "  <tbody>\n",
              "    <tr>\n",
              "      <th>0</th>\n",
              "      <td>5.0</td>\n",
              "      <td>2008-09-29 09:33:04</td>\n",
              "      <td>its the best pizza hut i'v found in florida al...</td>\n",
              "      <td>Pizza Hut</td>\n",
              "      <td>Orlando</td>\n",
              "      <td>FL</td>\n",
              "      <td>32819</td>\n",
              "      <td>3.5</td>\n",
              "      <td>['its', 'the', 'best', 'pizza', 'hut', 'find',...</td>\n",
              "    </tr>\n",
              "    <tr>\n",
              "      <th>1</th>\n",
              "      <td>3.0</td>\n",
              "      <td>2013-12-06 23:22:26</td>\n",
              "      <td>This place is an interesting combo. The chef, ...</td>\n",
              "      <td>La Mongerie Bakery &amp; Bistro</td>\n",
              "      <td>Atlanta</td>\n",
              "      <td>GA</td>\n",
              "      <td>30308</td>\n",
              "      <td>3.0</td>\n",
              "      <td>['this', 'place', 'interesting', 'combo', 'the...</td>\n",
              "    </tr>\n",
              "    <tr>\n",
              "      <th>2</th>\n",
              "      <td>5.0</td>\n",
              "      <td>2008-11-16 09:44:04</td>\n",
              "      <td>Pizza Hut is great! You get huge pizzas for yo...</td>\n",
              "      <td>Pizza Hut</td>\n",
              "      <td>Orlando</td>\n",
              "      <td>FL</td>\n",
              "      <td>32819</td>\n",
              "      <td>3.5</td>\n",
              "      <td>['pizza', 'hut', 'great', 'you', 'get', 'huge'...</td>\n",
              "    </tr>\n",
              "    <tr>\n",
              "      <th>3</th>\n",
              "      <td>5.0</td>\n",
              "      <td>2016-04-11 17:00:34</td>\n",
              "      <td>Always a great place to taste some tea with fr...</td>\n",
              "      <td>Teavana</td>\n",
              "      <td>Atlanta</td>\n",
              "      <td>GA</td>\n",
              "      <td>30326</td>\n",
              "      <td>3.0</td>\n",
              "      <td>['always', 'great', 'place', 'taste', 'some', ...</td>\n",
              "    </tr>\n",
              "    <tr>\n",
              "      <th>4</th>\n",
              "      <td>4.0</td>\n",
              "      <td>2015-05-26 06:47:56</td>\n",
              "      <td>Delish! Stopped in on a random Sunday and so g...</td>\n",
              "      <td>Native Foods Cafe</td>\n",
              "      <td>Happy Valley</td>\n",
              "      <td>OR</td>\n",
              "      <td>97086</td>\n",
              "      <td>4.5</td>\n",
              "      <td>['delish', 'stopped', 'random', 'sunday', 'and...</td>\n",
              "    </tr>\n",
              "  </tbody>\n",
              "</table>\n",
              "</div>\n",
              "    <div class=\"colab-df-buttons\">\n",
              "\n",
              "  <div class=\"colab-df-container\">\n",
              "    <button class=\"colab-df-convert\" onclick=\"convertToInteractive('df-b5c4b459-50b9-4e59-87db-94336179ab52')\"\n",
              "            title=\"Convert this dataframe to an interactive table.\"\n",
              "            style=\"display:none;\">\n",
              "\n",
              "  <svg xmlns=\"http://www.w3.org/2000/svg\" height=\"24px\" viewBox=\"0 -960 960 960\">\n",
              "    <path d=\"M120-120v-720h720v720H120Zm60-500h600v-160H180v160Zm220 220h160v-160H400v160Zm0 220h160v-160H400v160ZM180-400h160v-160H180v160Zm440 0h160v-160H620v160ZM180-180h160v-160H180v160Zm440 0h160v-160H620v160Z\"/>\n",
              "  </svg>\n",
              "    </button>\n",
              "\n",
              "  <style>\n",
              "    .colab-df-container {\n",
              "      display:flex;\n",
              "      gap: 12px;\n",
              "    }\n",
              "\n",
              "    .colab-df-convert {\n",
              "      background-color: #E8F0FE;\n",
              "      border: none;\n",
              "      border-radius: 50%;\n",
              "      cursor: pointer;\n",
              "      display: none;\n",
              "      fill: #1967D2;\n",
              "      height: 32px;\n",
              "      padding: 0 0 0 0;\n",
              "      width: 32px;\n",
              "    }\n",
              "\n",
              "    .colab-df-convert:hover {\n",
              "      background-color: #E2EBFA;\n",
              "      box-shadow: 0px 1px 2px rgba(60, 64, 67, 0.3), 0px 1px 3px 1px rgba(60, 64, 67, 0.15);\n",
              "      fill: #174EA6;\n",
              "    }\n",
              "\n",
              "    .colab-df-buttons div {\n",
              "      margin-bottom: 4px;\n",
              "    }\n",
              "\n",
              "    [theme=dark] .colab-df-convert {\n",
              "      background-color: #3B4455;\n",
              "      fill: #D2E3FC;\n",
              "    }\n",
              "\n",
              "    [theme=dark] .colab-df-convert:hover {\n",
              "      background-color: #434B5C;\n",
              "      box-shadow: 0px 1px 3px 1px rgba(0, 0, 0, 0.15);\n",
              "      filter: drop-shadow(0px 1px 2px rgba(0, 0, 0, 0.3));\n",
              "      fill: #FFFFFF;\n",
              "    }\n",
              "  </style>\n",
              "\n",
              "    <script>\n",
              "      const buttonEl =\n",
              "        document.querySelector('#df-b5c4b459-50b9-4e59-87db-94336179ab52 button.colab-df-convert');\n",
              "      buttonEl.style.display =\n",
              "        google.colab.kernel.accessAllowed ? 'block' : 'none';\n",
              "\n",
              "      async function convertToInteractive(key) {\n",
              "        const element = document.querySelector('#df-b5c4b459-50b9-4e59-87db-94336179ab52');\n",
              "        const dataTable =\n",
              "          await google.colab.kernel.invokeFunction('convertToInteractive',\n",
              "                                                    [key], {});\n",
              "        if (!dataTable) return;\n",
              "\n",
              "        const docLinkHtml = 'Like what you see? Visit the ' +\n",
              "          '<a target=\"_blank\" href=https://colab.research.google.com/notebooks/data_table.ipynb>data table notebook</a>'\n",
              "          + ' to learn more about interactive tables.';\n",
              "        element.innerHTML = '';\n",
              "        dataTable['output_type'] = 'display_data';\n",
              "        await google.colab.output.renderOutput(dataTable, element);\n",
              "        const docLink = document.createElement('div');\n",
              "        docLink.innerHTML = docLinkHtml;\n",
              "        element.appendChild(docLink);\n",
              "      }\n",
              "    </script>\n",
              "  </div>\n",
              "\n",
              "\n",
              "<div id=\"df-560981d8-12af-47b0-93ad-ee292972a385\">\n",
              "  <button class=\"colab-df-quickchart\" onclick=\"quickchart('df-560981d8-12af-47b0-93ad-ee292972a385')\"\n",
              "            title=\"Suggest charts\"\n",
              "            style=\"display:none;\">\n",
              "\n",
              "<svg xmlns=\"http://www.w3.org/2000/svg\" height=\"24px\"viewBox=\"0 0 24 24\"\n",
              "     width=\"24px\">\n",
              "    <g>\n",
              "        <path d=\"M19 3H5c-1.1 0-2 .9-2 2v14c0 1.1.9 2 2 2h14c1.1 0 2-.9 2-2V5c0-1.1-.9-2-2-2zM9 17H7v-7h2v7zm4 0h-2V7h2v10zm4 0h-2v-4h2v4z\"/>\n",
              "    </g>\n",
              "</svg>\n",
              "  </button>\n",
              "\n",
              "<style>\n",
              "  .colab-df-quickchart {\n",
              "      --bg-color: #E8F0FE;\n",
              "      --fill-color: #1967D2;\n",
              "      --hover-bg-color: #E2EBFA;\n",
              "      --hover-fill-color: #174EA6;\n",
              "      --disabled-fill-color: #AAA;\n",
              "      --disabled-bg-color: #DDD;\n",
              "  }\n",
              "\n",
              "  [theme=dark] .colab-df-quickchart {\n",
              "      --bg-color: #3B4455;\n",
              "      --fill-color: #D2E3FC;\n",
              "      --hover-bg-color: #434B5C;\n",
              "      --hover-fill-color: #FFFFFF;\n",
              "      --disabled-bg-color: #3B4455;\n",
              "      --disabled-fill-color: #666;\n",
              "  }\n",
              "\n",
              "  .colab-df-quickchart {\n",
              "    background-color: var(--bg-color);\n",
              "    border: none;\n",
              "    border-radius: 50%;\n",
              "    cursor: pointer;\n",
              "    display: none;\n",
              "    fill: var(--fill-color);\n",
              "    height: 32px;\n",
              "    padding: 0;\n",
              "    width: 32px;\n",
              "  }\n",
              "\n",
              "  .colab-df-quickchart:hover {\n",
              "    background-color: var(--hover-bg-color);\n",
              "    box-shadow: 0 1px 2px rgba(60, 64, 67, 0.3), 0 1px 3px 1px rgba(60, 64, 67, 0.15);\n",
              "    fill: var(--button-hover-fill-color);\n",
              "  }\n",
              "\n",
              "  .colab-df-quickchart-complete:disabled,\n",
              "  .colab-df-quickchart-complete:disabled:hover {\n",
              "    background-color: var(--disabled-bg-color);\n",
              "    fill: var(--disabled-fill-color);\n",
              "    box-shadow: none;\n",
              "  }\n",
              "\n",
              "  .colab-df-spinner {\n",
              "    border: 2px solid var(--fill-color);\n",
              "    border-color: transparent;\n",
              "    border-bottom-color: var(--fill-color);\n",
              "    animation:\n",
              "      spin 1s steps(1) infinite;\n",
              "  }\n",
              "\n",
              "  @keyframes spin {\n",
              "    0% {\n",
              "      border-color: transparent;\n",
              "      border-bottom-color: var(--fill-color);\n",
              "      border-left-color: var(--fill-color);\n",
              "    }\n",
              "    20% {\n",
              "      border-color: transparent;\n",
              "      border-left-color: var(--fill-color);\n",
              "      border-top-color: var(--fill-color);\n",
              "    }\n",
              "    30% {\n",
              "      border-color: transparent;\n",
              "      border-left-color: var(--fill-color);\n",
              "      border-top-color: var(--fill-color);\n",
              "      border-right-color: var(--fill-color);\n",
              "    }\n",
              "    40% {\n",
              "      border-color: transparent;\n",
              "      border-right-color: var(--fill-color);\n",
              "      border-top-color: var(--fill-color);\n",
              "    }\n",
              "    60% {\n",
              "      border-color: transparent;\n",
              "      border-right-color: var(--fill-color);\n",
              "    }\n",
              "    80% {\n",
              "      border-color: transparent;\n",
              "      border-right-color: var(--fill-color);\n",
              "      border-bottom-color: var(--fill-color);\n",
              "    }\n",
              "    90% {\n",
              "      border-color: transparent;\n",
              "      border-bottom-color: var(--fill-color);\n",
              "    }\n",
              "  }\n",
              "</style>\n",
              "\n",
              "  <script>\n",
              "    async function quickchart(key) {\n",
              "      const quickchartButtonEl =\n",
              "        document.querySelector('#' + key + ' button');\n",
              "      quickchartButtonEl.disabled = true;  // To prevent multiple clicks.\n",
              "      quickchartButtonEl.classList.add('colab-df-spinner');\n",
              "      try {\n",
              "        const charts = await google.colab.kernel.invokeFunction(\n",
              "            'suggestCharts', [key], {});\n",
              "      } catch (error) {\n",
              "        console.error('Error during call to suggestCharts:', error);\n",
              "      }\n",
              "      quickchartButtonEl.classList.remove('colab-df-spinner');\n",
              "      quickchartButtonEl.classList.add('colab-df-quickchart-complete');\n",
              "    }\n",
              "    (() => {\n",
              "      let quickchartButtonEl =\n",
              "        document.querySelector('#df-560981d8-12af-47b0-93ad-ee292972a385 button');\n",
              "      quickchartButtonEl.style.display =\n",
              "        google.colab.kernel.accessAllowed ? 'block' : 'none';\n",
              "    })();\n",
              "  </script>\n",
              "</div>\n",
              "\n",
              "    </div>\n",
              "  </div>\n"
            ],
            "text/plain": [
              "   Rating                 Date  \\\n",
              "0     5.0  2008-09-29 09:33:04   \n",
              "1     3.0  2013-12-06 23:22:26   \n",
              "2     5.0  2008-11-16 09:44:04   \n",
              "3     5.0  2016-04-11 17:00:34   \n",
              "4     4.0  2015-05-26 06:47:56   \n",
              "\n",
              "                                              Review  \\\n",
              "0  its the best pizza hut i'v found in florida al...   \n",
              "1  This place is an interesting combo. The chef, ...   \n",
              "2  Pizza Hut is great! You get huge pizzas for yo...   \n",
              "3  Always a great place to taste some tea with fr...   \n",
              "4  Delish! Stopped in on a random Sunday and so g...   \n",
              "\n",
              "                      Business          City State    Zip  \\\n",
              "0                    Pizza Hut       Orlando    FL  32819   \n",
              "1  La Mongerie Bakery & Bistro       Atlanta    GA  30308   \n",
              "2                    Pizza Hut       Orlando    FL  32819   \n",
              "3                      Teavana       Atlanta    GA  30326   \n",
              "4            Native Foods Cafe  Happy Valley    OR  97086   \n",
              "\n",
              "   Business Rating Score                                     Cleaned Review  \n",
              "0                    3.5  ['its', 'the', 'best', 'pizza', 'hut', 'find',...  \n",
              "1                    3.0  ['this', 'place', 'interesting', 'combo', 'the...  \n",
              "2                    3.5  ['pizza', 'hut', 'great', 'you', 'get', 'huge'...  \n",
              "3                    3.0  ['always', 'great', 'place', 'taste', 'some', ...  \n",
              "4                    4.5  ['delish', 'stopped', 'random', 'sunday', 'and...  "
            ]
          },
          "execution_count": 14,
          "metadata": {},
          "output_type": "execute_result"
        }
      ],
      "source": [
        "reviews.head()"
      ]
    },
    {
      "cell_type": "code",
      "execution_count": null,
      "metadata": {
        "colab": {
          "base_uri": "https://localhost:8080/"
        },
        "id": "Et1TVLaSxJGF",
        "outputId": "a1a87fc6-d7f6-48ac-eacf-94dca7f07aaf"
      },
      "outputs": [
        {
          "data": {
            "text/plain": [
              "(63213, 9)"
            ]
          },
          "execution_count": 15,
          "metadata": {},
          "output_type": "execute_result"
        }
      ],
      "source": [
        "reviews.shape"
      ]
    },
    {
      "cell_type": "code",
      "execution_count": null,
      "metadata": {
        "id": "Wr03tceeZnIV"
      },
      "outputs": [],
      "source": [
        "# Dictionary\n",
        "with open('Lab5/dictionary.pkl', 'rb') as f:\n",
        "    dictionary = pickle.load(f)"
      ]
    },
    {
      "cell_type": "code",
      "execution_count": null,
      "metadata": {
        "colab": {
          "base_uri": "https://localhost:8080/"
        },
        "id": "osdpql6sxhHi",
        "outputId": "6ea4eaa8-02fe-441b-d87e-5f08b65c2d60"
      },
      "outputs": [
        {
          "name": "stdout",
          "output_type": "stream",
          "text": [
            "(0, 'always')\n",
            "(1, 'child')\n",
            "(2, 'feel')\n",
            "(3, 'feel_welcome')\n",
            "(4, 'find')\n",
            "(5, 'florida')\n",
            "(6, 'friendly')\n",
            "(7, 'get')\n",
            "(8, 'great_deal')\n",
            "(9, 'huge')\n",
            "Total number of unique tokens: 4440\n"
          ]
        }
      ],
      "source": [
        "# Print first 10 entries of the dictionary\n",
        "for i, word in enumerate(dictionary.iteritems()):\n",
        "    print(word)\n",
        "    if i == 9: break  # Only show first 10 words\n",
        "\n",
        "print(f\"Total number of unique tokens: {len(dictionary)}\")"
      ]
    },
    {
      "cell_type": "code",
      "execution_count": null,
      "metadata": {
        "id": "MBwWQeugZs-f"
      },
      "outputs": [],
      "source": [
        "# Corpus\n",
        "with open('Lab5/corpus.pkl', 'rb') as f:\n",
        "    corpus = pickle.load(f)"
      ]
    },
    {
      "cell_type": "code",
      "execution_count": null,
      "metadata": {
        "colab": {
          "base_uri": "https://localhost:8080/"
        },
        "id": "ZHBqlTOYx38b",
        "outputId": "f90ab272-401d-432c-f636-cda415cc6d8d"
      },
      "outputs": [
        {
          "name": "stdout",
          "output_type": "stream",
          "text": [
            "[('always', 1), ('child', 1), ('feel', 1), ('feel_welcome', 1), ('find', 1), ('florida', 1), ('friendly', 1), ('get', 1), ('great_deal', 1), ('huge', 1), ('its', 1), ('make', 2), ('offer', 1), ('pizza_hut', 1), ('staff_very', 1), ('the_best', 1), ('them', 2), ('they', 1), ('way_too', 1), ('welcome', 1), ('with', 1), ('you', 3)]\n",
            "Total number of documents: 63213\n"
          ]
        }
      ],
      "source": [
        "# Print the first document in the corpus\n",
        "first_doc = [(dictionary[word_id], count) for word_id, count in corpus[0]]\n",
        "print(first_doc)\n",
        "\n",
        "print(f\"Total number of documents: {len(corpus)}\")"
      ]
    },
    {
      "cell_type": "markdown",
      "metadata": {
        "id": "8x6TPtUWyIF6"
      },
      "source": [
        "### Shared"
      ]
    },
    {
      "cell_type": "code",
      "execution_count": null,
      "metadata": {
        "id": "EuV_kDKhz6Sp"
      },
      "outputs": [],
      "source": [
        "# Function to train LSA model and compute coherence score\n",
        "def evaluate_models(corpus, dictionary, start, limit, step):\n",
        "    coherence_values = []\n",
        "    model_list = []\n",
        "    for num_topics in range(start, limit + 1, step):\n",
        "        model = LsiModel(corpus=corpus, num_topics=num_topics, id2word=dictionary)\n",
        "        model_list.append(model)\n",
        "        coherencemodel = CoherenceModel(model=model, texts=[[dictionary[word_id] for word_id, _ in doc] for doc in corpus], dictionary=dictionary, coherence='c_v')\n",
        "        coherence_values.append(coherencemodel.get_coherence())\n",
        "\n",
        "    return model_list, coherence_values"
      ]
    },
    {
      "cell_type": "code",
      "execution_count": null,
      "metadata": {
        "id": "6wfeyzKa2U9D"
      },
      "outputs": [],
      "source": [
        "def plot_coherence_scores(start, limit, step, coherence_values, title):\n",
        "    x = range(start, limit + 1, step)\n",
        "    plt.plot(x, coherence_values)\n",
        "    plt.xlabel(\"Number of Topics\")\n",
        "    plt.ylabel(\"Coherence score\")\n",
        "    plt.title(title)\n",
        "    plt.show()"
      ]
    },
    {
      "cell_type": "code",
      "execution_count": null,
      "metadata": {
        "id": "Jsq5pe5AE3Fd"
      },
      "outputs": [],
      "source": [
        "# Function to re-train LSA model with a new number of topics and evaluate coherence\n",
        "def retrain_evaluate_lsa(corpus, dictionary, num_topics):\n",
        "    model = LsiModel(corpus=corpus, num_topics=num_topics, id2word=dictionary)\n",
        "    coherencemodel = CoherenceModel(model=model, texts=[[dictionary[word_id] for word_id, _ in doc] for doc in corpus], dictionary=dictionary, coherence='c_v')\n",
        "    coherence_score = coherencemodel.get_coherence()\n",
        "    return model, coherence_score"
      ]
    },
    {
      "cell_type": "markdown",
      "metadata": {
        "id": "CtEfOP_t19rT"
      },
      "source": [
        "### BOW"
      ]
    },
    {
      "cell_type": "markdown",
      "metadata": {
        "id": "7c5Zst3i9qRy"
      },
      "source": [
        "**Implementation**"
      ]
    },
    {
      "cell_type": "code",
      "execution_count": null,
      "metadata": {
        "id": "VSL46PrV2GMl"
      },
      "outputs": [],
      "source": [
        "# Evaluate Models\n",
        "bow_model_list, bow_coherence_values = evaluate_models(corpus, dictionary, 2, 10, 2)"
      ]
    },
    {
      "cell_type": "code",
      "execution_count": null,
      "metadata": {
        "colab": {
          "base_uri": "https://localhost:8080/"
        },
        "id": "w8R9NFzG6Vy5",
        "outputId": "454a2e34-c132-4eb2-e011-0d26ee635f96"
      },
      "outputs": [
        {
          "name": "stdout",
          "output_type": "stream",
          "text": [
            "Top 3 BoW Models based on Coherence Scores:\n",
            "Rank 1: Model with 2 Topics, Coherence Score: 0.6251342068624874\n",
            "Rank 2: Model with 10 Topics, Coherence Score: 0.5986275322784811\n",
            "Rank 3: Model with 6 Topics, Coherence Score: 0.5928378527241199\n",
            "\n",
            "Topics for Rank 1 Model:\n",
            "Topic 0: that, for, but, they, with, get, you, food, this, order\n",
            "Topic 1: that, for, they, food, with, good, you, great, but, service\n",
            "\n",
            "Topics for Rank 2 Model:\n",
            "Topic 0: that, for, but, they, with, get, you, food, this, order\n",
            "Topic 1: that, for, they, food, with, you, good, but, great, service\n",
            "Topic 2: they, that, with, this, order, food, their, get, she, for\n",
            "Topic 3: you, order, for, food, but, she, your, that, our, this\n",
            "Topic 4: for, but, order, good, with, you, food, that, great, she\n",
            "Topic 5: food, but, you, order, for, get, they, that, this, she\n",
            "Topic 6: with, food, order, that, but, good, for, this, pizza, great\n",
            "Topic 7: but, food, with, get, order, that, they, great, you, pizza\n",
            "Topic 8: get, this, order, with, pizza, there, you, place, she, but\n",
            "Topic 9: this, order, you, get, but, with, that, one, there, time\n",
            "\n",
            "Topics for Rank 3 Model:\n",
            "Topic 0: that, for, but, they, with, get, you, food, this, order\n",
            "Topic 1: that, for, they, food, with, you, good, great, but, service\n",
            "Topic 2: they, that, with, this, order, their, get, food, she, for\n",
            "Topic 3: you, order, for, but, food, that, she, your, this, our\n",
            "Topic 4: for, but, food, good, order, with, you, that, they, great\n",
            "Topic 5: food, but, order, you, for, get, they, she, with, your\n"
          ]
        }
      ],
      "source": [
        "# Combine coherence scores with model indices\n",
        "coherence_with_indices = list(zip(bow_coherence_values, range(len(bow_coherence_values))))\n",
        "\n",
        "# Sort by coherence score in descending order\n",
        "sorted_by_coherence = sorted(coherence_with_indices, key=lambda x: x[0], reverse=True)\n",
        "\n",
        "# Extract indices of the top three models\n",
        "top_three_indices = [index for _, index in sorted_by_coherence[:3]]\n",
        "\n",
        "# Print details of the top three models\n",
        "print(\"Top 3 BoW Models based on Coherence Scores:\")\n",
        "for rank, model_index in enumerate(top_three_indices, start=1):\n",
        "    model = bow_model_list[model_index]\n",
        "    coherence_score = bow_coherence_values[model_index]\n",
        "    num_topics = 2 + 2*model_index  # Based on your step size and start value\n",
        "    print(f\"Rank {rank}: Model with {num_topics} Topics, Coherence Score: {coherence_score}\")\n",
        "\n",
        "# Directly assess the top 3 models\n",
        "top_three_models = [bow_model_list[i] for i in top_three_indices]\n",
        "\n",
        "# Print topic details for the top three models\n",
        "for rank, model in enumerate(top_three_models, start=1):\n",
        "    print(f\"\\nTopics for Rank {rank} Model:\")\n",
        "    topics = model.show_topics(num_topics=-1, formatted=False)\n",
        "    for num, topic in topics:\n",
        "        topic_labels = \", \".join([word for word, _ in topic])\n",
        "        print(f\"Topic {num}: {topic_labels}\")"
      ]
    },
    {
      "cell_type": "code",
      "execution_count": null,
      "metadata": {
        "colab": {
          "base_uri": "https://localhost:8080/",
          "height": 487
        },
        "id": "YIn-yuFO6ovP",
        "outputId": "8657f303-eb87-4c13-8325-b1e345b4f112"
      },
      "outputs": [
        {
          "data": {
            "image/png": "[encoded data removed]",
            "text/plain": [
              "<Figure size 1000x500 with 1 Axes>"
            ]
          },
          "metadata": {},
          "output_type": "display_data"
        }
      ],
      "source": [
        "# Plot to visualize num topics effect on coherence\n",
        "x = range(2, 11, 2)\n",
        "\n",
        "plt.figure(figsize=(10, 5))\n",
        "plt.plot(x, bow_coherence_values, marker='o', linestyle='-', color='b')\n",
        "plt.xlabel(\"Number of Topics\")\n",
        "plt.ylabel(\"Coherence Score\")\n",
        "plt.title(\"LSA Model Coherence Scores by Number of Topics\")\n",
        "plt.xticks(x)\n",
        "plt.legend([\"Coherence Values\"], loc='best')\n",
        "plt.grid(True)\n",
        "plt.show()"
      ]
    },
    {
      "cell_type": "markdown",
      "metadata": {
        "id": "kClkn-k09nOu"
      },
      "source": [
        "**Experimentation**"
      ]
    },
    {
      "cell_type": "code",
      "execution_count": null,
      "metadata": {
        "colab": {
          "base_uri": "https://localhost:8080/"
        },
        "id": "OtZ5LTMR-8yQ",
        "outputId": "ce2188a8-5847-4ad2-cb98-e2c702120ae9"
      },
      "outputs": [
        {
          "name": "stdout",
          "output_type": "stream",
          "text": [
            "\n",
            "Explored 1 Topics: Coherence Score = 0.6606595250307525\n",
            "Topic 0:\n",
            "that, for, but, they, with, get, you, food, this, order\n",
            "\n",
            "Explored 3 Topics: Coherence Score = 0.5724564611638514\n",
            "Topic 0:\n",
            "that, for, but, they, with, get, you, food, this, order\n",
            "Topic 1:\n",
            "that, for, food, good, great, with, you, but, they, service\n",
            "Topic 2:\n",
            "they, that, for, with, this, order, get, their, but, she\n",
            "\n",
            "Explored 9 Topics: Coherence Score = 0.5828939763638611\n",
            "Topic 0:\n",
            "that, for, but, they, with, get, you, food, this, order\n",
            "Topic 1:\n",
            "that, for, they, food, with, you, good, but, great, service\n",
            "Topic 2:\n",
            "they, that, with, this, order, food, their, get, she, for\n",
            "Topic 3:\n",
            "you, order, for, food, but, she, your, that, our, like\n",
            "Topic 4:\n",
            "for, but, order, good, with, you, food, great, that, she\n",
            "Topic 5:\n",
            "food, but, you, order, for, get, they, that, this, she\n",
            "Topic 6:\n",
            "with, food, that, order, this, for, good, but, pizza, great\n",
            "Topic 7:\n",
            "but, with, get, food, order, that, they, great, you, pizza\n",
            "Topic 8:\n",
            "this, get, with, order, pizza, there, place, she, make, but\n",
            "\n",
            "Explored 11 Topics: Coherence Score = 0.5824647828942436\n",
            "Topic 0:\n",
            "that, for, but, they, with, get, you, food, this, order\n",
            "Topic 1:\n",
            "that, for, they, food, with, you, good, but, great, service\n",
            "Topic 2:\n",
            "they, that, with, this, order, food, their, get, she, for\n",
            "Topic 3:\n",
            "you, order, for, food, but, she, your, that, our, like\n",
            "Topic 4:\n",
            "for, but, order, good, with, you, food, great, that, she\n",
            "Topic 5:\n",
            "food, but, you, order, for, get, they, that, this, she\n",
            "Topic 6:\n",
            "with, food, order, that, but, good, for, this, pizza, great\n",
            "Topic 7:\n",
            "but, with, food, get, order, that, they, great, you, pizza\n",
            "Topic 8:\n",
            "this, get, with, order, pizza, there, place, she, make, that\n",
            "Topic 9:\n",
            "this, order, get, you, but, there, one, that, with, she\n",
            "Topic 10:\n",
            "pizza, good, but, place, great, food, get, she, order, there\n",
            "\n",
            "Explored 5 Topics: Coherence Score = 0.6014648827758007\n",
            "Topic 0:\n",
            "that, for, but, they, with, get, you, food, this, order\n",
            "Topic 1:\n",
            "for, that, they, food, with, you, good, great, but, service\n",
            "Topic 2:\n",
            "they, that, with, this, food, order, their, get, she, great\n",
            "Topic 3:\n",
            "you, order, for, food, but, she, your, that, this, our\n",
            "Topic 4:\n",
            "for, but, order, food, good, with, that, great, she, they\n",
            "\n",
            "Explored 7 Topics: Coherence Score = 0.596710043639883\n",
            "Topic 0:\n",
            "that, for, but, they, with, get, you, food, this, order\n",
            "Topic 1:\n",
            "that, for, they, food, with, you, good, great, but, service\n",
            "Topic 2:\n",
            "they, that, with, this, order, their, get, food, she, for\n",
            "Topic 3:\n",
            "you, order, for, but, food, she, your, that, our, this\n",
            "Topic 4:\n",
            "for, but, order, good, food, you, that, great, with, they\n",
            "Topic 5:\n",
            "but, order, with, for, you, food, that, get, this, they\n",
            "Topic 6:\n",
            "with, food, that, you, get, they, this, but, good, which\n"
          ]
        }
      ],
      "source": [
        "# Explore around the top 3 models\n",
        "for model_index in top_three_indices:\n",
        "    original_num_topics = 2 + model_index * 2  # Original calculation for number of topics\n",
        "\n",
        "    for adjustment in [-1, 1]:  # Adjust to explore one less and one more topic\n",
        "        new_num_topics = original_num_topics + adjustment\n",
        "        new_model, new_coherence_score = retrain_evaluate_lsa(corpus, dictionary, new_num_topics)\n",
        "\n",
        "        print(f\"\\nExplored {new_num_topics} Topics: Coherence Score = {new_coherence_score}\")\n",
        "\n",
        "        # Show top words for each topic in the new model\n",
        "        topics = new_model.show_topics(num_topics=-1, formatted=False)\n",
        "        for num, topic in topics:\n",
        "            print(f\"Topic {num}:\")\n",
        "            topic_words = [word for word, _ in topic]\n",
        "            print(\", \".join(topic_words))"
      ]
    },
    {
      "cell_type": "markdown",
      "metadata": {
        "id": "kTjcYQEw-_bg"
      },
      "source": [
        "**Analysis**"
      ]
    },
    {
      "cell_type": "markdown",
      "metadata": {
        "id": "_6IMu-cL_Aod"
      },
      "source": [
        "Although the models with the highest coherence scores are one and two topics coherence scores of about 0.66 and 0.62, just one or two topics is unlikely to show granularity or specificity in its information. In fact, the topic words for 1 topic seem to be simply general words related to businesses, not related to specifically good or bad service.\n",
        "\n",
        "Aside from 1 or 2 topics, 5 topics has the next highest coherence score of bout 0.60. In addition, I expect 5 topics to be sufficient enough to model a subject such as restaurant reviews.\n",
        "\n",
        "I label the 5 topics as follows:\n",
        "0.   General Complaints and Orders: Concerns and mixed feelings about dining, centered around words like \"order,\" \"get,\" and \"but.\"\n",
        "1.   Positive Food and Service: High satisfaction, indicated by \"good,\" \"great,\" \"food,\" and \"service.\"\n",
        "2.   Specific Service Interactions: Positive narratives of staff interactions, highlighted by \"they,\" \"with,\" \"she,\" and \"great.\"\n",
        "3.   Personalized Experiences: Focuses on individual experiences, with \"you,\" \"your,\" \"order,\" and \"but\" indicating personalized feedback.\n",
        "4.   Order Quality Assessments: Varied evaluations of food, featuring \"order,\" \"food,\" \"good,\" and \"great,\" showing a balance of satisfaction and nuanced critique.\n",
        "\n",
        "This model sorts restaurant reviews into five clear topics, reflecting common threads in customer feedback. It covers areas from general service concerns and positive acknowledgments of food and service quality, to accounts of interactions with staff, personalized dining experiences, and varied reactions to food orders. It could serve as a useful tool for restaurant owners to grasp what customers appreciate and what might need improvement."
      ]
    },
    {
      "cell_type": "markdown",
      "metadata": {
        "id": "MhDjLQVS2EIA"
      },
      "source": [
        "### Tf-idf"
      ]
    },
    {
      "cell_type": "code",
      "execution_count": null,
      "metadata": {
        "id": "Gy-PmGpu1-vs"
      },
      "outputs": [],
      "source": [
        "from gensim.models import TfidfModel\n",
        "\n",
        "# Generate a TF-IDF model based on the BoW corpus\n",
        "tfidf_model = TfidfModel(corpus)\n",
        "tfidf_corpus = [tfidf_model[doc] for doc in corpus]"
      ]
    },
    {
      "cell_type": "markdown",
      "metadata": {
        "id": "gHEfcsu1FMUx"
      },
      "source": [
        "**Implementation**"
      ]
    },
    {
      "cell_type": "code",
      "execution_count": null,
      "metadata": {
        "id": "Vs3q9D0ZFMUx"
      },
      "outputs": [],
      "source": [
        "# Evaluate Models\n",
        "tfidf_model_list, tfidf_coherence_values = evaluate_models(tfidf_corpus, dictionary, 2, 10, 2)"
      ]
    },
    {
      "cell_type": "code",
      "execution_count": null,
      "metadata": {
        "colab": {
          "base_uri": "https://localhost:8080/"
        },
        "id": "oSmKhCYGFlYu",
        "outputId": "7426a2ea-9c79-4f07-b574-303df552b6c0"
      },
      "outputs": [
        {
          "name": "stdout",
          "output_type": "stream",
          "text": [
            "Top 3 TF-IDF Models based on Coherence Scores:\n",
            "Rank 1: Model with 2 Topics, Coherence Score: 0.6046934158337754\n",
            "Rank 2: Model with 6 Topics, Coherence Score: 0.5087757943656954\n",
            "Rank 3: Model with 4 Topics, Coherence Score: 0.4839443205736357\n",
            "\n",
            "Topics for Rank 1 Model:\n",
            "Topic 0: that, for, but, they, with, get, you, food, this, order\n",
            "Topic 1: that, for, they, food, with, good, you, great, but, service\n",
            "\n",
            "Topics for Rank 2 Model:\n",
            "Topic 0: that, for, but, they, with, get, you, food, this, order\n",
            "Topic 1: that, for, they, food, with, you, good, but, great, service\n",
            "Topic 2: they, that, with, this, order, food, their, get, she, for\n",
            "Topic 3: you, order, for, food, but, she, your, that, our, this\n",
            "Topic 4: for, but, order, good, with, you, food, that, great, she\n",
            "Topic 5: food, but, you, order, for, get, they, that, this, she\n",
            "Topic 6: with, food, order, that, but, good, for, this, pizza, great\n",
            "Topic 7: but, food, with, get, order, that, they, great, you, pizza\n",
            "Topic 8: get, this, order, with, pizza, there, you, place, she, but\n",
            "Topic 9: this, order, you, get, but, with, that, one, there, time\n",
            "\n",
            "Topics for Rank 3 Model:\n",
            "Topic 0: that, for, but, they, with, get, you, food, this, order\n",
            "Topic 1: that, for, they, food, with, you, good, great, but, service\n",
            "Topic 2: they, that, with, this, order, their, get, food, she, for\n",
            "Topic 3: you, order, for, but, food, that, she, your, this, our\n",
            "Topic 4: for, but, food, good, order, with, you, that, they, great\n",
            "Topic 5: food, but, order, you, for, get, they, she, with, your\n"
          ]
        }
      ],
      "source": [
        "# Combine coherence scores with model indices for TF-IDF\n",
        "coherence_with_indices_tfidf = list(zip(tfidf_coherence_values, range(len(tfidf_coherence_values))))\n",
        "\n",
        "# Sort by coherence score in descending order for TF-IDF\n",
        "sorted_by_coherence_tfidf = sorted(coherence_with_indices_tfidf, key=lambda x: x[0], reverse=True)\n",
        "\n",
        "# Extract indices of the top three models for TF-IDF\n",
        "top_three_indices_tfidf = [index for _, index in sorted_by_coherence_tfidf[:3]]\n",
        "\n",
        "# Print details of the top three TF-IDF models\n",
        "print(\"Top 3 TF-IDF Models based on Coherence Scores:\")\n",
        "for rank, model_index in enumerate(top_three_indices_tfidf, start=1):\n",
        "    model = tfidf_model_list[model_index]\n",
        "    coherence_score = tfidf_coherence_values[model_index]\n",
        "    num_topics = 2 + 2*model_index  # Adjusted based on your step size and start value\n",
        "    print(f\"Rank {rank}: Model with {num_topics} Topics, Coherence Score: {coherence_score}\")\n",
        "\n",
        "# Directly assess the top 3 models\n",
        "top_three_models = [bow_model_list[i] for i in top_three_indices]\n",
        "\n",
        "# Print topic details for the top three models\n",
        "for rank, model in enumerate(top_three_models, start=1):\n",
        "    print(f\"\\nTopics for Rank {rank} Model:\")\n",
        "    topics = model.show_topics(num_topics=-1, formatted=False)\n",
        "    for num, topic in topics:\n",
        "        topic_labels = \", \".join([word for word, _ in topic])\n",
        "        print(f\"Topic {num}: {topic_labels}\")"
      ]
    },
    {
      "cell_type": "code",
      "execution_count": null,
      "metadata": {
        "colab": {
          "base_uri": "https://localhost:8080/",
          "height": 487
        },
        "id": "_xg-iwqvFwI5",
        "outputId": "b1e3781f-7227-4645-bab7-be8d6a12401a"
      },
      "outputs": [
        {
          "data": {
            "image/png": "[encoded data removed]",
            "text/plain": [
              "<Figure size 1000x500 with 1 Axes>"
            ]
          },
          "metadata": {},
          "output_type": "display_data"
        }
      ],
      "source": [
        "# Plotting for TF-IDF models\n",
        "x = range(2, 11, 2)\n",
        "plt.figure(figsize=(10, 5))\n",
        "plt.plot(x, tfidf_coherence_values, marker='o', linestyle='-', color='r')\n",
        "plt.xlabel(\"Number of Topics\")\n",
        "plt.ylabel(\"Coherence Score\")\n",
        "plt.title(\"LSA Model Coherence Scores by Number of Topics (TF-IDF)\")\n",
        "plt.xticks(x)\n",
        "plt.legend([\"Coherence Values\"], loc='best')\n",
        "plt.grid(True)\n",
        "plt.show()"
      ]
    },
    {
      "cell_type": "markdown",
      "metadata": {
        "id": "iJZKp7oPFMUy"
      },
      "source": [
        "**Experimentation**"
      ]
    },
    {
      "cell_type": "code",
      "execution_count": null,
      "metadata": {
        "colab": {
          "base_uri": "https://localhost:8080/"
        },
        "id": "05_QnHYaGG2P",
        "outputId": "d57dd380-cd94-40c6-eb27-023a34a3c829"
      },
      "outputs": [
        {
          "name": "stdout",
          "output_type": "stream",
          "text": [
            "\n",
            "Explored 1 Topics (TF-IDF): Coherence Score = 0.6484663860215972\n",
            "Topic 0: that, they, you, for, but, food, order, get, with, good\n",
            "\n",
            "Explored 3 Topics (TF-IDF): Coherence Score = 0.495176881740289\n",
            "Topic 0: that, they, you, for, but, food, order, get, with, good\n",
            "Topic 1: pizza, crust, food, delivery, topping, cheese, order, slice, sushi, great\n",
            "Topic 2: great, she, delicious, pizza, order, the_best, love, good, place, awesome\n",
            "\n",
            "Explored 5 Topics (TF-IDF): Coherence Score = 0.46411994589951766\n",
            "Topic 0: that, they, you, for, but, food, order, get, with, good\n",
            "Topic 1: pizza, crust, food, delivery, topping, cheese, slice, sushi, order, sub\n",
            "Topic 2: great, she, delicious, order, pizza, the_best, love, good, place, awesome\n",
            "Topic 3: great, chicken, service, food, sandwich, she, drink, bar, sauce, rice\n",
            "Topic 4: burger, fry, you, chicken, she, sandwich, sushi, rice, order, food\n",
            "\n",
            "Explored 7 Topics (TF-IDF): Coherence Score = 0.48623193977025203\n",
            "Topic 0: that, they, you, for, but, food, order, get, with, good\n",
            "Topic 1: pizza, crust, delivery, food, topping, cheese, slice, sub, drink, order_from\n",
            "Topic 2: great, she, delicious, order, the_best, good, love, place, awesome, amazing\n",
            "Topic 3: great, chicken, food, service, sauce, staff, always, rice, drink, she\n",
            "Topic 4: you, she, sandwich, coffee, your, always, service, our, order, food\n",
            "Topic 5: sandwich, sushi, order, burger, delicious, roll, you, bar, fry, bread\n",
            "Topic 6: burger, sushi, sandwich, fry, wing, bar, roll, drink, beer, good\n",
            "\n",
            "Explored 3 Topics (TF-IDF): Coherence Score = 0.490546067886555\n",
            "Topic 0: that, they, you, for, but, food, order, get, with, good\n",
            "Topic 1: pizza, crust, food, delivery, topping, order, cheese, slice, great, sushi\n",
            "Topic 2: great, she, delicious, pizza, order, the_best, love, good, place, amazing\n",
            "\n",
            "Explored 5 Topics (TF-IDF): Coherence Score = 0.4647410810451701\n",
            "Topic 0: that, they, you, for, but, food, order, get, with, good\n",
            "Topic 1: pizza, crust, delivery, food, topping, order, cheese, slice, sushi, sub\n",
            "Topic 2: great, she, delicious, pizza, order, the_best, love, place, good, awesome\n",
            "Topic 3: great, chicken, service, food, she, sandwich, drink, bar, sauce, staff\n",
            "Topic 4: burger, fry, sandwich, you, she, chicken, sushi, service, rice, food\n"
          ]
        }
      ],
      "source": [
        "# Exploring around the top 3 models with TF-IDF\n",
        "for model_index in top_three_indices_tfidf:\n",
        "    original_num_topics = 2 + model_index * 2\n",
        "\n",
        "    for adjustment in [-1, 1]:\n",
        "        new_num_topics = original_num_topics + adjustment\n",
        "        new_model, new_coherence_score = retrain_evaluate_lsa(tfidf_corpus, dictionary, new_num_topics)\n",
        "\n",
        "        print(f\"\\nExplored {new_num_topics} Topics (TF-IDF): Coherence Score = {new_coherence_score}\")\n",
        "\n",
        "        topics = new_model.show_topics(num_topics=-1, formatted=False)\n",
        "        for num, topic in topics:\n",
        "            topic_words = \", \".join([word for word, _ in topic])\n",
        "            print(f\"Topic {num}: {topic_words}\")"
      ]
    },
    {
      "cell_type": "markdown",
      "metadata": {
        "id": "E88a_uDlFMUy"
      },
      "source": [
        "Although the models with the highest coherence scores are one and two topics coherence scores of about 0.64 and 0.61, just one or two topics is unlikely to show granularity or specificity in its information. In fact, the topic words for 1 topic seem to be simply general words related to businesses, not related to specificaly good or bad service.\n",
        "\n",
        "Aside from 1 or 2 topics, 6 topics has the next highest coherence score of about 0.51. In addition, I expect 6 topics to be sufficient enough to model a subject such as restaurant reviews.\n",
        "\n",
        "I label the 6 topics as follows:\n",
        "0.   General Dining Feedback. Covers broad aspects of dining experiences, focusing on the ordering process and overall interactions, indicating a mix of sentiments.\n",
        "1.   Positive Dining Experiences. Highlights satisfaction with food and service, using positive descriptors like \"good\" and \"great,\" suggesting favorable reviews.\n",
        "2.   Staff Interactions and Orders. Details interactions with restaurant staff (\"she,\" \"their\") and the ordering process.\n",
        "3. Personal Order Experiences. Focuses on individual ordering experiences (\"your,\" \"you\") and specific mentions of food, indicating personal feedback on service and meals.\n",
        "4. Quality of Food and Service. Emphasizes the quality of food and service, with a positive outlook (\"good,\" \"great\"), reflecting commendations on dining experiences.\n",
        "5.   Mixed Reviews on Orders. Captures mixed feelings about food orders, with a balance of positive and negative nuances, indicating varied customer experiences.\n",
        "\n",
        "The 6 topics outlined in the model offer a look into the restaurant review subject, spanning from general observations on dining to specific aspects of service and food quality. Such a model could be very valuable to restaurant owners."
      ]
    },
    {
      "cell_type": "markdown",
      "metadata": {
        "id": "2KneD-nBRWOz"
      },
      "source": [
        "## LDA"
      ]
    },
    {
      "cell_type": "markdown",
      "metadata": {
        "id": "4JlbeEaBKi4Z"
      },
      "source": [
        "### Make Dictionary/Corpus"
      ]
    },
    {
      "cell_type": "code",
      "execution_count": null,
      "metadata": {
        "id": "wryglbFVJfpC"
      },
      "outputs": [],
      "source": [
        "# Make bigrams\n",
        "bigram_phrases = Phrases(review_column, min_count=5, threshold=10)\n",
        "bigram = Phraser(bigram_phrases)\n",
        "bigram_reviews = [bigram[review] for review in review_column]"
      ]
    },
    {
      "cell_type": "code",
      "execution_count": null,
      "metadata": {
        "colab": {
          "base_uri": "https://localhost:8080/"
        },
        "id": "iF3wsnHsKFMJ",
        "outputId": "d60ecd66-8b9f-4d93-dc61-cdb0c4094f4d"
      },
      "outputs": [
        {
          "name": "stdout",
          "output_type": "stream",
          "text": [
            "Number of unique tokens: 19760\n"
          ]
        }
      ],
      "source": [
        "# Create a dictionary representation of the documents\n",
        "dictionary = Dictionary(bigram_reviews)\n",
        "\n",
        "# Filter out extremes to remove noise\n",
        "dictionary.filter_extremes(no_below=5, no_above=0.5)\n",
        "\n",
        "# The final number of tokens in the dictionary\n",
        "print(f\"Number of unique tokens: {len(dictionary)}\")"
      ]
    },
    {
      "cell_type": "code",
      "execution_count": null,
      "metadata": {
        "id": "JimeL9fhLPfk"
      },
      "outputs": [],
      "source": [
        "# Convert document into the BOW format\n",
        "corpus = [dictionary.doc2bow(review) for review in bigram_reviews]"
      ]
    },
    {
      "cell_type": "markdown",
      "metadata": {
        "id": "bm7LRS2iKoGw"
      },
      "source": [
        "### Implement"
      ]
    },
    {
      "cell_type": "code",
      "execution_count": null,
      "metadata": {
        "colab": {
          "base_uri": "https://localhost:8080/"
        },
        "id": "aRT0_gm3KKRz",
        "outputId": "1e0b3802-51b5-4a8b-8a0d-6888a1a982d8"
      },
      "outputs": [
        {
          "name": "stderr",
          "output_type": "stream",
          "text": [
            "/usr/local/lib/python3.10/dist-packages/ipykernel/ipkernel.py:283: DeprecationWarning: `should_run_async` will not call `transform_cell` automatically in the future. Please pass the result to `transformed_cell` argument and any exception that happen during thetransform in `preprocessing_exc_tuple` in IPython 7.17 and above.\n",
            "  and should_run_async(code)\n"
          ]
        }
      ],
      "source": [
        "# Compute coherence function\n",
        "def compute_coherence_values(dictionary, corpus, texts, limit, start=4, step=2):\n",
        "    coherence_values = []\n",
        "    model_list = []\n",
        "    for num_topics in range(start, limit + 1, step):\n",
        "        model = LdaModel(corpus=corpus, id2word=dictionary, num_topics=num_topics,\n",
        "                             chunksize=1500, passes=20, iterations=400,\n",
        "                             eval_every=None, random_state=100,\n",
        "                             alpha='auto', eta='auto')\n",
        "        model_list.append(model)\n",
        "        coherencemodel = CoherenceModel(model=model, texts=texts, dictionary=dictionary, coherence='c_v')\n",
        "        coherence_values.append(coherencemodel.get_coherence())\n",
        "    return model_list, coherence_values"
      ]
    },
    {
      "cell_type": "code",
      "execution_count": null,
      "metadata": {
        "colab": {
          "background_save": true,
          "base_uri": "https://localhost:8080/"
        },
        "id": "DE5YWoS_LhWN",
        "outputId": "03b4469d-2967-4b82-a9d9-2ffdf20167dd"
      },
      "outputs": [
        {
          "name": "stderr",
          "output_type": "stream",
          "text": [
            "/usr/local/lib/python3.10/dist-packages/ipykernel/ipkernel.py:283: DeprecationWarning: `should_run_async` will not call `transform_cell` automatically in the future. Please pass the result to `transformed_cell` argument and any exception that happen during thetransform in `preprocessing_exc_tuple` in IPython 7.17 and above.\n",
            "  and should_run_async(code)\n",
            "WARNING:gensim.models.ldamodel:updated prior is not positive\n"
          ]
        }
      ],
      "source": [
        "# Evaluate Models\n",
        "model_list, coherence_values = compute_coherence_values(dictionary=dictionary, corpus=corpus, texts=bigram_reviews, start=4, step=2, limit=18)"
      ]
    },
    {
      "cell_type": "code",
      "execution_count": null,
      "metadata": {
        "colab": {
          "background_save": true
        },
        "id": "KEbZ5GMvLjKX",
        "outputId": "d2b6e98d-e706-4c22-87c1-cfe844685ba2"
      },
      "outputs": [
        {
          "name": "stdout",
          "output_type": "stream",
          "text": [
            "Best Model: 6 Topics, Coherence Score: 0.43407524316302704\n"
          ]
        },
        {
          "name": "stderr",
          "output_type": "stream",
          "text": [
            "/usr/local/lib/python3.10/dist-packages/ipykernel/ipkernel.py:283: DeprecationWarning: `should_run_async` will not call `transform_cell` automatically in the future. Please pass the result to `transformed_cell` argument and any exception that happen during thetransform in `preprocessing_exc_tuple` in IPython 7.17 and above.\n",
            "  and should_run_async(code)\n"
          ]
        }
      ],
      "source": [
        "# Select the model with the highest coherence score\n",
        "best_score = max(coherence_values)\n",
        "best_index = coherence_values.index(best_score)\n",
        "best_lda_model = model_list[best_index]\n",
        "\n",
        "# Print the selected model's details\n",
        "print(f\"Best Model: {best_index + 4} Topics, Coherence Score: {best_score}\")"
      ]
    },
    {
      "cell_type": "code",
      "execution_count": null,
      "metadata": {
        "colab": {
          "background_save": true
        },
        "id": "Dfe71iQ9Lli7",
        "outputId": "e33a61e8-123c-4fe0-e818-128cddb4a6a5"
      },
      "outputs": [
        {
          "name": "stderr",
          "output_type": "stream",
          "text": [
            "/usr/local/lib/python3.10/dist-packages/ipykernel/ipkernel.py:283: DeprecationWarning: `should_run_async` will not call `transform_cell` automatically in the future. Please pass the result to `transformed_cell` argument and any exception that happen during thetransform in `preprocessing_exc_tuple` in IPython 7.17 and above.\n",
            "  and should_run_async(code)\n"
          ]
        },
        {
          "data": {
            "text/html": [
              "\n",
              "<link rel=\"stylesheet\" type=\"text/css\" href=\"https://cdn.jsdelivr.net/gh/bmabey/pyLDAvis@3.4.0/pyLDAvis/js/ldavis.v1.0.0.css\">\n",
              "\n",
              "\n",
              "<div id=\"ldavis_el2371362102555227046513734839\" style=\"background-color:white;\"></div>\n",
              "<script type=\"text/javascript\">\n",
              "\n",
              "var ldavis_el2371362102555227046513734839_data = {\"mdsDat\": {\"x\": [-0.2509391893926103, -0.18576071342637449, -0.25812557850110407, 0.054055321266765745, 0.003728639425806342, 0.16590980512357079, 0.22688338385940204, 0.24424833164454468], \"y\": [0.025465585959019554, 0.026875366036288584, 0.08178284466320013, -0.20650913584676311, -0.021675959786435398, -0.28260076418318547, 0.07924921780017744, 0.29741284535769824], \"topics\": [1, 2, 3, 4, 5, 6, 7, 8], \"cluster\": [1, 1, 1, 1, 1, 1, 1, 1], \"Freq\": [46.812824708404584, 17.9471125837525, 12.336921645791863, 7.975425348314953, 6.125460454895839, 3.8388916329413365, 3.2190979106071764, 1.744265715291752]}, \"tinfo\": {\"Term\": [\"good\", \"food\", \"order\", \"with\", \"place\", \"great\", \"they\", \"very\", \"that\", \"you\", \"pizza\", \"our\", \"chicken\", \"but\", \"she\", \"salad\", \"service\", \"wait\", \"sandwich\", \"fry\", \"say\", \"love\", \"here\", \"take\", \"drink\", \"ask\", \"get\", \"when\", \"cheese\", \"delicious\", \"you\", \"just\", \"your\", \"think\", \"look\", \"thing\", \"way\", \"now\", \"right\", \"day\", \"since\", \"star\", \"seem\", \"review\", \"something\", \"where\", \"close\", \"maybe\", \"actually\", \"change\", \"those\", \"hard\", \"either\", \"any\", \"may\", \"mean\", \"might\", \"person\", \"yes\", \"more_than\", \"they\", \"that\", \"one\", \"can\", \"use\", \"open\", \"what\", \"there\", \"but\", \"from\", \"only\", \"know\", \"other\", \"get\", \"like\", \"make\", \"people\", \"would\", \"see\", \"all\", \"eat\", \"want\", \"because\", \"more\", \"will\", \"them\", \"out\", \"their\", \"some\", \"about\", \"time\", \"with\", \"when\", \"place\", \"great\", \"love\", \"always\", \"best\", \"friendly\", \"clean\", \"amazing\", \"excellent\", \"breakfast\", \"awesome\", \"fast\", \"super\", \"amaze\", \"will_definitely\", \"quick\", \"fantastic\", \"town\", \"wonderful\", \"recommend\", \"very\", \"attentive\", \"glad\", \"helpful\", \"value\", \"super_friendly\", \"accommodate\", \"impressed\", \"outstanding\", \"drive_thru\", \"incredible\", \"delicious\", \"favorite\", \"had\", \"good\", \"staff\", \"definitely\", \"everything\", \"price\", \"nice\", \"food\", \"lunch\", \"family\", \"service\", \"dinner\", \"place\", \"fresh\", \"restaurant\", \"here\", \"try\", \"really\", \"also\", \"too\", \"well\", \"back\", \"area\", \"their\", \"with\", \"menu\", \"she\", \"wait\", \"ask\", \"minute\", \"her\", \"call\", \"manager\", \"check\", \"waitress\", \"finally\", \"arrive\", \"receive\", \"him\", \"min\", \"ready\", \"phone\", \"horrible\", \"waiter\", \"online\", \"lady\", \"girl\", \"bill\", \"answer\", \"explain\", \"awful\", \"poor\", \"attitude\", \"terrible\", \"cashier\", \"correct\", \"our\", \"tell\", \"customer\", \"tip\", \"employee\", \"order\", \"server\", \"leave\", \"after\", \"his\", \"take\", \"hour\", \"then\", \"say\", \"table\", \"never\", \"customer_service\", \"another\", \"again\", \"when\", \"come\", \"back\", \"time\", \"food\", \"before\", \"out\", \"give\", \"dish\", \"rice\", \"spicy\", \"bowl\", \"taco\", \"shrimp\", \"beef\", \"burrito\", \"chicken\", \"bagel\", \"pork\", \"flavorful\", \"noodle\", \"chip\", \"chinese\", \"pho\", \"seafood\", \"mexican\", \"salsa\", \"authentic\", \"bean\", \"curry\", \"thai\", \"vegetable\", \"spice\", \"tofu\", \"broth\", \"vegetarian\", \"matcha\", \"korean\", \"flavor\", \"veggie\", \"bland\", \"combo\", \"meat\", \"soup\", \"sauce\", \"taste\", \"with\", \"sweet\", \"hot\", \"side\", \"which\", \"also\", \"order\", \"bit\", \"meal\", \"some\", \"bar\", \"coffee\", \"beer\", \"room\", \"tea\", \"fun\", \"cool\", \"bartender\", \"space\", \"wine\", \"hotel\", \"cafe\", \"music\", \"wall\", \"play\", \"game\", \"vibe\", \"cocktail\", \"patio\", \"lovely\", \"happy_hour\", \"seating\", \"pastry\", \"date\", \"gyro\", \"event\", \"cute\", \"comfortable\", \"strong\", \"ice\", \"parking\", \"park\", \"drink\", \"crowd\", \"beautiful\", \"night\", \"stay\", \"with\", \"friend\", \"table\", \"sit\", \"outside\", \"enjoy\", \"selection\", \"highly_recommend\", \"menu\", \"which\", \"some\", \"pizza\", \"fry\", \"cheese\", \"burger\", \"wing\", \"steak\", \"slice\", \"topping\", \"sub\", \"bacon\", \"crust\", \"bbq\", \"mushroom\", \"sausage\", \"rib\", \"juicy\", \"medium\", \"pie\", \"soggy\", \"brisket\", \"waffle\", \"sweet_potato\", \"mac\", \"onion_ring\", \"quesadilla\", \"pickle\", \"greek\", \"biscuit\", \"coleslaw\", \"band\", \"nacho\", \"calamari\", \"greasy\", \"crispy\", \"side\", \"sauce\", \"onion\", \"delivery\", \"large\", \"top\", \"dry\", \"order\", \"with\", \"potato\", \"salad\", \"sandwich\", \"bread\", \"wrap\", \"pasta\", \"healthy\", \"toast\", \"italian\", \"juice\", \"vegan\", \"lamb\", \"fruit\", \"lemon\", \"dress\", \"clam\", \"strawberry\", \"pupusas\", \"combination\", \"omelet\", \"dressing\", \"opt_for\", \"lobster\", \"apple\", \"smoothie\", \"bake\", \"baked\", \"meatball\", \"delight\", \"croissant\", \"perfection\", \"ham\", \"lettuce\", \"egg\", \"grilled\", \"tomato\", \"avocado\", \"spinach\", \"green\", \"dessert\", \"ingredient\", \"butter\", \"with\", \"fresh\", \"bakery\", \"sweet\", \"option\", \"sushi\", \"roll\", \"ice_cream\", \"cake\", \"salmon\", \"gelato\", \"chocolate\", \"tuna\", \"japanese\", \"scallop\", \"sashimi\", \"brazilian\", \"groupon\", \"cone\", \"mask\", \"cheesecake\", \"hojicha\", \"philly\", \"spicy_tuna\", \"tempura\", \"crab_cake\", \"miso_soup\", \"cat\", \"write_review\", \"calzone\", \"nigiri\", \"nyc\", \"dominos\", \"japan\", \"inviting\", \"fish\", \"flavour\", \"vanilla\", \"dessert\", \"chef\", \"crab\", \"piece\", \"top\", \"avocado\"], \"Freq\": [37789.0, 43338.0, 35159.0, 52242.0, 36438.0, 24249.0, 55554.0, 24045.0, 58945.0, 48992.0, 10902.0, 15020.0, 10273.0, 52722.0, 11976.0, 6665.0, 17990.0, 10946.0, 6571.0, 6825.0, 14269.0, 12135.0, 20938.0, 12020.0, 8358.0, 9025.0, 34924.0, 17650.0, 5381.0, 10165.0, 48991.83004616231, 21385.96110178633, 10988.611251938955, 9265.864848677265, 9162.949620092877, 7253.757997427214, 7088.654456868873, 6016.262814472149, 5506.886305412477, 6142.6404718951335, 5324.116945534093, 5212.601009126383, 5211.013359197953, 4449.198502851403, 4382.642144907859, 3993.2103382347436, 3853.8864240826083, 3303.125963630631, 3105.3130984271015, 2535.7089366737664, 2363.0741022874176, 2225.029909503454, 2194.820169335668, 5665.523547072027, 2026.709454298768, 2006.489013041759, 1918.1854265049205, 1766.2346335824147, 1688.6565221946755, 1681.8000398462425, 55516.961980559616, 58443.682138302654, 21023.647496813333, 17509.577212207256, 5299.8936338603635, 4595.707416742906, 11970.442571090096, 26359.01900022824, 50906.047352179354, 16795.854650453897, 11098.311755647632, 6975.691878914533, 10340.989080854653, 32118.730120344386, 20777.9281386593, 15804.527963461565, 7796.904607861838, 19948.090196158504, 6045.713479604568, 18293.543641694916, 10774.165222815442, 9888.049268377907, 11312.54245573227, 9938.804251160782, 16703.11371895641, 10120.994311647262, 14864.070351504051, 15410.65258496194, 11563.384716691804, 9823.495550842566, 12558.70141863585, 21175.170042057773, 11625.732918511789, 11284.425946827663, 24248.216912533815, 12135.005439254117, 9085.383592176144, 8771.734932433217, 8003.536444019985, 3887.5498142003453, 3823.3504557865867, 3734.2321344398724, 3399.197960764621, 3395.539142245793, 3174.6574572723393, 3863.018049017698, 2635.7893888329318, 2579.693460186374, 2498.870165266123, 2098.3874044767335, 2045.3959885799663, 1969.578387407839, 3450.487031102851, 24034.8016446405, 1619.9762449145876, 1532.0925206905763, 1382.6546732801542, 977.8142436171131, 854.1559269319498, 808.1904406189472, 731.5228988004084, 721.7041860796718, 701.4710244018445, 685.8379537372813, 10125.496552266806, 4054.132328265945, 1252.9438119682477, 35507.08471263748, 8272.134630112829, 5245.4618735627, 5220.0780885094455, 7199.661548732641, 9991.474381079992, 36751.53643393045, 5553.6330866898825, 3141.381245203643, 15078.806171976035, 4307.400317352134, 25153.492029486337, 6444.26553676995, 8897.147575281822, 11929.445018324104, 10196.848133882171, 8975.469332469173, 7414.221468050098, 5459.894883195889, 5964.282021665679, 6042.696188817303, 4186.209269704787, 5749.560076877527, 6948.806075780435, 4657.608823227632, 11975.999399797784, 10945.437770161863, 9024.683408303941, 5688.34517823047, 5266.473669031234, 5008.654973726849, 3131.720261620205, 2638.74025576205, 2563.5305022787625, 2488.9093952909957, 2306.4634958445563, 1820.3378337657198, 1586.6982167515405, 1579.713439072495, 1533.9311402683452, 1503.5834490174332, 1388.7610684074198, 1258.41461868145, 1242.9466615515773, 1239.7812044347465, 1198.8640265674078, 1173.596587490519, 1122.059104604262, 1016.715732390556, 976.7361540491763, 942.779403376356, 914.0733582692473, 1522.9837976550632, 818.9890569300856, 765.8758330157559, 14944.250623921753, 6299.058294572983, 3811.428464308042, 1436.0961870226856, 2381.9576206384495, 29604.243431669798, 3310.527139961601, 4777.385505830515, 7680.623053700988, 2616.5476476508825, 8674.96386696144, 3250.352434341966, 5410.686131620219, 8730.386416718135, 5152.13946270015, 5026.574812905241, 2093.2269380721577, 3114.9893613167583, 4188.66193573255, 6024.143441697247, 5820.218932694638, 4765.745127253263, 4956.469556208832, 6470.580143173949, 3183.0136044311607, 4017.8629789070183, 3155.0586129642006, 6189.252450724838, 4245.773018421407, 3466.9222124555636, 3177.3591536419653, 2883.895137525356, 2860.721824948098, 2277.7504623353275, 2219.5108315889283, 10269.358664965537, 1694.1914511260998, 1687.7097952465692, 1609.5172155102036, 1578.5496539037706, 1577.1547926883281, 1561.467189672178, 1510.6393504244393, 1456.7521247031834, 1337.0392217489136, 1335.572495750536, 1319.9521034170928, 1243.7621556318484, 1036.505901156317, 950.6719048291512, 949.842790562033, 921.0235753094529, 906.6596531523144, 901.8482717134931, 859.7545359704181, 856.7229372129692, 819.3753570628706, 5521.155815429941, 2425.8268209330686, 1418.5316954323519, 1131.307253540758, 4236.867260749505, 2172.688803784635, 5710.553602903483, 5650.301073808401, 11934.0689919669, 2218.345527022975, 2301.539895651614, 2334.798643423315, 3041.651340171185, 2712.4865425160947, 3503.8212879174976, 1941.5722094069874, 1842.076444073283, 1727.0325618449726, 5989.9643250672225, 4307.011089762492, 2842.487499912792, 1952.111754445008, 1910.7870848540024, 1820.5269112081526, 1718.7789949913736, 1674.1352563868943, 1517.050669312789, 1453.48897326699, 1415.9700363088234, 1378.611217884313, 1319.3465439708766, 1091.847019396671, 997.5154404098082, 994.7562080291109, 988.2669392363441, 978.3484213754278, 957.7716653628509, 893.5475222516764, 888.1846552774194, 849.8487248031395, 818.4161319626007, 725.3486272957728, 716.2080458037256, 709.1733962536769, 695.0411746700644, 687.2068786544952, 677.3664225212476, 639.9999819078403, 1179.4582458501393, 1159.0334079473016, 6507.650778911542, 1060.4664151410914, 872.2440299528897, 2251.7436796616676, 1261.3723854879245, 8236.823706083722, 2356.2372660195892, 2140.4138834991177, 1446.3854086159488, 1206.489471420657, 1437.8283713924882, 1122.3323055743683, 1109.9399931652406, 1454.2204931338176, 1500.6535011567419, 1071.5353052904281, 10901.577838550476, 6824.516785923791, 5381.1196031273585, 4532.5347556726865, 2910.3033386826446, 2673.3761127133025, 2312.0824657963763, 1715.2141495232997, 1397.749583091989, 1397.5408487120887, 1217.2947583655427, 1070.8989537331797, 1044.3381627746433, 936.9156628717368, 878.4423633811095, 800.6816909234839, 751.5729088609147, 733.2005277921725, 711.3153078773495, 661.57347028382, 622.0029533007599, 538.1528769951595, 532.4920770427817, 508.4952993502269, 482.53277485933404, 417.3102323643205, 414.90006845978684, 403.35293263886996, 371.65182696596787, 354.41453792049964, 375.8842327826581, 484.4037741708361, 728.4236204238737, 1139.4067895625992, 1785.4540590202757, 1764.0809235753343, 739.1601315364845, 948.231332822518, 1017.9556657656051, 1019.074384527072, 828.4286044536633, 1939.937003106225, 1602.5198546487386, 735.4241946442099, 6664.809660091546, 6570.794765093359, 2703.1758644714505, 1471.9454382799438, 1245.2820950748858, 1143.4020534844333, 1084.2539455058923, 991.8503795551283, 896.5754389440101, 843.8633098005791, 678.9807665610907, 675.2104090818292, 622.4210948238991, 561.4163450503507, 560.8982047470065, 533.3580917885541, 508.6036045300388, 504.2058210233965, 501.0310099644535, 497.2202642828306, 492.84949832879386, 469.0011764696333, 454.065470059739, 445.68966962298003, 440.9116789828909, 434.53335416852525, 428.75057577447814, 424.80628934715435, 409.081548849815, 380.29779971222257, 573.967738630146, 804.5601190917317, 1848.9007413050883, 550.3016885624903, 816.8491274827253, 701.8078359818833, 517.911234278597, 654.7566852432989, 873.4131087681852, 660.0286440409961, 565.3456585599729, 859.0954634057808, 670.5938883752572, 519.2197899348569, 555.4241391856461, 523.5421010961837, 3944.333598463672, 3540.636161484363, 1737.099544816169, 1701.0174266508598, 1208.5828295091355, 1047.5903032505307, 1009.4205829785153, 655.3164793481609, 597.5367951004139, 556.6195902339389, 424.6076167397072, 399.87627370139154, 390.54610054465576, 351.537232004256, 351.75116541581053, 299.2596121341402, 252.75214699996397, 240.9247817602859, 238.55751844954438, 233.7989819489588, 233.90264056042082, 232.8639288829374, 222.87975595820342, 221.66668825092796, 220.73051252846471, 208.6080083946066, 201.07883063935478, 187.02960855128063, 176.09813812093304, 174.68627041093887, 1423.7093105175459, 450.2329535557786, 242.55142113197786, 538.0509125611306, 409.2468026150229, 384.4263356239787, 356.0195351451419, 271.1606290828998, 234.93572398694258], \"Total\": [37789.0, 43338.0, 35159.0, 52242.0, 36438.0, 24249.0, 55554.0, 24045.0, 58945.0, 48992.0, 10902.0, 15020.0, 10273.0, 52722.0, 11976.0, 6665.0, 17990.0, 10946.0, 6571.0, 6825.0, 14269.0, 12135.0, 20938.0, 12020.0, 8358.0, 9025.0, 34924.0, 17650.0, 5381.0, 10165.0, 48992.66034720715, 21386.87541891021, 10989.441544675494, 9266.695164704432, 9163.783029237049, 7254.588352528015, 7089.484842812478, 6017.093175804339, 5507.716679028209, 6143.588865286713, 5324.947371776847, 5213.43126330843, 5211.843613898189, 4450.028727762579, 4383.4724460584, 3994.0406264903077, 3854.7166415867177, 3303.9562250610297, 3106.143325616038, 2536.53924076875, 2363.9045058030792, 2225.8602940303745, 2195.650616953343, 5667.826279004843, 2027.5398354968681, 2007.3193306309465, 1919.0157549562568, 1767.064743165244, 1689.4868521665026, 1682.6303272703262, 55554.201652607924, 58945.44431179195, 21308.475740477425, 17737.190959858115, 5318.265368826038, 4608.76549854762, 12139.449850847848, 26953.203416269072, 52722.82896892074, 17191.500779385868, 11297.23131767531, 7056.20024239055, 10560.739752184614, 34924.665421125115, 22228.206799444048, 16698.103624498883, 8019.663995161862, 21967.9920426448, 6145.907157743216, 21325.88954896869, 11891.372125570077, 10774.82806083026, 12737.586518650805, 10954.137229105047, 21027.190610838, 11574.412345752162, 18972.866014346935, 21161.483794113563, 14458.69462494548, 11817.30692426185, 17980.795466323307, 52242.22990841186, 17650.58953412677, 36438.62829694463, 24249.04763332723, 12135.83638317773, 9086.214368403256, 8772.565715583089, 8004.367116036527, 3888.3806255017034, 3824.1811764134127, 3735.0628944051737, 3400.028768956175, 3396.3698148428084, 3175.488114952946, 3864.105685141664, 2636.6202380374493, 2580.524312244448, 2499.7008258430083, 2099.2182681553977, 2046.2267780129391, 1970.4092232447758, 3451.999175940642, 24045.732057816393, 1620.8068691587114, 1532.9236069350172, 1383.4852774479928, 978.6450321492955, 854.98665342166, 809.0214794940522, 732.3536296438614, 722.5351701944693, 702.3024802534115, 686.668655552523, 10165.477493527776, 4064.6365196005936, 1257.1495319953483, 37789.39645189362, 8670.52819313216, 5478.476953476114, 5470.472887560422, 7628.612224017138, 10936.56093409363, 43338.40649184628, 5960.473568512819, 3261.329728992646, 17990.11969716952, 4734.494653793236, 36438.62829694463, 8422.088337883588, 13440.334725271925, 20938.256878679505, 17614.17955201376, 15241.64726722526, 13978.654101449702, 9219.489859534626, 12215.357780558235, 14008.854072642205, 5392.106015044942, 21161.483794113563, 52242.22990841186, 9544.221318042057, 11976.832814359117, 10946.271487792714, 9025.516992575864, 5689.178439891252, 5267.307107818775, 5009.488539893608, 3132.5533599441164, 2639.574182307554, 2564.363912079934, 2489.7484748472275, 2307.297146543467, 1821.171292441029, 1587.5317031271225, 1580.54663054291, 1534.7648161249049, 1504.416541521422, 1389.594343047805, 1259.2481855155427, 1243.7802471841437, 1240.614916791961, 1199.6976206768045, 1174.429980041922, 1122.8926435494416, 1017.5494925330132, 977.5697613044482, 943.613009660894, 914.9067945579145, 1524.5258192473477, 819.8225128166785, 766.7092843000679, 15020.473035046118, 6327.648571840173, 3839.1843354454213, 1438.1137887300542, 2419.9204015759956, 35159.36534048759, 3547.779580220315, 5417.44259719006, 9487.126405329835, 2939.8340950537804, 12020.620523638336, 3829.8471713597874, 7537.429608875398, 14269.0266198072, 7293.271851261464, 7956.828876246496, 2413.0507864942, 4481.764491844433, 8646.641443028902, 17650.58953412677, 17664.31216010076, 14008.854072642205, 17980.795466323307, 43338.40649184628, 6056.236738341525, 18972.866014346935, 11438.195190309374, 6190.089998924447, 4246.610227632746, 3467.7596901903407, 3178.1968924329417, 2884.732618939201, 2861.55956033865, 2278.587927245217, 2220.348080199363, 10273.553761156267, 1695.0297014968064, 1688.5470584505695, 1610.354876798565, 1579.3867047998726, 1577.9923015139625, 1562.304352131586, 1511.4766251419308, 1457.5898308810395, 1337.8765998240044, 1336.4097088408018, 1320.789655480595, 1244.5997384040904, 1037.343039958252, 951.5090541476965, 950.6802515243996, 921.8607909441496, 907.4969017564259, 902.6853860851836, 860.592052188875, 857.5648541488058, 820.2129803694847, 5529.490020646621, 2430.6969483915573, 1422.3465827849936, 1134.3135684497165, 4368.928255198232, 2330.0929276257543, 7475.345005627618, 9322.38032280075, 52242.22990841186, 3503.070386221542, 4248.768391059616, 5560.91850367459, 15045.690838073977, 13978.654101449702, 35159.36534048759, 4711.76309207983, 6979.866913950614, 14458.69462494548, 5990.799652664549, 4307.846563241923, 2843.3227184563198, 1952.9470621949308, 1911.6227638486705, 1821.3623641281622, 1719.6145115591444, 1674.9703999766018, 1517.8862141744664, 1454.3244354460803, 1416.805471781734, 1379.446727161835, 1320.181711003809, 1092.6826212328315, 998.3506243042115, 995.5914795027999, 989.1026719432361, 979.1837159635279, 958.6068187978561, 894.3833325134685, 889.019701951442, 850.6844245470899, 819.2516098851065, 726.1842223562351, 717.0438527154437, 710.0089807694015, 695.8765990481849, 688.0423140526996, 678.2024715365728, 640.8355213417319, 1187.6557018109331, 1195.954552385642, 8358.640929411762, 1141.507757313533, 911.0518717413746, 3107.8196832201943, 1588.7507035808746, 52242.22990841186, 5744.943193460448, 7293.271851261464, 3526.9682210347823, 2101.958306120987, 4975.978820960758, 1951.1493549551406, 1900.196492548266, 9544.221318042057, 15045.690838073977, 14458.69462494548, 10902.400786291937, 6825.340305894999, 5381.942940094589, 4533.357852529009, 2911.126639690267, 2674.199681162543, 2312.905866268453, 1716.0378376891908, 1398.5727470614347, 1398.364257244131, 1218.117643301286, 1071.7219988092734, 1045.1623837521497, 937.7390907013553, 879.2655097101734, 801.5055386462988, 752.3971318931943, 734.0235934625243, 712.1387592677032, 662.3966291841812, 622.8265984190656, 538.9764574975352, 533.3151194618921, 509.3184305656305, 483.3582755144212, 418.1334692417409, 415.723558617305, 404.17645310488706, 372.47558113646113, 355.24005474083964, 378.3965248792255, 516.9920958660442, 877.9868245269445, 2219.457722648213, 5560.91850367459, 7475.345005627618, 1352.7112508856796, 2440.555592844523, 3083.3634488780826, 3263.3591808348274, 2011.6980070461811, 35159.36534048759, 52242.22990841186, 1447.0805710623536, 6665.638126038763, 6571.623150132966, 2704.004317036017, 1472.774135082159, 1246.1106041503444, 1144.230646461848, 1085.0825999096066, 992.6787603311614, 897.4040618248711, 844.6918935796197, 679.8094271073684, 676.039108145629, 623.2499376487523, 562.2449703612407, 561.7282375377315, 534.1870396663844, 509.4325989390369, 505.03478522858984, 501.8596840609408, 498.04864160687856, 493.6791769325893, 469.82969840885266, 454.8946464243409, 446.51813852597394, 441.74065409311254, 435.3622486750077, 429.57913010002954, 425.6355288662734, 409.91015377364386, 381.12678471583314, 575.7513540066582, 873.1317122020871, 2267.323551191476, 615.0007564320803, 1109.9693258021675, 937.4561368625256, 602.9117665403058, 1125.9605292218869, 2413.8432023580995, 1658.9870991767193, 977.8762591702468, 52242.22990841186, 8422.088337883588, 750.2821781713164, 3503.070386221542, 4441.200690535215, 3945.1673267209976, 3541.4703328339597, 1737.9337930566392, 1701.8513673774364, 1209.416826182044, 1048.424617381421, 1010.2551246263708, 656.150502181407, 598.3708989959129, 557.4540612320509, 425.44120755251885, 400.7141236566777, 391.38079674355856, 352.3713267230118, 352.58818899076476, 300.0936799547998, 253.58889055418896, 241.76031213293783, 239.39116381337215, 234.63267770046428, 234.7371507430438, 233.69780266776127, 223.71352563779752, 222.50171644855075, 221.5649568720868, 209.4415686775862, 201.9139094496812, 187.86594329933433, 176.93235624858067, 175.5223873417191, 2752.2861468692217, 729.6406125485271, 337.97253107968834, 2413.8432023580995, 1376.141776479644, 1217.1200581272817, 2352.8781389612045, 3263.3591808348274, 937.4561368625256], \"Category\": [\"Default\", \"Default\", \"Default\", \"Default\", \"Default\", \"Default\", \"Default\", \"Default\", \"Default\", \"Default\", \"Default\", \"Default\", \"Default\", \"Default\", \"Default\", \"Default\", \"Default\", \"Default\", \"Default\", \"Default\", \"Default\", \"Default\", \"Default\", \"Default\", \"Default\", \"Default\", \"Default\", \"Default\", \"Default\", \"Default\", \"Topic1\", \"Topic1\", \"Topic1\", \"Topic1\", \"Topic1\", \"Topic1\", \"Topic1\", \"Topic1\", \"Topic1\", \"Topic1\", \"Topic1\", \"Topic1\", \"Topic1\", \"Topic1\", \"Topic1\", \"Topic1\", \"Topic1\", \"Topic1\", \"Topic1\", \"Topic1\", \"Topic1\", \"Topic1\", \"Topic1\", \"Topic1\", \"Topic1\", \"Topic1\", \"Topic1\", \"Topic1\", \"Topic1\", \"Topic1\", \"Topic1\", \"Topic1\", \"Topic1\", \"Topic1\", \"Topic1\", \"Topic1\", \"Topic1\", \"Topic1\", \"Topic1\", \"Topic1\", \"Topic1\", \"Topic1\", \"Topic1\", \"Topic1\", \"Topic1\", \"Topic1\", \"Topic1\", \"Topic1\", \"Topic1\", \"Topic1\", \"Topic1\", \"Topic1\", \"Topic1\", \"Topic1\", \"Topic1\", \"Topic1\", \"Topic1\", \"Topic1\", \"Topic1\", \"Topic1\", \"Topic1\", \"Topic1\", \"Topic1\", \"Topic1\", \"Topic2\", \"Topic2\", \"Topic2\", \"Topic2\", \"Topic2\", \"Topic2\", \"Topic2\", \"Topic2\", \"Topic2\", \"Topic2\", \"Topic2\", \"Topic2\", \"Topic2\", \"Topic2\", \"Topic2\", \"Topic2\", \"Topic2\", \"Topic2\", \"Topic2\", \"Topic2\", \"Topic2\", \"Topic2\", \"Topic2\", \"Topic2\", \"Topic2\", \"Topic2\", \"Topic2\", \"Topic2\", \"Topic2\", \"Topic2\", \"Topic2\", \"Topic2\", \"Topic2\", \"Topic2\", \"Topic2\", \"Topic2\", \"Topic2\", \"Topic2\", \"Topic2\", \"Topic2\", \"Topic2\", \"Topic2\", \"Topic2\", \"Topic2\", \"Topic2\", \"Topic2\", \"Topic2\", \"Topic2\", \"Topic2\", \"Topic2\", \"Topic2\", \"Topic2\", \"Topic2\", \"Topic2\", \"Topic2\", \"Topic2\", \"Topic2\", \"Topic2\", \"Topic3\", \"Topic3\", \"Topic3\", \"Topic3\", \"Topic3\", \"Topic3\", \"Topic3\", \"Topic3\", \"Topic3\", \"Topic3\", \"Topic3\", \"Topic3\", \"Topic3\", \"Topic3\", \"Topic3\", \"Topic3\", \"Topic3\", \"Topic3\", \"Topic3\", \"Topic3\", \"Topic3\", \"Topic3\", \"Topic3\", \"Topic3\", \"Topic3\", \"Topic3\", \"Topic3\", \"Topic3\", \"Topic3\", \"Topic3\", \"Topic3\", \"Topic3\", \"Topic3\", \"Topic3\", \"Topic3\", \"Topic3\", \"Topic3\", \"Topic3\", \"Topic3\", \"Topic3\", \"Topic3\", \"Topic3\", \"Topic3\", \"Topic3\", \"Topic3\", \"Topic3\", \"Topic3\", \"Topic3\", \"Topic3\", \"Topic3\", \"Topic3\", \"Topic3\", \"Topic3\", \"Topic3\", \"Topic3\", \"Topic3\", \"Topic3\", \"Topic4\", \"Topic4\", \"Topic4\", \"Topic4\", \"Topic4\", \"Topic4\", \"Topic4\", \"Topic4\", \"Topic4\", \"Topic4\", \"Topic4\", \"Topic4\", \"Topic4\", \"Topic4\", \"Topic4\", \"Topic4\", \"Topic4\", \"Topic4\", \"Topic4\", \"Topic4\", \"Topic4\", \"Topic4\", \"Topic4\", \"Topic4\", \"Topic4\", \"Topic4\", \"Topic4\", \"Topic4\", \"Topic4\", \"Topic4\", \"Topic4\", \"Topic4\", \"Topic4\", \"Topic4\", \"Topic4\", \"Topic4\", \"Topic4\", \"Topic4\", \"Topic4\", \"Topic4\", \"Topic4\", \"Topic4\", \"Topic4\", \"Topic4\", \"Topic4\", \"Topic4\", \"Topic4\", \"Topic4\", \"Topic5\", \"Topic5\", \"Topic5\", \"Topic5\", \"Topic5\", \"Topic5\", \"Topic5\", \"Topic5\", \"Topic5\", \"Topic5\", \"Topic5\", \"Topic5\", \"Topic5\", \"Topic5\", \"Topic5\", \"Topic5\", \"Topic5\", \"Topic5\", \"Topic5\", \"Topic5\", \"Topic5\", \"Topic5\", \"Topic5\", \"Topic5\", \"Topic5\", \"Topic5\", \"Topic5\", \"Topic5\", \"Topic5\", \"Topic5\", \"Topic5\", \"Topic5\", \"Topic5\", \"Topic5\", \"Topic5\", \"Topic5\", \"Topic5\", \"Topic5\", \"Topic5\", \"Topic5\", \"Topic5\", \"Topic5\", \"Topic5\", \"Topic5\", \"Topic5\", \"Topic5\", \"Topic5\", \"Topic5\", \"Topic6\", \"Topic6\", \"Topic6\", \"Topic6\", \"Topic6\", \"Topic6\", \"Topic6\", \"Topic6\", \"Topic6\", \"Topic6\", \"Topic6\", \"Topic6\", \"Topic6\", \"Topic6\", \"Topic6\", \"Topic6\", \"Topic6\", \"Topic6\", \"Topic6\", \"Topic6\", \"Topic6\", \"Topic6\", \"Topic6\", \"Topic6\", \"Topic6\", \"Topic6\", \"Topic6\", \"Topic6\", \"Topic6\", \"Topic6\", \"Topic6\", \"Topic6\", \"Topic6\", \"Topic6\", \"Topic6\", \"Topic6\", \"Topic6\", \"Topic6\", \"Topic6\", \"Topic6\", \"Topic6\", \"Topic6\", \"Topic6\", \"Topic6\", \"Topic7\", \"Topic7\", \"Topic7\", \"Topic7\", \"Topic7\", \"Topic7\", \"Topic7\", \"Topic7\", \"Topic7\", \"Topic7\", \"Topic7\", \"Topic7\", \"Topic7\", \"Topic7\", \"Topic7\", \"Topic7\", \"Topic7\", \"Topic7\", \"Topic7\", \"Topic7\", \"Topic7\", \"Topic7\", \"Topic7\", \"Topic7\", \"Topic7\", \"Topic7\", \"Topic7\", \"Topic7\", \"Topic7\", \"Topic7\", \"Topic7\", \"Topic7\", \"Topic7\", \"Topic7\", \"Topic7\", \"Topic7\", \"Topic7\", \"Topic7\", \"Topic7\", \"Topic7\", \"Topic7\", \"Topic7\", \"Topic7\", \"Topic7\", \"Topic7\", \"Topic7\", \"Topic8\", \"Topic8\", \"Topic8\", \"Topic8\", \"Topic8\", \"Topic8\", \"Topic8\", \"Topic8\", \"Topic8\", \"Topic8\", \"Topic8\", \"Topic8\", \"Topic8\", \"Topic8\", \"Topic8\", \"Topic8\", \"Topic8\", \"Topic8\", \"Topic8\", \"Topic8\", \"Topic8\", \"Topic8\", \"Topic8\", \"Topic8\", \"Topic8\", \"Topic8\", \"Topic8\", \"Topic8\", \"Topic8\", \"Topic8\", \"Topic8\", \"Topic8\", \"Topic8\", \"Topic8\", \"Topic8\", \"Topic8\", \"Topic8\", \"Topic8\", \"Topic8\"], \"logprob\": [30.0, 29.0, 28.0, 27.0, 26.0, 25.0, 24.0, 23.0, 22.0, 21.0, 20.0, 19.0, 18.0, 17.0, 16.0, 15.0, 14.0, 13.0, 12.0, 11.0, 10.0, 9.0, 8.0, 7.0, 6.0, 5.0, 4.0, 3.0, 2.0, 1.0, -3.5616, -4.3905, -5.0564, -5.2269, -5.2381, -5.4717, -5.4947, -5.6588, -5.7472, -5.638, -5.781, -5.8022, -5.8025, -5.9605, -5.9756, -6.0686, -6.1042, -6.2584, -6.3201, -6.5228, -6.5933, -6.6535, -6.6671, -5.7188, -6.7468, -6.7568, -6.8019, -6.8844, -6.9293, -6.9334, -3.4365, -3.3852, -4.4076, -4.5905, -5.7855, -5.9281, -4.9708, -4.1814, -3.5233, -4.6321, -5.0464, -5.5108, -5.1171, -3.9838, -4.4193, -4.6929, -5.3995, -4.4601, -5.6539, -4.5467, -5.0761, -5.1619, -5.0273, -5.1568, -4.6376, -5.1386, -4.7543, -4.7182, -5.0054, -5.1685, -4.9228, -4.4004, -5.0, -5.0298, -3.3062, -3.9984, -4.2878, -4.323, -4.4146, -5.1367, -5.1534, -5.177, -5.271, -5.272, -5.3393, -5.1431, -5.5253, -5.5468, -5.5787, -5.7533, -5.7789, -5.8167, -5.256, -3.315, -6.0121, -6.0679, -6.1705, -6.5169, -6.6521, -6.7075, -6.8071, -6.8206, -6.8491, -6.8716, -4.1794, -5.0948, -6.269, -2.9248, -4.3816, -4.8371, -4.842, -4.5205, -4.1928, -2.8903, -4.7801, -5.3498, -3.7812, -5.0342, -3.2695, -4.6313, -4.3088, -4.0155, -4.1724, -4.3, -4.4911, -4.7971, -4.7087, -4.6957, -5.0627, -4.7454, -4.5559, -4.956, -3.6368, -3.7267, -3.9197, -4.3813, -4.4583, -4.5085, -4.9781, -5.1494, -5.1783, -5.2078, -5.284, -5.5206, -5.658, -5.6624, -5.6918, -5.7118, -5.7913, -5.8898, -5.9022, -5.9047, -5.9383, -5.9596, -6.0045, -6.1031, -6.1432, -6.1786, -6.2095, -5.699, -6.3194, -6.3864, -3.4153, -4.2793, -4.7817, -5.7577, -5.2517, -2.7318, -4.9226, -4.5558, -4.081, -5.1578, -3.9592, -4.9409, -4.4313, -3.9529, -4.4803, -4.5049, -5.381, -4.9834, -4.6873, -4.3239, -4.3583, -4.5582, -4.519, -4.2524, -4.9618, -4.7289, -4.9707, -3.8606, -4.2375, -4.4402, -4.5274, -4.6243, -4.6324, -4.8603, -4.8862, -3.3543, -5.1562, -5.1601, -5.2075, -5.2269, -5.2278, -5.2378, -5.2709, -5.3072, -5.393, -5.3941, -5.4058, -5.4653, -5.6476, -5.734, -5.7349, -5.7657, -5.7814, -5.7867, -5.8345, -5.8381, -5.8827, -3.9749, -4.7973, -5.3338, -5.5601, -4.2396, -4.9075, -3.9411, -3.9517, -3.204, -4.8867, -4.8499, -4.8355, -4.571, -4.6856, -4.4296, -5.0199, -5.0725, -5.137, -3.6294, -3.9593, -4.3748, -4.7506, -4.772, -4.8204, -4.8779, -4.9042, -5.0028, -5.0456, -5.0717, -5.0985, -5.1424, -5.3317, -5.422, -5.4248, -5.4313, -5.4414, -5.4627, -5.5321, -5.5381, -5.5822, -5.6199, -5.7406, -5.7533, -5.7632, -5.7833, -5.7946, -5.8091, -5.8658, -5.2545, -5.2719, -3.5466, -5.3608, -5.5562, -4.6078, -5.1873, -3.3109, -4.5625, -4.6585, -5.0505, -5.2318, -5.0564, -5.3041, -5.3152, -5.0451, -5.0136, -5.3504, -2.5634, -3.0317, -3.2694, -3.441, -3.884, -3.9689, -4.1141, -4.4127, -4.6174, -4.6175, -4.7556, -4.8838, -4.9089, -5.0174, -5.0819, -5.1746, -5.2378, -5.2626, -5.2929, -5.3654, -5.4271, -5.5719, -5.5824, -5.6286, -5.681, -5.8262, -5.832, -5.8602, -5.9421, -5.9895, -5.9307, -5.6771, -5.2691, -4.8218, -4.3726, -4.3846, -5.2545, -5.0054, -4.9345, -4.9334, -5.1405, -4.2896, -4.4807, -5.2596, -2.8793, -2.8935, -3.7817, -4.3896, -4.5568, -4.6422, -4.6953, -4.7844, -4.8853, -4.9459, -5.1633, -5.1689, -5.2503, -5.3535, -5.3544, -5.4047, -5.4523, -5.4609, -5.4673, -5.4749, -5.4837, -5.5333, -5.5657, -5.5843, -5.5951, -5.6097, -5.6231, -5.6323, -5.67, -5.743, -5.3314, -4.9936, -4.1616, -5.3735, -4.9785, -5.1303, -5.4341, -5.1997, -4.9115, -5.1916, -5.3465, -4.9281, -5.1758, -5.4316, -5.3642, -5.4233, -2.7911, -2.8991, -3.6112, -3.6322, -3.974, -4.1169, -4.154, -4.586, -4.6783, -4.7493, -5.02, -5.08, -5.1036, -5.2088, -5.2082, -5.3699, -5.5388, -5.5867, -5.5966, -5.6167, -5.6163, -5.6207, -5.6645, -5.67, -5.6742, -5.7307, -5.7675, -5.8399, -5.9001, -5.9082, -3.8101, -4.9614, -5.58, -4.7832, -5.0568, -5.1194, -5.1962, -5.4685, -5.6119], \"loglift\": [30.0, 29.0, 28.0, 27.0, 26.0, 25.0, 24.0, 23.0, 22.0, 21.0, 20.0, 19.0, 18.0, 17.0, 16.0, 15.0, 14.0, 13.0, 12.0, 11.0, 10.0, 9.0, 8.0, 7.0, 6.0, 5.0, 4.0, 3.0, 2.0, 1.0, 0.759, 0.759, 0.7589, 0.7589, 0.7589, 0.7589, 0.7589, 0.7589, 0.7589, 0.7589, 0.7589, 0.7589, 0.7589, 0.7588, 0.7588, 0.7588, 0.7588, 0.7588, 0.7587, 0.7587, 0.7587, 0.7586, 0.7586, 0.7586, 0.7586, 0.7586, 0.7586, 0.7585, 0.7585, 0.7585, 0.7583, 0.7505, 0.7456, 0.7461, 0.7556, 0.7562, 0.745, 0.7367, 0.7239, 0.7357, 0.7412, 0.7475, 0.738, 0.6753, 0.6915, 0.704, 0.7308, 0.6626, 0.7426, 0.6056, 0.6604, 0.6731, 0.6404, 0.6617, 0.5288, 0.6248, 0.515, 0.4419, 0.5356, 0.5742, 0.4001, -0.144, 0.3415, -0.4132, 1.7177, 1.7177, 1.7176, 1.7176, 1.7176, 1.7175, 1.7175, 1.7175, 1.7175, 1.7175, 1.7175, 1.7175, 1.7174, 1.7174, 1.7174, 1.7173, 1.7173, 1.7173, 1.7173, 1.7173, 1.7172, 1.7172, 1.7171, 1.7169, 1.7168, 1.7167, 1.7166, 1.7166, 1.7166, 1.7165, 1.7138, 1.7152, 1.7144, 1.6554, 1.6707, 1.6743, 1.6709, 1.6599, 1.6274, 1.5529, 1.647, 1.6803, 1.5412, 1.6232, 1.3471, 1.4501, 1.3052, 1.1552, 1.1711, 1.1882, 1.0836, 1.1939, 1.0008, 0.8769, 1.4646, 0.4147, -0.2996, 1.0003, 2.0925, 2.0925, 2.0925, 2.0924, 2.0924, 2.0924, 2.0923, 2.0923, 2.0922, 2.0922, 2.0922, 2.0921, 2.092, 2.092, 2.092, 2.092, 2.092, 2.0919, 2.0919, 2.0919, 2.0919, 2.0919, 2.0918, 2.0918, 2.0917, 2.0917, 2.0917, 2.0916, 2.0916, 2.0915, 2.0875, 2.088, 2.0853, 2.0912, 2.0768, 1.9206, 2.0234, 1.9668, 1.8813, 1.9761, 1.7664, 1.9285, 1.7611, 1.6013, 1.745, 1.6333, 1.9504, 1.7288, 1.3678, 1.0176, 0.9824, 1.0143, 0.804, 0.1908, 1.4493, 0.5403, 0.8046, 2.5287, 2.5286, 2.5286, 2.5285, 2.5285, 2.5285, 2.5284, 2.5284, 2.5284, 2.5283, 2.5283, 2.5283, 2.5283, 2.5283, 2.5283, 2.5283, 2.5282, 2.5282, 2.5282, 2.5282, 2.5281, 2.528, 2.5279, 2.5279, 2.5279, 2.5279, 2.5279, 2.5278, 2.5278, 2.5278, 2.5273, 2.5268, 2.5261, 2.5262, 2.4981, 2.4589, 2.2595, 2.0281, 1.0523, 2.0719, 1.9158, 1.661, 0.9301, 0.8891, 0.2228, 1.6422, 1.1967, 0.4039, 2.7926, 2.7925, 2.7924, 2.7923, 2.7923, 2.7923, 2.7922, 2.7922, 2.7922, 2.7921, 2.7921, 2.7921, 2.7921, 2.792, 2.7919, 2.7919, 2.7919, 2.7919, 2.7918, 2.7918, 2.7918, 2.7917, 2.7917, 2.7916, 2.7915, 2.7915, 2.7915, 2.7915, 2.7915, 2.7914, 2.7858, 2.7614, 2.5424, 2.7191, 2.7492, 2.4705, 2.562, 0.9454, 1.9015, 1.5668, 1.9013, 2.2376, 1.5512, 2.2397, 2.2551, 0.9113, 0.4875, 0.1905, 3.2599, 3.2599, 3.2598, 3.2598, 3.2597, 3.2597, 3.2596, 3.2595, 3.2594, 3.2594, 3.2593, 3.2592, 3.2592, 3.2591, 3.259, 3.259, 3.2589, 3.2589, 3.2588, 3.2587, 3.2587, 3.2585, 3.2584, 3.2584, 3.2583, 3.258, 3.258, 3.2579, 3.2578, 3.2577, 3.2533, 3.1949, 3.0732, 2.5932, 2.1239, 1.816, 2.6556, 2.3146, 2.1518, 2.0961, 2.3728, 0.3628, -0.2243, 2.5831, 3.4359, 3.4359, 3.4358, 3.4355, 3.4354, 3.4353, 3.4353, 3.4352, 3.4351, 3.4351, 3.4348, 3.4348, 3.4347, 3.4346, 3.4346, 3.4345, 3.4344, 3.4344, 3.4344, 3.4344, 3.4344, 3.4343, 3.4342, 3.4342, 3.4342, 3.4342, 3.4341, 3.4341, 3.434, 3.4339, 3.433, 3.3543, 3.2321, 3.3249, 3.1294, 3.1466, 3.2841, 2.8939, 2.4195, 2.5144, 2.8881, -0.6717, 0.9056, 3.0679, 1.5944, 1.298, 4.0486, 4.0486, 4.0484, 4.0483, 4.0481, 4.048, 4.048, 4.0476, 4.0474, 4.0473, 4.0469, 4.0467, 4.0467, 4.0465, 4.0465, 4.0461, 4.0455, 4.0454, 4.0453, 4.0453, 4.0453, 4.0453, 4.0451, 4.0451, 4.0451, 4.0448, 4.0447, 4.0444, 4.0441, 4.0441, 3.3897, 3.566, 3.7171, 2.5478, 2.8361, 2.8963, 2.1604, 1.561, 2.665]}, \"token.table\": {\"Topic\": [1, 3, 2, 1, 1, 3, 1, 2, 3, 4, 6, 1, 2, 4, 1, 2, 4, 5, 6, 7, 2, 2, 2, 1, 3, 3, 1, 3, 7, 1, 2, 5, 3, 3, 2, 3, 4, 7, 8, 2, 3, 1, 2, 3, 6, 4, 7, 7, 7, 8, 6, 5, 5, 6, 4, 5, 8, 1, 3, 4, 5, 1, 3, 2, 3, 6, 1, 2, 4, 5, 4, 6, 4, 8, 7, 2, 6, 4, 6, 4, 1, 2, 4, 4, 7, 5, 8, 6, 8, 3, 8, 1, 2, 3, 8, 1, 3, 6, 8, 1, 2, 3, 4, 8, 4, 6, 4, 4, 8, 7, 2, 1, 5, 5, 6, 7, 4, 6, 1, 2, 3, 4, 5, 8, 5, 3, 4, 8, 8, 4, 6, 7, 1, 2, 5, 6, 4, 1, 3, 2, 3, 5, 5, 1, 1, 2, 4, 2, 4, 7, 3, 6, 2, 5, 7, 8, 2, 3, 4, 4, 8, 7, 7, 3, 5, 2, 4, 6, 1, 2, 4, 1, 4, 6, 7, 1, 1, 3, 2, 4, 5, 5, 1, 2, 4, 2, 3, 2, 3, 2, 2, 2, 4, 3, 4, 8, 4, 6, 4, 5, 7, 8, 1, 2, 3, 2, 4, 7, 8, 1, 2, 3, 5, 2, 1, 2, 3, 7, 6, 5, 5, 8, 1, 2, 3, 3, 1, 3, 2, 1, 2, 4, 6, 4, 6, 2, 6, 4, 7, 6, 7, 8, 5, 2, 6, 6, 7, 5, 1, 7, 2, 3, 1, 2, 4, 5, 7, 3, 1, 3, 8, 3, 1, 2, 4, 6, 5, 1, 3, 5, 8, 2, 2, 1, 4, 7, 8, 7, 8, 8, 7, 6, 1, 1, 3, 4, 3, 7, 1, 2, 4, 5, 6, 1, 3, 7, 6, 7, 1, 4, 6, 7, 1, 2, 5, 2, 7, 6, 1, 2, 7, 3, 8, 4, 1, 1, 1, 2, 3, 4, 1, 4, 6, 7, 7, 6, 1, 2, 4, 5, 4, 1, 3, 3, 8, 1, 2, 4, 1, 6, 5, 2, 6, 1, 3, 2, 5, 1, 3, 5, 8, 4, 1, 8, 7, 1, 3, 4, 6, 6, 3, 1, 3, 1, 5, 7, 1, 2, 4, 7, 1, 3, 4, 6, 1, 4, 2, 3, 1, 2, 3, 1, 5, 2, 1, 5, 2, 5, 7, 5, 5, 1, 3, 7, 1, 8, 4, 3, 6, 6, 1, 4, 6, 8, 6, 1, 2, 5, 3, 4, 4, 6, 7, 1, 2, 7, 6, 2, 3, 1, 2, 4, 3, 2, 4, 1, 2, 3, 4, 1, 6, 4, 1, 8, 5, 7, 8, 4, 7, 8, 4, 6, 6, 1, 3, 8, 4, 5, 1, 3, 1, 2, 5, 2, 3, 2, 3, 3, 4, 1, 4, 5, 6, 7, 1, 3, 5, 6, 7, 6, 1, 2, 4, 5, 1, 4, 7, 5, 4, 4, 8, 4, 7, 2, 3, 1, 1, 2, 5, 6, 7, 5, 6, 2, 2, 8, 2, 4, 5, 7, 6, 3, 5, 4, 1, 3, 1, 2, 4, 6, 5, 1, 3, 8, 1, 3, 4, 1, 3, 1, 2, 4, 1, 3, 1, 3, 1, 3, 1, 2, 3, 1, 1, 1, 1, 2, 3, 1, 3, 7, 4, 6, 7, 1, 2, 4, 6, 1, 4, 5, 6, 7, 8, 6, 2, 1, 2, 4, 8, 1, 4, 2, 5, 8, 7, 4, 4, 4, 7, 2, 4, 5, 6, 3, 3, 3, 5, 1, 3, 1, 1, 2, 4, 6, 1, 3, 1, 3, 1, 1, 2, 4, 5, 6, 7, 1, 2, 3, 2, 5, 6, 1, 2, 3, 4, 5, 6, 7, 2, 1, 2, 3, 7, 8, 1, 1, 1], \"Freq\": [0.8312384592324177, 0.16865094668127947, 0.9987373889075343, 0.9996319147263395, 0.19036322726609772, 0.809623448854317, 0.17532819071874778, 0.3286825316772304, 0.48446556129342644, 0.010408665675915106, 0.0011565184084350118, 0.8578305705838511, 0.14076786776498967, 0.001359849488735743, 0.25395864109920535, 0.530380102847749, 0.1940100942707169, 0.01995900306103614, 0.001502290552981215, 7.153764538005786e-05, 0.9998663504564146, 0.9997647601924231, 0.9996911295885514, 0.3047906694976366, 0.6950387521853134, 0.9992050499621942, 0.9996777814077316, 0.0003528689662575826, 0.998033288737572, 0.09013175902772923, 0.7763200479219641, 0.13334307559863645, 0.9994378068965195, 0.9999427187853849, 0.9995021805657017, 0.9990088667355972, 0.9994021338088784, 0.7488350360044053, 0.25067839524363994, 0.9998911146715554, 0.9994171655804002, 0.22842696364788737, 0.4313700441638073, 0.3402134089830723, 0.9997395119031082, 0.9993925171364861, 0.9983233282102298, 0.9991679373300965, 0.6917397415262789, 0.3065513305415109, 0.9965092485368963, 0.999866519878662, 0.9994206464922513, 0.9993263189427151, 0.9995181274866252, 0.9571354025465847, 0.04171002901005759, 0.8881588347553222, 0.11179511895090416, 0.999741977371956, 0.9995347983372644, 0.47438700370005005, 0.5255739062921195, 0.9999355130982851, 0.9996338819263567, 0.9970892586743995, 0.46861439271246585, 0.010187269406792735, 0.41215994141648943, 0.10908867656440555, 0.9976471397158062, 0.0021091905702236916, 0.9996234051968929, 0.9982178725068109, 0.9996285815707877, 0.9996974234554813, 0.9994012210106358, 0.9992407254002903, 0.9999210623690762, 0.9998432316975582, 0.9655399946389119, 0.020787958867800407, 0.013675290459565777, 0.421321201058294, 0.5777827150435343, 0.9996761548285709, 0.9994997404627947, 0.9361845255858754, 0.06189649755939672, 0.9999024770912804, 0.9974501524064883, 0.9871912660594182, 0.012797967869531007, 0.9989967184313437, 0.9968105386754632, 0.999787410831229, 0.9997824716155346, 0.9998247955979681, 0.9963555381940581, 0.009446701075564867, 0.46724836858370844, 0.02979344185370458, 0.19620071464634725, 0.2972077492235408, 0.9995567491773407, 0.0002920119045215719, 0.9991651100953496, 0.9993711620056634, 0.9987576161745925, 0.9987035767670793, 0.9999021120774013, 0.9998140870903489, 0.9987911196395223, 0.9998034834273936, 0.9987231884167813, 0.9979510614736736, 0.9970787897263318, 0.0017631808836893578, 0.3953734477006753, 0.22378454163241257, 0.3294778730838961, 0.05134646578816044, 0.9984851018150902, 0.9989462061897457, 0.9996426457470475, 0.9990748979899006, 0.6835808796711101, 0.3154988675405124, 0.9968596758514346, 0.4861547886177163, 0.5131884191247256, 0.9977796261808473, 0.06132240411991647, 0.008760343445702352, 0.9285964052444494, 0.9990824832827664, 0.9996693090472119, 0.0070327438437173834, 0.9926587699409981, 0.1321977978190252, 0.8673667424301559, 0.9987402952630051, 0.9983692535312972, 0.9999041496266066, 0.003650649654975718, 0.957382872017382, 0.038879418825491396, 0.996018141444556, 0.003836514322601253, 0.9985068707305376, 0.6113362073678642, 0.3884361424830665, 0.23572367892170465, 0.17938199116537454, 0.36166392214173665, 0.22288108833018824, 0.9097063815563229, 0.08258537153204602, 0.007603768222899379, 0.9998239122654701, 0.9953906318296628, 0.997785715432117, 0.9978944996145451, 0.2213278469099394, 0.7785954744269652, 0.9981454141341753, 0.5880604324587586, 0.4115925934707118, 0.906035055183633, 0.07904890958535503, 0.014884741485753021, 0.0004410486538079231, 0.18215309402267224, 0.0017641946152316924, 0.8154989608908497, 0.9997036791972641, 0.015289759107739002, 0.9843298971522784, 0.7069965782773866, 0.003818344226057517, 0.28898836826687946, 0.9985789183000078, 0.01718315800700726, 0.954213668048701, 0.028333930756235377, 0.9997154279766571, 0.9994599844655758, 0.9631040897450706, 0.036488184234213114, 0.9994196562721093, 0.9998462866383762, 0.9973831560216265, 0.0024602445881145205, 0.9996993773247422, 0.4825079694241187, 0.5173880635993562, 0.9984645924642381, 0.0014467880347244892, 0.999779628202654, 0.3111120681826118, 0.06989742501019032, 0.6167419853840322, 0.002676609718491249, 0.8480237963275034, 0.14931328869273167, 0.7651308964564164, 0.14485718399702485, 0.07967145119836366, 0.010329979514541935, 0.09886955899695625, 0.2612732536169566, 0.22959321886793185, 0.4100997904873748, 0.9999541355323657, 0.9769944006366152, 0.004246284308553996, 0.018730185580197078, 0.9984629466947862, 0.9999501408164653, 0.9998010477567237, 0.9994059014013507, 0.9995949948385592, 0.9196652169091923, 0.00022906447072678287, 0.08011529863669231, 0.9994185029087489, 0.7240652797232072, 0.2758302291145519, 0.9993974866517557, 0.05115191512679313, 0.9396021988655168, 0.008600296128405467, 0.0006350987910207115, 0.16970641909151718, 0.8291696181115739, 0.9999567969289733, 0.9982595198123687, 0.41742138183547256, 0.5817255427707118, 0.10406491265359616, 0.894307843116842, 0.9990270428525698, 0.9985442275092512, 0.9966992534382428, 0.0031818012879113898, 0.0017368608741273332, 0.9969581417490893, 0.9988530041019297, 0.9996135004372548, 0.9989244769263493, 0.9996492355532052, 0.9997518451474313, 0.43021728371154166, 0.5697226884319473, 0.3889071487596323, 0.5841501151869984, 0.02683932961669993, 0.9996650755849, 0.10987014557843311, 0.8901862878599364, 0.9976777746339676, 0.9995722902509077, 0.04754318932165245, 0.275844642994934, 0.5418040684081383, 0.13462724897022377, 0.999431487386394, 0.1511809673059163, 0.8485978303009118, 0.9986962000171549, 0.999462699292476, 0.9995171326671333, 0.9990262325983338, 0.35985813289100577, 0.24171375425342262, 0.3978331117388003, 0.9970238136021812, 0.999316233651524, 0.9947304367140696, 0.9993801520151878, 0.9995497437084814, 0.9993692636894904, 0.9999590674704433, 0.9886340750495228, 0.0113375467322193, 0.9985211397545326, 0.9995043451568751, 0.9988093323288961, 0.17805231498082394, 0.10216116433325964, 0.11935018563377633, 0.27015952345906435, 0.3301589374325661, 0.11795233424927086, 0.881781378260981, 0.997994484117451, 0.07788057523245856, 0.9219685744430756, 0.934758264014337, 0.06473756578672783, 0.00044987884493903987, 0.9982340443533847, 0.9999145517484918, 0.9999310815380728, 0.9995714002044389, 0.9318051554393123, 0.06811539306956442, 0.9975340667948454, 0.9465146674986163, 0.05198195073639981, 0.0014971760004723446, 0.9998233517898873, 0.9983317961034135, 0.9993413277770502, 0.9997337485126472, 0.9997105818007586, 0.051433645429896244, 0.4336758905746405, 0.2508643820271541, 0.2639018798937852, 0.9993427400360202, 0.9698030621031001, 0.029526692237738943, 0.0004577781742285108, 0.9986518663048303, 0.9994721778215779, 0.31338334478328994, 0.48804400534957026, 0.04620596959191938, 0.15234349157970697, 0.9993447827519222, 0.9994706896211595, 0.9996541509548996, 0.9997928629056545, 0.9970140811775056, 0.907328417759106, 0.0003651588360032623, 0.09229389579982455, 0.9996253917095689, 0.9988878438697949, 0.9991048876120922, 0.005285460802364262, 0.9936666308444814, 0.36823715145451, 0.6317843550722942, 0.9135412914725379, 0.08631598229907675, 0.15058788723388153, 0.12452459905878664, 0.7246237650656008, 0.9978916855886143, 0.9997551550872896, 0.9998183216093887, 0.9954737667544942, 0.9982870031440174, 0.9866496438345875, 0.013328029815878181, 0.4531639694714167, 0.5463102339957209, 0.9974113825722618, 0.9993726808365785, 0.982364588979992, 0.017526418149039324, 0.9972301696513648, 0.002603734124416096, 0.9986242544463607, 0.06867512216910064, 0.782446064057786, 0.031072678227330782, 0.11798611152986471, 0.0031570535737793456, 0.8419947207041779, 0.09966050200471016, 0.055177332730918294, 0.9791927689403426, 0.02073718367642733, 0.005059760756047764, 0.9949087465576025, 0.7834346159805332, 0.004743616485350375, 0.21177612264597567, 0.4257934124543404, 0.5737506764468542, 0.9992593160630157, 0.030101478294629714, 0.9691003706521066, 0.005893964041368576, 0.9927119435390788, 0.999108743520322, 0.9984722521506157, 0.9993669784254017, 0.9722352463524417, 0.027681957764555863, 0.9970435436158777, 0.9993974509596424, 0.9968550994734001, 0.9996846625783009, 0.9997231208844588, 0.9972892166613776, 0.9986055033221809, 0.012750341593655588, 0.6358170341369587, 0.19975535163393757, 0.15130405357804633, 0.999963238712299, 0.3096713714919439, 0.6902839424970635, 0.9996487964291545, 0.9993503590406047, 0.9996760182383834, 0.48718780011152685, 0.5079191958609535, 0.004146279149885334, 0.05610456888246709, 0.9438151774620632, 0.9991508220323202, 0.9992587785653614, 0.9997196361117447, 0.9995016721018951, 0.4088140796565195, 0.5888471136121429, 0.002296339718821727, 0.9993568466371666, 0.9994208643053638, 0.000289687207045033, 0.06554896273107332, 0.6619626803840628, 0.18697451003767, 0.08548894231328405, 0.9997688267142724, 0.9985607194912143, 0.9998563024153301, 0.9998698772885436, 0.9998671927787736, 0.9995150599761438, 0.9999042663242893, 0.9996553494436159, 0.9996934257225973, 0.9999051756135844, 0.9989629411897897, 0.7639781168227852, 0.2359757307083511, 0.9992118375903446, 0.3881133694370267, 0.611814683132041, 0.9991854732728158, 0.9995953382299032, 0.999195442484498, 0.9837441153634507, 0.016108281081869274, 0.9998381352241769, 0.42436525830132404, 0.5750456761039681, 0.06680234626788241, 0.9332597826707117, 0.8381823052779609, 0.16181104122714662, 0.9999304645583665, 0.9998044561621552, 0.22442335725210433, 0.41989466280742277, 0.006833403506073689, 0.3209901383774088, 0.02787309324845847, 0.9998220880488193, 0.5897416335069063, 0.4099838471398974, 0.9996083427857294, 0.9988396025127123, 0.998400930643244, 0.7997264137559446, 0.006639603538923349, 0.11944370116375648, 0.0741422395179774, 0.9998922210498152, 0.9325808315354084, 0.06737928695400787, 0.9994161524321187, 0.9990662462786079, 0.9997809276714041, 0.9983660056322, 0.13932386903313893, 0.85916385903769, 0.9540364572659101, 0.045902624515453606, 0.9999172784128822, 0.1875687603651975, 0.01825333574023734, 0.7937053920151478, 0.999551386842578, 0.997777857607467, 0.9982269726415941, 0.9995904774616564, 0.9997138574273692, 0.9988460013759146, 0.9997041122405401, 0.020267934175476714, 0.6331588450874275, 0.18783522095019264, 0.15843244320267008, 0.9981883114114689, 0.706404492396495, 0.29342112067711557, 0.9997460357558301, 0.2782718241060948, 0.7216765542960755, 0.33811107151365777, 0.0037544059336859204, 0.6060683864378701, 0.05191807062582816, 0.9996742224143551, 0.004425024506671866, 0.9954724774116459, 0.9973035397001607, 0.0006559416622367839, 0.9989991515866219, 0.9994650033591614, 0.9914930777493243, 0.008499384572452457, 0.7282570612693444, 0.27172007671784637, 4.72556655161472e-05, 0.8744288433541451, 0.12553553101408682, 0.2820590188327084, 0.7178839844326366, 0.97795425623099, 0.022001095411243867, 0.9993303539336132, 0.0005760140376078611, 9.00021933762283e-05, 0.9999188992539032, 0.999924982456844, 0.9996173678755387, 0.698467430071271, 0.025860924833437455, 0.27562740532153984, 0.0006953552687114303, 0.998530165869614, 0.9990022880196431, 0.9994524479858122, 0.26307033285714765, 0.7360563765215399, 0.3501278323617507, 0.5922236569687604, 0.05672765065836295, 0.0008677269699175978, 0.2564841789146483, 0.16424793297282136, 0.12349238244038623, 0.3122549322748227, 0.06036724402172726, 0.08304326461872126, 0.9993952128173419, 0.9994004682051271, 0.3316078380347963, 0.5789085986031189, 0.08941659731292659, 0.9982465879739754, 0.9965655401603117, 0.0033845622118652097, 0.9993408926340954, 0.281087932491178, 0.7189933431090132, 0.9991808923645668, 0.9992844581305766, 0.9993120408358768, 0.998067653643674, 0.0016456185550596438, 0.999553681385512, 0.0004158742173436705, 0.9988851794919633, 0.998672827362923, 0.9998838428414523, 0.9990087851387043, 0.9998580887532306, 0.9993752795005916, 0.9176944582480953, 0.08222869033250531, 0.9999316109952658, 0.4703914615702243, 0.48823784838232126, 0.03978598160861974, 0.0015554190340818417, 0.986041389607453, 0.01383917739799934, 0.6586748832112125, 0.3412917165374457, 0.999739455206488, 0.6313435589120467, 0.05789032948861909, 0.20218413582592337, 0.09976278365375114, 0.008507419258947466, 0.0003987852777631625, 0.7943524320072891, 0.18252557229503535, 0.02311293072834476, 0.9997968194905352, 0.9990893122512419, 0.9996129884303533, 0.40532343349667155, 0.13301499595600333, 0.028444421354241037, 0.22843588455014302, 0.15766938001001576, 0.030683988849830673, 0.016442636570183747, 0.9997923156063481, 0.9080483988375659, 0.0012290608967622958, 0.09067738171668495, 0.9994743694476167, 0.9977451120083077, 0.9997118342969771, 0.999986521507457, 0.9999598210087657], \"Term\": [\"about\", \"about\", \"accommodate\", \"actually\", \"after\", \"after\", \"again\", \"again\", \"again\", \"again\", \"again\", \"all\", \"all\", \"all\", \"also\", \"also\", \"also\", \"also\", \"also\", \"also\", \"always\", \"amaze\", \"amazing\", \"another\", \"another\", \"answer\", \"any\", \"any\", \"apple\", \"area\", \"area\", \"area\", \"arrive\", \"ask\", \"attentive\", \"attitude\", \"authentic\", \"avocado\", \"avocado\", \"awesome\", \"awful\", \"back\", \"back\", \"back\", \"bacon\", \"bagel\", \"bake\", \"baked\", \"bakery\", \"bakery\", \"band\", \"bar\", \"bartender\", \"bbq\", \"bean\", \"beautiful\", \"beautiful\", \"because\", \"because\", \"beef\", \"beer\", \"before\", \"before\", \"best\", \"bill\", \"biscuit\", \"bit\", \"bit\", \"bit\", \"bit\", \"bland\", \"bland\", \"bowl\", \"brazilian\", \"bread\", \"breakfast\", \"brisket\", \"broth\", \"burger\", \"burrito\", \"but\", \"but\", \"but\", \"butter\", \"butter\", \"cafe\", \"cake\", \"calamari\", \"calamari\", \"call\", \"calzone\", \"can\", \"can\", \"cashier\", \"cat\", \"change\", \"check\", \"cheese\", \"cheesecake\", \"chef\", \"chef\", \"chef\", \"chef\", \"chef\", \"chicken\", \"chicken\", \"chinese\", \"chip\", \"chocolate\", \"clam\", \"clean\", \"close\", \"cocktail\", \"coffee\", \"coleslaw\", \"combination\", \"combo\", \"combo\", \"come\", \"come\", \"come\", \"come\", \"comfortable\", \"cone\", \"cool\", \"correct\", \"crab\", \"crab\", \"crab_cake\", \"crispy\", \"crispy\", \"croissant\", \"crowd\", \"crowd\", \"crowd\", \"crust\", \"curry\", \"customer\", \"customer\", \"customer_service\", \"customer_service\", \"cute\", \"date\", \"day\", \"definitely\", \"definitely\", \"definitely\", \"delicious\", \"delicious\", \"delight\", \"delivery\", \"delivery\", \"dessert\", \"dessert\", \"dessert\", \"dessert\", \"dinner\", \"dinner\", \"dinner\", \"dish\", \"dominos\", \"dress\", \"dressing\", \"drink\", \"drink\", \"drive_thru\", \"dry\", \"dry\", \"eat\", \"eat\", \"eat\", \"egg\", \"egg\", \"egg\", \"egg\", \"either\", \"employee\", \"employee\", \"enjoy\", \"enjoy\", \"enjoy\", \"event\", \"everything\", \"everything\", \"everything\", \"excellent\", \"explain\", \"family\", \"family\", \"fantastic\", \"fast\", \"favorite\", \"favorite\", \"finally\", \"fish\", \"fish\", \"flavor\", \"flavor\", \"flavorful\", \"flavour\", \"flavour\", \"flavour\", \"food\", \"food\", \"food\", \"fresh\", \"fresh\", \"fresh\", \"fresh\", \"friend\", \"friend\", \"friend\", \"friend\", \"friendly\", \"from\", \"from\", \"from\", \"fruit\", \"fry\", \"fun\", \"game\", \"gelato\", \"get\", \"get\", \"get\", \"girl\", \"give\", \"give\", \"glad\", \"good\", \"good\", \"good\", \"good\", \"greasy\", \"greasy\", \"great\", \"greek\", \"green\", \"green\", \"grilled\", \"grilled\", \"groupon\", \"gyro\", \"had\", \"had\", \"ham\", \"ham\", \"happy_hour\", \"hard\", \"healthy\", \"helpful\", \"her\", \"here\", \"here\", \"highly_recommend\", \"highly_recommend\", \"highly_recommend\", \"him\", \"his\", \"his\", \"hojicha\", \"horrible\", \"hot\", \"hot\", \"hot\", \"hot\", \"hotel\", \"hour\", \"hour\", \"ice\", \"ice_cream\", \"impressed\", \"incredible\", \"ingredient\", \"ingredient\", \"ingredient\", \"inviting\", \"italian\", \"japan\", \"japanese\", \"juice\", \"juicy\", \"just\", \"know\", \"know\", \"korean\", \"lady\", \"lamb\", \"large\", \"large\", \"large\", \"large\", \"large\", \"leave\", \"leave\", \"lemon\", \"lettuce\", \"lettuce\", \"like\", \"like\", \"like\", \"lobster\", \"look\", \"love\", \"lovely\", \"lunch\", \"lunch\", \"mac\", \"make\", \"make\", \"make\", \"manager\", \"mask\", \"matcha\", \"may\", \"maybe\", \"meal\", \"meal\", \"meal\", \"meal\", \"mean\", \"meat\", \"meat\", \"meat\", \"meatball\", \"medium\", \"menu\", \"menu\", \"menu\", \"menu\", \"mexican\", \"might\", \"min\", \"minute\", \"miso_soup\", \"more\", \"more\", \"more\", \"more_than\", \"mushroom\", \"music\", \"nacho\", \"nacho\", \"never\", \"never\", \"nice\", \"nice\", \"night\", \"night\", \"night\", \"nigiri\", \"noodle\", \"now\", \"nyc\", \"omelet\", \"one\", \"one\", \"onion\", \"onion\", \"onion_ring\", \"online\", \"only\", \"only\", \"open\", \"open\", \"opt_for\", \"option\", \"option\", \"option\", \"option\", \"order\", \"order\", \"order\", \"order\", \"other\", \"other\", \"our\", \"our\", \"out\", \"out\", \"out\", \"outside\", \"outside\", \"outstanding\", \"park\", \"park\", \"parking\", \"parking\", \"pasta\", \"pastry\", \"patio\", \"people\", \"people\", \"perfection\", \"person\", \"philly\", \"pho\", \"phone\", \"pickle\", \"pie\", \"piece\", \"piece\", \"piece\", \"piece\", \"pizza\", \"place\", \"place\", \"play\", \"poor\", \"pork\", \"potato\", \"potato\", \"potato\", \"price\", \"price\", \"pupusas\", \"quesadilla\", \"quick\", \"ready\", \"really\", \"really\", \"really\", \"receive\", \"recommend\", \"recommend\", \"restaurant\", \"restaurant\", \"restaurant\", \"restaurant\", \"review\", \"rib\", \"rice\", \"right\", \"roll\", \"room\", \"salad\", \"salmon\", \"salsa\", \"sandwich\", \"sashimi\", \"sauce\", \"sauce\", \"sausage\", \"say\", \"say\", \"scallop\", \"seafood\", \"seating\", \"see\", \"see\", \"seem\", \"selection\", \"selection\", \"server\", \"server\", \"service\", \"service\", \"she\", \"shrimp\", \"side\", \"side\", \"side\", \"side\", \"side\", \"since\", \"sit\", \"sit\", \"slice\", \"smoothie\", \"soggy\", \"some\", \"some\", \"some\", \"some\", \"something\", \"soup\", \"soup\", \"space\", \"spice\", \"spicy\", \"spicy_tuna\", \"spinach\", \"spinach\", \"staff\", \"staff\", \"star\", \"stay\", \"stay\", \"stay\", \"steak\", \"strawberry\", \"strong\", \"sub\", \"super\", \"super_friendly\", \"sushi\", \"sweet\", \"sweet\", \"sweet\", \"sweet\", \"sweet_potato\", \"table\", \"table\", \"taco\", \"take\", \"take\", \"taste\", \"taste\", \"taste\", \"taste\", \"tea\", \"tell\", \"tell\", \"tempura\", \"terrible\", \"terrible\", \"thai\", \"that\", \"that\", \"their\", \"their\", \"their\", \"them\", \"them\", \"then\", \"then\", \"there\", \"there\", \"they\", \"they\", \"they\", \"thing\", \"think\", \"those\", \"time\", \"time\", \"time\", \"tip\", \"tip\", \"toast\", \"tofu\", \"tomato\", \"tomato\", \"too\", \"too\", \"too\", \"too\", \"top\", \"top\", \"top\", \"top\", \"top\", \"top\", \"topping\", \"town\", \"try\", \"try\", \"try\", \"tuna\", \"use\", \"use\", \"value\", \"vanilla\", \"vanilla\", \"vegan\", \"vegetable\", \"vegetarian\", \"veggie\", \"veggie\", \"very\", \"very\", \"vibe\", \"waffle\", \"wait\", \"waiter\", \"waitress\", \"wall\", \"want\", \"want\", \"way\", \"well\", \"well\", \"well\", \"well\", \"what\", \"what\", \"when\", \"when\", \"where\", \"which\", \"which\", \"which\", \"which\", \"which\", \"which\", \"will\", \"will\", \"will\", \"will_definitely\", \"wine\", \"wing\", \"with\", \"with\", \"with\", \"with\", \"with\", \"with\", \"with\", \"wonderful\", \"would\", \"would\", \"would\", \"wrap\", \"write_review\", \"yes\", \"you\", \"your\"]}, \"R\": 30, \"lambda.step\": 0.01, \"plot.opts\": {\"xlab\": \"PC1\", \"ylab\": \"PC2\"}, \"topic.order\": [6, 7, 1, 5, 2, 4, 3, 8]};\n",
              "\n",
              "function LDAvis_load_lib(url, callback){\n",
              "  var s = document.createElement('script');\n",
              "  s.src = url;\n",
              "  s.async = true;\n",
              "  s.onreadystatechange = s.onload = callback;\n",
              "  s.onerror = function(){console.warn(\"failed to load library \" + url);};\n",
              "  document.getElementsByTagName(\"head\")[0].appendChild(s);\n",
              "}\n",
              "\n",
              "if(typeof(LDAvis) !== \"undefined\"){\n",
              "   // already loaded: just create the visualization\n",
              "   !function(LDAvis){\n",
              "       new LDAvis(\"#\" + \"ldavis_el2371362102555227046513734839\", ldavis_el2371362102555227046513734839_data);\n",
              "   }(LDAvis);\n",
              "}else if(typeof define === \"function\" && define.amd){\n",
              "   // require.js is available: use it to load d3/LDAvis\n",
              "   require.config({paths: {d3: \"https://d3js.org/d3.v5\"}});\n",
              "   require([\"d3\"], function(d3){\n",
              "      window.d3 = d3;\n",
              "      LDAvis_load_lib(\"https://cdn.jsdelivr.net/gh/bmabey/pyLDAvis@3.4.0/pyLDAvis/js/ldavis.v3.0.0.js\", function(){\n",
              "        new LDAvis(\"#\" + \"ldavis_el2371362102555227046513734839\", ldavis_el2371362102555227046513734839_data);\n",
              "      });\n",
              "    });\n",
              "}else{\n",
              "    // require.js not available: dynamically load d3 & LDAvis\n",
              "    LDAvis_load_lib(\"https://d3js.org/d3.v5.js\", function(){\n",
              "         LDAvis_load_lib(\"https://cdn.jsdelivr.net/gh/bmabey/pyLDAvis@3.4.0/pyLDAvis/js/ldavis.v3.0.0.js\", function(){\n",
              "                 new LDAvis(\"#\" + \"ldavis_el2371362102555227046513734839\", ldavis_el2371362102555227046513734839_data);\n",
              "            })\n",
              "         });\n",
              "}\n",
              "</script>"
            ],
            "text/plain": [
              "<IPython.core.display.HTML object>"
            ]
          },
          "execution_count": 77,
          "metadata": {},
          "output_type": "execute_result"
        }
      ],
      "source": [
        "# Prepare the visualization\n",
        "pyLDAvis.enable_notebook()\n",
        "vis = gensimvis.prepare(best_lda_model, corpus, dictionary)\n",
        "pyLDAvis.display(vis)"
      ]
    },
    {
      "cell_type": "code",
      "source": [
        "# Print the selected model's details\n",
        "print(f\"Best Model: {best_index + 4} Topics, Coherence Score: {best_score}\")\n",
        "\n",
        "# Printing topics from the best model\n",
        "topics = best_lda_model.show_topics(num_topics=-1, formatted=True)\n",
        "for topic in topics:\n",
        "    print(topic)"
      ],
      "metadata": {
        "colab": {
          "base_uri": "https://localhost:8080/"
        },
        "id": "QgXgZWWfb9vI",
        "outputId": "76d86212-9733-48ad-f38f-b96cefe8a436"
      },
      "execution_count": 78,
      "outputs": [
        {
          "output_type": "stream",
          "name": "stdout",
          "text": [
            "Best Model: 6 Topics, Coherence Score: 0.43407524316302704\n",
            "(0, '0.065*\"order\" + 0.033*\"our\" + 0.026*\"she\" + 0.024*\"wait\" + 0.020*\"ask\" + 0.019*\"say\" + 0.019*\"take\" + 0.017*\"after\" + 0.014*\"food\" + 0.014*\"tell\"')\n",
            "(1, '0.036*\"with\" + 0.029*\"drink\" + 0.027*\"bar\" + 0.019*\"coffee\" + 0.013*\"beer\" + 0.010*\"friend\" + 0.010*\"night\" + 0.009*\"table\" + 0.009*\"room\" + 0.008*\"tea\"')\n",
            "(2, '0.056*\"salad\" + 0.055*\"sandwich\" + 0.023*\"bread\" + 0.016*\"egg\" + 0.012*\"wrap\" + 0.010*\"pasta\" + 0.010*\"healthy\" + 0.009*\"toast\" + 0.008*\"italian\" + 0.008*\"juice\"')\n",
            "(3, '0.077*\"pizza\" + 0.048*\"fry\" + 0.038*\"cheese\" + 0.032*\"burger\" + 0.021*\"wing\" + 0.019*\"steak\" + 0.016*\"slice\" + 0.014*\"order\" + 0.013*\"side\" + 0.012*\"sauce\"')\n",
            "(4, '0.041*\"with\" + 0.035*\"chicken\" + 0.021*\"dish\" + 0.019*\"sauce\" + 0.019*\"taste\" + 0.019*\"flavor\" + 0.014*\"rice\" + 0.014*\"meat\" + 0.012*\"order\" + 0.012*\"spicy\"')\n",
            "(5, '0.034*\"that\" + 0.032*\"they\" + 0.030*\"but\" + 0.028*\"you\" + 0.019*\"get\" + 0.015*\"there\" + 0.012*\"just\" + 0.012*\"with\" + 0.012*\"one\" + 0.012*\"like\"')\n",
            "(6, '0.056*\"food\" + 0.054*\"good\" + 0.038*\"place\" + 0.037*\"great\" + 0.036*\"very\" + 0.023*\"service\" + 0.018*\"love\" + 0.018*\"here\" + 0.015*\"try\" + 0.015*\"delicious\"')\n",
            "(7, '0.061*\"sushi\" + 0.055*\"roll\" + 0.027*\"ice_cream\" + 0.026*\"cake\" + 0.022*\"fish\" + 0.019*\"salmon\" + 0.016*\"gelato\" + 0.016*\"chocolate\" + 0.010*\"tuna\" + 0.009*\"japanese\"')\n"
          ]
        },
        {
          "output_type": "stream",
          "name": "stderr",
          "text": [
            "/usr/local/lib/python3.10/dist-packages/ipykernel/ipkernel.py:283: DeprecationWarning: `should_run_async` will not call `transform_cell` automatically in the future. Please pass the result to `transformed_cell` argument and any exception that happen during thetransform in `preprocessing_exc_tuple` in IPython 7.17 and above.\n",
            "  and should_run_async(code)\n"
          ]
        }
      ]
    },
    {
      "cell_type": "markdown",
      "source": [
        "**Analysis**"
      ],
      "metadata": {
        "id": "cY-mGfVAcFRr"
      }
    },
    {
      "cell_type": "markdown",
      "source": [
        "With a coherence score of about 0.43, the best model includes 6 topics.\n",
        "\n",
        "0.   Service and Waiting Experience: Dominated by words like \"order,\" \"wait,\" \"ask,\" \"say,\" indicating discussions around the service timeline and staff interactions.\n",
        "1.   Drinks and Social Setting: Including \"drink,\" \"bar,\" \"coffee,\" \"beer,\" \"friend,\" \"night,\" suggesting a focus on the drinking experience and social aspects of dining.\n",
        "2.   Healthy Meal Choices: With \"salad,\" \"sandwich,\" \"bread,\" \"egg,\" \"wrap,\" \"pasta,\" \"healthy,\" indicating preferences for lighter, possibly healthier food options.\n",
        "3.   Comfort and Fast Foods: Centered around \"pizza,\" \"fry,\" \"cheese,\" \"burger,\" \"wing,\" \"steak,\" focusing on popular comfort and fast food items.\n",
        "4.   Flavorful Dishes: Key words \"chicken,\" \"dish,\" \"sauce,\" \"taste,\" \"flavor,\" \"rice,\" \"spicy,\" point to a variety of flavorful and possibly ethnic dishes.\n",
        "5.   General Customer Feedback: Uses general terms like \"that,\" \"they,\" \"but,\" \"you,\" \"get,\" reflecting a broad range of customer feedback without a specific focus.\n",
        "6. Positive Restaurant Experiences. Including \"food,\" \"good,\" \"place,\" \"great,\" \"service,\" \"love,\" \"delicious,\" indicating overall positive dining experiences.\n",
        "7.   Specialty and Desserts: Foods such as \"sushi,\" \"roll,\" \"ice cream,\" \"cake,\" \"fish,\" \"salmon,\" highlighting a preference for specialty dishes and desserts.\n",
        "\n",
        "These labels and justifications are directly derived from the significant words in each topic, aiming to capture the essence of discussions within restaurant reviews. There are multiple topics dedicated to different types of foods, indicating varied food categories in the reviews and LDA's ability to identify them. Topics also include the common restaurant subjects one might expect of wait staff, social setting, and general restaurant experience."
      ],
      "metadata": {
        "id": "_z2lP4RmcHNv"
      }
    },
    {
      "cell_type": "markdown",
      "metadata": {
        "id": "QEqfsdBJLoOA"
      },
      "source": [
        "## Analysis"
      ]
    },
    {
      "cell_type": "markdown",
      "metadata": {
        "id": "0Ph7M32eMi8W"
      },
      "source": [
        "Upon examining the best model from LSA-BOW, LSA-tfIdf, and LDA, I select LSA_BOW as the best model because it has the best coherence score. Additionally, although the LDA model has low coherence, I give it an honorable mention for the wide spread represented in its topics.\n",
        "\n",
        "As we might expect, general restaurant experience, wait staff, and social setting are major factors in topics. Interestingly, LDA also picks up on food types as major topics as well. These topics outline the most important factors related to the restaurant business, and could prove very valuable to future business operations for interested parties."
      ]
    }
  ],
  "metadata": {
    "colab": {
      "provenance": [],
      "authorship_tag": "ABX9TyPZJhhTw1G5NX2aaAodQuTs",
      "include_colab_link": true
    },
    "kernelspec": {
      "display_name": "Python 3",
      "name": "python3"
    },
    "language_info": {
      "name": "python"
    }
  },
  "nbformat": 4,
  "nbformat_minor": 0
}