{
  "cells": [
    {
      "cell_type": "markdown",
      "metadata": {
        "id": "view-in-github",
        "colab_type": "text"
      },
      "source": [
        "<a href=\"https://colab.research.google.com/github/RylieWeaver/NLP/blob/main/NLP_Lab_1.ipynb\" target=\"_parent\"><img src=\"https://colab.research.google.com/assets/colab-badge.svg\" alt=\"Open In Colab\"/></a>"
      ]
    },
    {
      "cell_type": "markdown",
      "metadata": {
        "id": "-q19ufj_fR6L"
      },
      "source": [
        "# NLP Lab 1 (Web Scraping and Analysis)"
      ]
    },
    {
      "cell_type": "markdown",
      "source": [
        "Link:\n",
        "\n",
        "*   https://colab.research.google.com/drive/1eTQkX0kS2BqtTGGTKnI7tqFc__aFiMmM?usp=sharing\n",
        "\n",
        "\n"
      ],
      "metadata": {
        "id": "mktWJwzuzOYi"
      }
    },
    {
      "cell_type": "markdown",
      "metadata": {
        "id": "t3Ndrde5gW7w"
      },
      "source": [
        "Notes:\n",
        "- Proxy not needed"
      ]
    },
    {
      "cell_type": "markdown",
      "metadata": {
        "id": "-EVo0RfeW_i2"
      },
      "source": [
        "## 1 Setup"
      ]
    },
    {
      "cell_type": "code",
      "execution_count": 1,
      "metadata": {
        "colab": {
          "base_uri": "https://localhost:8080/"
        },
        "id": "4SsGpKW_XF7e",
        "outputId": "b546df71-a5e7-41d9-a4e0-037a15fdd460"
      },
      "outputs": [
        {
          "output_type": "stream",
          "name": "stdout",
          "text": [
            "Mounted at /content/drive\n"
          ]
        }
      ],
      "source": [
        "# Mount drive for directory structure\n",
        "from google.colab import drive\n",
        "drive.mount('/content/drive', force_remount=True)"
      ]
    },
    {
      "cell_type": "code",
      "source": [
        "# Travel to crawler directory if needed when restarting runtime\n",
        "%cd \"/content/drive/MyDrive/NLP/Lab1/yelp_crawler\""
      ],
      "metadata": {
        "colab": {
          "base_uri": "https://localhost:8080/"
        },
        "id": "GstMx1SHTP-Q",
        "outputId": "6db49cb1-0ca9-4c43-f577-08b86f317775"
      },
      "execution_count": 2,
      "outputs": [
        {
          "output_type": "stream",
          "name": "stdout",
          "text": [
            "/content/drive/MyDrive/NLP/Lab1/yelp_crawler\n"
          ]
        }
      ]
    },
    {
      "cell_type": "code",
      "source": [
        "# Load your CSV data if needed when restarting runtime\n",
        "import csv\n",
        "with open('reviews.csv', 'r', encoding='utf-8') as file:\n",
        "    reader = csv.reader(file)\n",
        "    reviews = list(reader)"
      ],
      "metadata": {
        "id": "VgAy4w28TXBF"
      },
      "execution_count": 4,
      "outputs": []
    },
    {
      "cell_type": "markdown",
      "metadata": {
        "id": "T-fHzQEIjkH2"
      },
      "source": [
        "## 2 Scrape Text w/ Scrapy"
      ]
    },
    {
      "cell_type": "markdown",
      "metadata": {
        "id": "J8X6AWCmYn1M"
      },
      "source": [
        "### 2.0 Scrapy Setup"
      ]
    },
    {
      "cell_type": "code",
      "execution_count": 2,
      "metadata": {
        "colab": {
          "base_uri": "https://localhost:8080/"
        },
        "id": "8YWECTX8hDev",
        "outputId": "698503f0-685a-414e-c638-d4eb18b86abe"
      },
      "outputs": [
        {
          "output_type": "stream",
          "name": "stdout",
          "text": [
            "Collecting scrapy\n",
            "  Downloading Scrapy-2.11.0-py2.py3-none-any.whl (286 kB)\n",
            "\u001b[2K     \u001b[90m━━━━━━━━━━━━━━━━━━━━━━━━━━━━━━━━━━━━━━━━\u001b[0m \u001b[32m286.4/286.4 kB\u001b[0m \u001b[31m5.6 MB/s\u001b[0m eta \u001b[36m0:00:00\u001b[0m\n",
            "\u001b[?25hCollecting Twisted<23.8.0,>=18.9.0 (from scrapy)\n",
            "  Downloading Twisted-22.10.0-py3-none-any.whl (3.1 MB)\n",
            "\u001b[2K     \u001b[90m━━━━━━━━━━━━━━━━━━━━━━━━━━━━━━━━━━━━━━━━\u001b[0m \u001b[32m3.1/3.1 MB\u001b[0m \u001b[31m16.0 MB/s\u001b[0m eta \u001b[36m0:00:00\u001b[0m\n",
            "\u001b[?25hRequirement already satisfied: cryptography>=36.0.0 in /usr/local/lib/python3.10/dist-packages (from scrapy) (42.0.2)\n",
            "Collecting cssselect>=0.9.1 (from scrapy)\n",
            "  Downloading cssselect-1.2.0-py2.py3-none-any.whl (18 kB)\n",
            "Collecting itemloaders>=1.0.1 (from scrapy)\n",
            "  Downloading itemloaders-1.1.0-py3-none-any.whl (11 kB)\n",
            "Collecting parsel>=1.5.0 (from scrapy)\n",
            "  Downloading parsel-1.8.1-py2.py3-none-any.whl (17 kB)\n",
            "Requirement already satisfied: pyOpenSSL>=21.0.0 in /usr/local/lib/python3.10/dist-packages (from scrapy) (24.0.0)\n",
            "Collecting queuelib>=1.4.2 (from scrapy)\n",
            "  Downloading queuelib-1.6.2-py2.py3-none-any.whl (13 kB)\n",
            "Collecting service-identity>=18.1.0 (from scrapy)\n",
            "  Downloading service_identity-24.1.0-py3-none-any.whl (12 kB)\n",
            "Collecting w3lib>=1.17.0 (from scrapy)\n",
            "  Downloading w3lib-2.1.2-py3-none-any.whl (21 kB)\n",
            "Collecting zope.interface>=5.1.0 (from scrapy)\n",
            "  Downloading zope.interface-6.1-cp310-cp310-manylinux_2_5_x86_64.manylinux1_x86_64.manylinux_2_17_x86_64.manylinux2014_x86_64.whl (247 kB)\n",
            "\u001b[2K     \u001b[90m━━━━━━━━━━━━━━━━━━━━━━━━━━━━━━━━━━━━━━━━\u001b[0m \u001b[32m247.1/247.1 kB\u001b[0m \u001b[31m20.5 MB/s\u001b[0m eta \u001b[36m0:00:00\u001b[0m\n",
            "\u001b[?25hCollecting protego>=0.1.15 (from scrapy)\n",
            "  Downloading Protego-0.3.0-py2.py3-none-any.whl (8.5 kB)\n",
            "Collecting itemadapter>=0.1.0 (from scrapy)\n",
            "  Downloading itemadapter-0.8.0-py3-none-any.whl (11 kB)\n",
            "Requirement already satisfied: setuptools in /usr/local/lib/python3.10/dist-packages (from scrapy) (67.7.2)\n",
            "Requirement already satisfied: packaging in /usr/local/lib/python3.10/dist-packages (from scrapy) (23.2)\n",
            "Collecting tldextract (from scrapy)\n",
            "  Downloading tldextract-5.1.1-py3-none-any.whl (97 kB)\n",
            "\u001b[2K     \u001b[90m━━━━━━━━━━━━━━━━━━━━━━━━━━━━━━━━━━━━━━━━\u001b[0m \u001b[32m97.7/97.7 kB\u001b[0m \u001b[31m11.4 MB/s\u001b[0m eta \u001b[36m0:00:00\u001b[0m\n",
            "\u001b[?25hRequirement already satisfied: lxml>=4.4.1 in /usr/local/lib/python3.10/dist-packages (from scrapy) (4.9.4)\n",
            "Collecting PyDispatcher>=2.0.5 (from scrapy)\n",
            "  Downloading PyDispatcher-2.0.7-py3-none-any.whl (12 kB)\n",
            "Requirement already satisfied: cffi>=1.12 in /usr/local/lib/python3.10/dist-packages (from cryptography>=36.0.0->scrapy) (1.16.0)\n",
            "Collecting jmespath>=0.9.5 (from itemloaders>=1.0.1->scrapy)\n",
            "  Downloading jmespath-1.0.1-py3-none-any.whl (20 kB)\n",
            "Requirement already satisfied: attrs>=19.1.0 in /usr/local/lib/python3.10/dist-packages (from service-identity>=18.1.0->scrapy) (23.2.0)\n",
            "Requirement already satisfied: pyasn1 in /usr/local/lib/python3.10/dist-packages (from service-identity>=18.1.0->scrapy) (0.5.1)\n",
            "Requirement already satisfied: pyasn1-modules in /usr/local/lib/python3.10/dist-packages (from service-identity>=18.1.0->scrapy) (0.3.0)\n",
            "Collecting constantly>=15.1 (from Twisted<23.8.0,>=18.9.0->scrapy)\n",
            "  Downloading constantly-23.10.4-py3-none-any.whl (13 kB)\n",
            "Collecting incremental>=21.3.0 (from Twisted<23.8.0,>=18.9.0->scrapy)\n",
            "  Downloading incremental-22.10.0-py2.py3-none-any.whl (16 kB)\n",
            "Collecting Automat>=0.8.0 (from Twisted<23.8.0,>=18.9.0->scrapy)\n",
            "  Downloading Automat-22.10.0-py2.py3-none-any.whl (26 kB)\n",
            "Collecting hyperlink>=17.1.1 (from Twisted<23.8.0,>=18.9.0->scrapy)\n",
            "  Downloading hyperlink-21.0.0-py2.py3-none-any.whl (74 kB)\n",
            "\u001b[2K     \u001b[90m━━━━━━━━━━━━━━━━━━━━━━━━━━━━━━━━━━━━━━━━\u001b[0m \u001b[32m74.6/74.6 kB\u001b[0m \u001b[31m6.7 MB/s\u001b[0m eta \u001b[36m0:00:00\u001b[0m\n",
            "\u001b[?25hRequirement already satisfied: typing-extensions>=3.6.5 in /usr/local/lib/python3.10/dist-packages (from Twisted<23.8.0,>=18.9.0->scrapy) (4.9.0)\n",
            "Requirement already satisfied: idna in /usr/local/lib/python3.10/dist-packages (from tldextract->scrapy) (3.6)\n",
            "Requirement already satisfied: requests>=2.1.0 in /usr/local/lib/python3.10/dist-packages (from tldextract->scrapy) (2.31.0)\n",
            "Collecting requests-file>=1.4 (from tldextract->scrapy)\n",
            "  Downloading requests_file-2.0.0-py2.py3-none-any.whl (4.2 kB)\n",
            "Requirement already satisfied: filelock>=3.0.8 in /usr/local/lib/python3.10/dist-packages (from tldextract->scrapy) (3.13.1)\n",
            "Requirement already satisfied: six in /usr/local/lib/python3.10/dist-packages (from Automat>=0.8.0->Twisted<23.8.0,>=18.9.0->scrapy) (1.16.0)\n",
            "Requirement already satisfied: pycparser in /usr/local/lib/python3.10/dist-packages (from cffi>=1.12->cryptography>=36.0.0->scrapy) (2.21)\n",
            "Requirement already satisfied: charset-normalizer<4,>=2 in /usr/local/lib/python3.10/dist-packages (from requests>=2.1.0->tldextract->scrapy) (3.3.2)\n",
            "Requirement already satisfied: urllib3<3,>=1.21.1 in /usr/local/lib/python3.10/dist-packages (from requests>=2.1.0->tldextract->scrapy) (2.0.7)\n",
            "Requirement already satisfied: certifi>=2017.4.17 in /usr/local/lib/python3.10/dist-packages (from requests>=2.1.0->tldextract->scrapy) (2024.2.2)\n",
            "Installing collected packages: PyDispatcher, incremental, zope.interface, w3lib, queuelib, protego, jmespath, itemadapter, hyperlink, cssselect, constantly, Automat, Twisted, requests-file, parsel, tldextract, service-identity, itemloaders, scrapy\n",
            "Successfully installed Automat-22.10.0 PyDispatcher-2.0.7 Twisted-22.10.0 constantly-23.10.4 cssselect-1.2.0 hyperlink-21.0.0 incremental-22.10.0 itemadapter-0.8.0 itemloaders-1.1.0 jmespath-1.0.1 parsel-1.8.1 protego-0.3.0 queuelib-1.6.2 requests-file-2.0.0 scrapy-2.11.0 service-identity-24.1.0 tldextract-5.1.1 w3lib-2.1.2 zope.interface-6.1\n"
          ]
        }
      ],
      "source": [
        "# Install Scrapy, a web scraping and crawling framework for Python.\n",
        "# Pip install is done through terminal command\n",
        "!pip install scrapy\n",
        "\n",
        "# Import the scrapy module after installation. Gives tools to extract, process, and store web data.\n",
        "import scrapy\n",
        "\n",
        "# Import the crawler component from Scrapy. This is used to create spiders,\n",
        "# which are classes that define how a site (or a group of sites) will be scraped.\n",
        "from scrapy import crawler"
      ]
    },
    {
      "cell_type": "code",
      "execution_count": 3,
      "metadata": {
        "colab": {
          "base_uri": "https://localhost:8080/"
        },
        "id": "z1nqjdYj0bHh",
        "outputId": "24bd6e44-0a48-4e60-fbac-d6800047d52c"
      },
      "outputs": [
        {
          "output_type": "stream",
          "name": "stdout",
          "text": [
            "/content/drive/MyDrive/NLP/Lab1/yelp_crawler\n"
          ]
        }
      ],
      "source": [
        "# Travel to crawler directory to be able to run commands\n",
        "%cd \"/content/drive/MyDrive/NLP/Lab1/yelp_crawler\""
      ]
    },
    {
      "cell_type": "markdown",
      "metadata": {
        "id": "CV4saFVrkILs"
      },
      "source": [
        "### 2.1 Create Project"
      ]
    },
    {
      "cell_type": "code",
      "execution_count": null,
      "metadata": {
        "colab": {
          "base_uri": "https://localhost:8080/"
        },
        "id": "FoEBP3oakUJy",
        "outputId": "ded7721b-dae2-4153-dff4-29280be9e0c5"
      },
      "outputs": [
        {
          "name": "stdout",
          "output_type": "stream",
          "text": [
            "Error: scrapy.cfg already exists in /content/drive/MyDrive/NLP/Lab1/yelp_crawler\n"
          ]
        }
      ],
      "source": [
        "# Scrapy initialization provides architecture to design crawler\n",
        "!scrapy startproject yelp_crawler"
      ]
    },
    {
      "cell_type": "markdown",
      "metadata": {
        "id": "g5r3zlv-kYO0"
      },
      "source": [
        "### 2.2 Create Spider"
      ]
    },
    {
      "cell_type": "code",
      "execution_count": null,
      "metadata": {
        "colab": {
          "base_uri": "https://localhost:8080/"
        },
        "id": "hoqHJQIXkdyE",
        "outputId": "1d3f9e71-c26b-42d0-d979-c505a023e0db"
      },
      "outputs": [
        {
          "name": "stdout",
          "output_type": "stream",
          "text": [
            "[Errno 2] No such file or directory: 'yelp_crawler/yelp_crawler'\n",
            "/content/drive/MyDrive/NLP/Lab1/yelp_crawler\n"
          ]
        }
      ],
      "source": [
        "# Change into directory where spider will be made\n",
        "%cd yelp_crawler/yelp_crawler"
      ]
    },
    {
      "cell_type": "code",
      "execution_count": null,
      "metadata": {
        "colab": {
          "base_uri": "https://localhost:8080/"
        },
        "id": "dpLQMVF8klFA",
        "outputId": "226a98f4-6811-48bf-a7fd-9d3e8476d506"
      },
      "outputs": [
        {
          "name": "stdout",
          "output_type": "stream",
          "text": [
            "Created spider 'yelpbolt' using template 'basic' in module:\n",
            "  yelp_crawler.spiders.yelpbolt\n"
          ]
        }
      ],
      "source": [
        "# Creat default spider\n",
        "!scrapy genspider yelpbolt https://www.yelp.com/biz/upland-rheumatology-center-upland-2?osq=doctors#reviews"
      ]
    },
    {
      "cell_type": "markdown",
      "metadata": {
        "id": "3Uq-sZqUkvjb"
      },
      "source": [
        "### 2.3 Edit Spider"
      ]
    },
    {
      "cell_type": "markdown",
      "metadata": {
        "id": "hmtFndI4844J"
      },
      "source": [
        "Changed how crawler works to search all pagified reviews\n",
        "\n",
        "Edited the User Agent and Robots.txt obey rule\n",
        "\n",
        "Files attached as clean pdfs"
      ]
    },
    {
      "cell_type": "markdown",
      "metadata": {
        "id": "Tc0AM9bC0QDM"
      },
      "source": [
        "### 2.4 Run the Crawler"
      ]
    },
    {
      "cell_type": "code",
      "execution_count": null,
      "metadata": {
        "colab": {
          "base_uri": "https://localhost:8080/"
        },
        "id": "pjsgxKJx0Ypf",
        "outputId": "52553154-1e47-49a5-df5e-6acaadea7d58"
      },
      "outputs": [
        {
          "name": "stdout",
          "output_type": "stream",
          "text": [
            "2024-02-08 06:41:05 [scrapy.utils.log] INFO: Scrapy 2.11.0 started (bot: yelp_crawler)\n",
            "2024-02-08 06:41:05 [scrapy.utils.log] INFO: Versions: lxml 4.9.4.0, libxml2 2.10.3, cssselect 1.2.0, parsel 1.8.1, w3lib 2.1.2, Twisted 22.10.0, Python 3.10.12 (main, Nov 20 2023, 15:14:05) [GCC 11.4.0], pyOpenSSL 24.0.0 (OpenSSL 3.2.1 30 Jan 2024), cryptography 42.0.2, Platform Linux-6.1.58+-x86_64-with-glibc2.35\n",
            "2024-02-08 06:41:05 [scrapy.addons] INFO: Enabled addons:\n",
            "[]\n",
            "2024-02-08 06:41:05 [asyncio] DEBUG: Using selector: EpollSelector\n",
            "2024-02-08 06:41:05 [scrapy.utils.log] DEBUG: Using reactor: twisted.internet.asyncioreactor.AsyncioSelectorReactor\n",
            "2024-02-08 06:41:05 [scrapy.utils.log] DEBUG: Using asyncio event loop: asyncio.unix_events._UnixSelectorEventLoop\n",
            "2024-02-08 06:41:05 [scrapy.extensions.telnet] INFO: Telnet Password: 1a5d9f71ef1f0e47\n",
            "2024-02-08 06:41:05 [scrapy.middleware] INFO: Enabled extensions:\n",
            "['scrapy.extensions.corestats.CoreStats',\n",
            " 'scrapy.extensions.telnet.TelnetConsole',\n",
            " 'scrapy.extensions.memusage.MemoryUsage',\n",
            " 'scrapy.extensions.feedexport.FeedExporter',\n",
            " 'scrapy.extensions.logstats.LogStats']\n",
            "2024-02-08 06:41:05 [scrapy.crawler] INFO: Overridden settings:\n",
            "{'BOT_NAME': 'yelp_crawler',\n",
            " 'FEED_EXPORT_ENCODING': 'utf-8',\n",
            " 'NEWSPIDER_MODULE': 'yelp_crawler.spiders',\n",
            " 'REQUEST_FINGERPRINTER_IMPLEMENTATION': '2.7',\n",
            " 'SPIDER_MODULES': ['yelp_crawler.spiders'],\n",
            " 'TWISTED_REACTOR': 'twisted.internet.asyncioreactor.AsyncioSelectorReactor',\n",
            " 'USER_AGENT': 'yelp_crawler (+mailto:rylieweaver2000@gmail.com)'}\n",
            "2024-02-08 06:41:05 [scrapy.middleware] INFO: Enabled downloader middlewares:\n",
            "['scrapy.downloadermiddlewares.httpauth.HttpAuthMiddleware',\n",
            " 'scrapy.downloadermiddlewares.downloadtimeout.DownloadTimeoutMiddleware',\n",
            " 'scrapy.downloadermiddlewares.defaultheaders.DefaultHeadersMiddleware',\n",
            " 'scrapy.downloadermiddlewares.useragent.UserAgentMiddleware',\n",
            " 'scrapy.downloadermiddlewares.retry.RetryMiddleware',\n",
            " 'scrapy.downloadermiddlewares.redirect.MetaRefreshMiddleware',\n",
            " 'scrapy.downloadermiddlewares.httpcompression.HttpCompressionMiddleware',\n",
            " 'scrapy.downloadermiddlewares.redirect.RedirectMiddleware',\n",
            " 'scrapy.downloadermiddlewares.cookies.CookiesMiddleware',\n",
            " 'scrapy.downloadermiddlewares.httpproxy.HttpProxyMiddleware',\n",
            " 'scrapy.downloadermiddlewares.stats.DownloaderStats']\n",
            "2024-02-08 06:41:05 [scrapy.middleware] INFO: Enabled spider middlewares:\n",
            "['scrapy.spidermiddlewares.httperror.HttpErrorMiddleware',\n",
            " 'scrapy.spidermiddlewares.offsite.OffsiteMiddleware',\n",
            " 'scrapy.spidermiddlewares.referer.RefererMiddleware',\n",
            " 'scrapy.spidermiddlewares.urllength.UrlLengthMiddleware',\n",
            " 'scrapy.spidermiddlewares.depth.DepthMiddleware']\n",
            "2024-02-08 06:41:05 [scrapy.middleware] INFO: Enabled item pipelines:\n",
            "[]\n",
            "2024-02-08 06:41:05 [scrapy.core.engine] INFO: Spider opened\n",
            "2024-02-08 06:41:05 [scrapy.extensions.logstats] INFO: Crawled 0 pages (at 0 pages/min), scraped 0 items (at 0 items/min)\n",
            "2024-02-08 06:41:05 [scrapy.extensions.telnet] INFO: Telnet console listening on 127.0.0.1:6023\n",
            "2024-02-08 06:41:05 [urllib3.connectionpool] DEBUG: Starting new HTTPS connection (1): publicsuffix.org:443\n",
            "2024-02-08 06:41:06 [urllib3.connectionpool] DEBUG: https://publicsuffix.org:443 \"GET /list/public_suffix_list.dat HTTP/1.1\" 200 84458\n",
            "2024-02-08 06:41:06 [scrapy.downloadermiddlewares.redirect] DEBUG: Redirecting (301) to <GET https://www.yelp.com/biz/upland-rheumatology-center-upland-2?osq=doctors> from <GET https://www.yelp.com/biz/upland-rheumatology-center-upland-2?osq=doctors&start=0#reviews>\n",
            "2024-02-08 06:41:08 [scrapy.core.engine] DEBUG: Crawled (200) <GET https://www.yelp.com/biz/upland-rheumatology-center-upland-2?osq=doctors&start=40#reviews> (referer: None)\n",
            "2024-02-08 06:41:08 [scrapy.core.scraper] DEBUG: Scraped from <200 https://www.yelp.com/biz/upland-rheumatology-center-upland-2?osq=doctors&start=40>\n",
            "{'reviewer': 'ANGIE D.', 'rating': '5 star rating', 'date': 'Jun 23, 2011', 'content': \"My husband is a patient of Dr. K and I have accompanied him on a couple of office visits. He was the only doctor who was able to quickly diagnose my husband's condition after countless visits to our PCP, other urgent care, and the ER. After beginning treatment the doctor called our home to check how my husband was doing. In addition to being a great doctor, he also has a wonderful staff. The staff is not only professional, but also very friendly, and helpful. Everyone at this office truly cares about the patients.\"}\n",
            "2024-02-08 06:41:08 [scrapy.core.scraper] DEBUG: Scraped from <200 https://www.yelp.com/biz/upland-rheumatology-center-upland-2?osq=doctors&start=40>\n",
            "{'reviewer': 'Sara C.', 'rating': '5 star rating', 'date': 'Apr 27, 2011', 'content': \"I saw Dr. Kokhab twice at the urgent care in Upland. I've had Fibromyalgia for 23 years now and I had just quit Norco 10-325 cold turkey after taking 5-6 pills a day for 5 years. Dr Kokhab helped me by giving me a non addictive medication similar to Tylenol and told me to make an appt at his office location to treat my Fibro. He seems like a very good Dr. and took his time twice to answer my questions and help me in any way he can. I will update you with more info after I see him tomorrow at his office.\"}\n",
            "2024-02-08 06:41:08 [scrapy.core.scraper] DEBUG: Scraped from <200 https://www.yelp.com/biz/upland-rheumatology-center-upland-2?osq=doctors&start=40>\n",
            "{'reviewer': 'Julie. E.', 'rating': '5 star rating', 'date': 'Dec 30, 2015', 'content': 'Dr. Kokhab is an awesome doctor he does not rush his appointments, takes time to answer all of your questions. Overall a very nice and warm person. He does all he could do to help you and resolve any issue you may have. His staff is great! If I could give him more stars i would=)'}\n",
            "2024-02-08 06:41:08 [scrapy.core.scraper] DEBUG: Scraped from <200 https://www.yelp.com/biz/upland-rheumatology-center-upland-2?osq=doctors&start=40>\n",
            "{'reviewer': 'Kirbeena D.', 'rating': '5 star rating', 'date': 'Apr 23, 2013', 'content': 'Great place, really good doctor.  Actually looks at you when you talk to him.  Very pleased.'}\n",
            "2024-02-08 06:41:08 [scrapy.core.scraper] DEBUG: Scraped from <200 https://www.yelp.com/biz/upland-rheumatology-center-upland-2?osq=doctors&start=40>\n",
            "{'reviewer': 'Di M.', 'rating': '5 star rating', 'date': 'Jul 29, 2015', 'content': 'I found Dr. Kokhab almost 2 years ago after moving from Chicago.  I did a lot of research and his reputation was excellent.  I was not disappointed!  Dr. Kokhab is compassionate, knowledgeable and respectful.  He will develop a plan of action and never make you feel you are being rushed out the door. His staff is very nice and professional.  There are 3 areas upon sign in. An eye specialist, urgent care and rheumatology.  So it appears busy upon entering but wait times are very good.'}\n",
            "2024-02-08 06:41:08 [scrapy.core.scraper] DEBUG: Scraped from <200 https://www.yelp.com/biz/upland-rheumatology-center-upland-2?osq=doctors&start=40>\n",
            "{'reviewer': 'Melinda S.', 'rating': '5 star rating', 'date': 'Aug 24, 2014', 'content': 'This doctor is brilliant, kind and thorough.  REALLY felt I was given his full attention, accurate diagnosis, treated promptly and effectively with an full explanation that I could understand.  Kudos to you Dr. Kokhab!  And, thank you for the excellent care.'}\n",
            "2024-02-08 06:41:08 [scrapy.core.scraper] DEBUG: Scraped from <200 https://www.yelp.com/biz/upland-rheumatology-center-upland-2?osq=doctors&start=40>\n",
            "{'reviewer': 'Julie P.', 'rating': '5 star rating', 'date': 'Feb 5, 2013', 'content': \"OMG! This Urgent Care is great! Since I couldnt be seen at my regular Dr.'s office, not a good thing especially since I was having trouble breathing due to my asthma, I looked for an Urgent Care close to my house. I read the reviews for this location and they were all good. So I went. This place is so nice. Its pretty and clean, not like  the ones that look like a workmans comp place. I think I was there for almost an hour, including filling out paperwork and my treatment. Amanda was the nurse who helped me, she was Very nice. I recommend this place to anyone who wants or needs help right away.  Thank you , jparedes\"}\n",
            "2024-02-08 06:41:08 [scrapy.core.scraper] DEBUG: Scraped from <200 https://www.yelp.com/biz/upland-rheumatology-center-upland-2?osq=doctors&start=40>\n",
            "{'reviewer': 'Molly B.', 'rating': '1 star rating', 'date': 'Apr 13, 2012', 'content': 'Made an appointment, had to wait 2 months, only to have them reschedule the appointment THEN on the new date say \"oh, we have no record of rescheduling\" .....s'}\n",
            "2024-02-08 06:41:08 [scrapy.core.engine] DEBUG: Crawled (200) <GET https://www.yelp.com/biz/upland-rheumatology-center-upland-2?osq=doctors&start=30#reviews> (referer: None)\n",
            "2024-02-08 06:41:08 [scrapy.core.engine] DEBUG: Crawled (200) <GET https://www.yelp.com/biz/upland-rheumatology-center-upland-2?osq=doctors&start=20#reviews> (referer: None)\n",
            "2024-02-08 06:41:09 [scrapy.core.scraper] DEBUG: Scraped from <200 https://www.yelp.com/biz/upland-rheumatology-center-upland-2?osq=doctors&start=30>\n",
            "{'reviewer': 'Skylar K.', 'rating': '5 star rating', 'date': 'Dec 11, 2019', 'content': 'I have been going to the nurse practitioner, Mary, here for more than 2 years now. From the very first time I came in, to now, Mary has been incredibly kind, caring and helpful. She is very well informed on how to treat her patients and I am very grateful to have her as my rheumatologist. I trust her completely and will continue to trust her as she treats me. The staff here are also very friendly and helpful whenever I have a problem with appointments or prescriptions, both on the phone and in person. I feel very lucky to have this group of staff.'}\n",
            "2024-02-08 06:41:09 [scrapy.core.scraper] DEBUG: Scraped from <200 https://www.yelp.com/biz/upland-rheumatology-center-upland-2?osq=doctors&start=30>\n",
            "{'reviewer': 'Joe G.', 'rating': '1 star rating', 'date': 'Aug 2, 2019', 'content': \"Honestly the worst office staff I ever dealt with in any business, argumentative and certainly dont advocate for patient care, Dr's were professional but need to make changes to office manager & staff, if they want to provide an all around good experience for their patients.\"}\n",
            "2024-02-08 06:41:09 [scrapy.core.scraper] DEBUG: Scraped from <200 https://www.yelp.com/biz/upland-rheumatology-center-upland-2?osq=doctors&start=30>\n",
            "{'reviewer': 'Amanda S.', 'rating': '5 star rating', 'date': 'Aug 8, 2016', 'content': \"Met with Mary, the nurse practitioner, and immediately felt at ease. She was so calm and approachable. She took the time to do a proper assessment, get a detailed history from me, and explain all my labs she was running thoroughly. At the follow up appointment, she again explained my results thoroughly and made sure I didn't have any questions before I left. You can tell she knows this specialty well, is passionate about it, and has a wonderful bedside manner.!\"}\n",
            "2024-02-08 06:41:09 [scrapy.core.scraper] DEBUG: Scraped from <200 https://www.yelp.com/biz/upland-rheumatology-center-upland-2?osq=doctors&start=30>\n",
            "{'reviewer': 'Theresa M.', 'rating': '5 star rating', 'date': 'May 29, 2014', 'content': \"I can't say enough amazing things about Dr. Kokhab and his staff. I have been seen by so many doctors and no one was able to help and I was starting to loose hope that I would get better. Dr. Kokhab is amazing!! He saw me and ran all the proper blood tests but once we got the results (literally that day), he went into action. He explained all options, I mean all options in order to make sure that I felt comfortable with the decision. His staff is very friendly and calls you back when they say they are going too. Many offices get so busy that they forget about you, not this office. I have had some flair ups and the doctor waited for me to make sure that it wasn't anything worst than just a flair up (which if you get flair ups, you know how painful they can be). My husband and I are so thankful we found Dr. Kokhab and I would recommend this office to everyone and anyone that needs this type of specalist.\"}\n",
            "2024-02-08 06:41:09 [scrapy.core.scraper] DEBUG: Scraped from <200 https://www.yelp.com/biz/upland-rheumatology-center-upland-2?osq=doctors&start=30>\n",
            "{'reviewer': 'Tanaya C.', 'rating': '5 star rating', 'date': 'Mar 7, 2017', 'content': 'Well this was my first time going to an urgent care vs going to an emergency room...and i was extremely satisfied....i was seen in an timely matter and the janitors was constantly wiping the chairs and sanitizing them she also walked around with the broom sweeping..the front desk was kind, it was the man who worked the front desk that really caught my eye though...it was late and closing i was the last person to be seen, however a girl walked in with her hand bleeding he told them they were closed at first but to hold on and he walked to the back told the dr. And came back and said he didnt feel right turning them away....thats what i like to see... Well 5 stars from me'}\n",
            "2024-02-08 06:41:09 [scrapy.core.scraper] DEBUG: Scraped from <200 https://www.yelp.com/biz/upland-rheumatology-center-upland-2?osq=doctors&start=30>\n",
            "{'reviewer': 'Elizabeth D.', 'rating': '5 star rating', 'date': 'Apr 14, 2019', 'content': \"I'm into my second week of plant based eating since seeing Dr Kokhab. I am feeling so much better! Still can't believe what a difference it has made in my day to day activities. He is amazing and very knowledgeable. My body was wracked with pain that I was beyond exhausted and miserable!! I am so glad that my primary Physician, Dr Zuniga referred me to Dr Kokhab!!! I'm feeling more positive about my outlook for managing my pain and depression. Thank you Dr Kokhab.\"}\n",
            "2024-02-08 06:41:09 [scrapy.core.scraper] DEBUG: Scraped from <200 https://www.yelp.com/biz/upland-rheumatology-center-upland-2?osq=doctors&start=30>\n",
            "{'reviewer': 'Marc S.', 'rating': '5 star rating', 'date': 'Jan 10, 2017', 'content': 'Simply the best! When there is a complicated problem He knows how to find the right solutions. Not only is he a great clinician, he really goes out of his way to help everyone on a deeper level. If he has food in the back office he will give it to his patients. He treats me like family. Thank you Dr K'}\n",
            "2024-02-08 06:41:09 [scrapy.core.scraper] DEBUG: Scraped from <200 https://www.yelp.com/biz/upland-rheumatology-center-upland-2?osq=doctors&start=30>\n",
            "{'reviewer': 'Lettie C.', 'rating': '1 star rating', 'date': 'Jul 9, 2018', 'content': \"First time ever seeing a Rheumatologist and he didn't even order blood work or X-rays.  Sent me home with something for the pain that once I got it home read, do not take if you have asthma which I told him I did.  He told me to take it anyway, now I'm having to see a pulmonologist!  Terrible doctor.\"}\n",
            "2024-02-08 06:41:09 [scrapy.core.scraper] DEBUG: Scraped from <200 https://www.yelp.com/biz/upland-rheumatology-center-upland-2?osq=doctors&start=30>\n",
            "{'reviewer': 'Dawn L.', 'rating': '5 star rating', 'date': 'Apr 25, 2019', 'content': \"Dr Marjan  Khaleghi is the best Rheumatologist. She is so compassionate for me. I can call and get in to see her within hours. When my pain is so severe she totally understands it. She really cares about you. She does everything right then and there before you leave her office. She makes sure to help your pain. I've never had a doctor get you in so fast , she will even skip her lunch to help me. I recommend her highly if you suffer from arthritis.\"}\n",
            "2024-02-08 06:41:09 [scrapy.core.engine] DEBUG: Crawled (200) <GET https://www.yelp.com/biz/upland-rheumatology-center-upland-2?osq=doctors&start=10#reviews> (referer: None)\n",
            "2024-02-08 06:41:09 [scrapy.core.engine] DEBUG: Crawled (200) <GET https://www.yelp.com/biz/upland-rheumatology-center-upland-2?osq=doctors> (referer: None)\n",
            "2024-02-08 06:41:09 [scrapy.core.scraper] DEBUG: Scraped from <200 https://www.yelp.com/biz/upland-rheumatology-center-upland-2?osq=doctors&start=30>\n",
            "{'reviewer': 'Chris R.', 'rating': '5 star rating', 'date': 'Apr 24, 2018', 'content': \"Went to check out Dr. Morris Kokhab and didnt feel right. After the second and third appointment,I realized just how professional and caring Dr.Kokhab treats his patients.This M.D. is the best Rheumatologist in my opinion,that I have ever been treated by.I have been a retired Union Ironworker for some time and have been suffering from past injuries that's been attacking my body through some painful and difficult forms of arthritis.After several treatments  by Dr.Kokhab,for the first time in many many years, I felt a change in my condition.I still have a long journey ahead, but thanks to Dr.Kokhab the genius,I actually have hope.Thankyou Dr.Kokhab for your professionalism and your great knowledge.For the first time in years,I see the light.\"}\n",
            "2024-02-08 06:41:09 [scrapy.core.scraper] DEBUG: Scraped from <200 https://www.yelp.com/biz/upland-rheumatology-center-upland-2?osq=doctors&start=20>\n",
            "{'reviewer': 'Beth H.', 'rating': '5 star rating', 'date': 'Jan 20, 2018', 'content': 'Dr Kokhab is an excellent dr he takes the time to talk to youHe explains things and does not over react.I highly recommend him'}\n",
            "2024-02-08 06:41:09 [scrapy.core.scraper] DEBUG: Scraped from <200 https://www.yelp.com/biz/upland-rheumatology-center-upland-2?osq=doctors&start=20>\n",
            "{'reviewer': 'Caroline B.', 'rating': '1 star rating', 'date': 'Sep 11, 2020', 'content': 'I had couple of televisits with a Dr. Sadeghi from this office, very nice and knowledgable doctor and was happy with my visit; however, I had to change offices on account of how inefficiently this office was run.  It was a constant chase to try to make an appointment, have them provide the right paper work first time around, could not leave a message voice mail was full, phone would ring forever no one would pick up for the most part. I emailed requesting an appointment and got a call back eight days later. Cece the manager gave wrong info. to my insurance company noting that I had bone cancer, I do not.  She had to reapply correctly second time around without even an apology for her mistake to me. LOL total chaos.'}\n",
            "2024-02-08 06:41:09 [scrapy.core.scraper] DEBUG: Scraped from <200 https://www.yelp.com/biz/upland-rheumatology-center-upland-2?osq=doctors&start=20>\n",
            "{'reviewer': 'Gisela S.', 'rating': '1 star rating', 'date': 'Feb 29, 2020', 'content': 'Made me feel like like my visit unimportant. Was sarcastic when I answered his questions regarding my health.'}\n",
            "2024-02-08 06:41:09 [scrapy.core.scraper] DEBUG: Scraped from <200 https://www.yelp.com/biz/upland-rheumatology-center-upland-2?osq=doctors&start=20>\n",
            "{'reviewer': 'Cynthia V.', 'rating': '5 star rating', 'date': 'Sep 18, 2019', 'content': 'I was just seen by Mary, the PA, today. Everyone in the office was professional, kind, & even personable. Yes, appointments are scheduled out a bit, but they actually got me in a little sooner, due to a cancellation. Frankly, it is worth the wait. I would rather have a hard time getting an appointment and get the treatment that I need and deserve, than get a sooner appointment with someone who rushes me in and out, vs Mary who took her time with me. She provided a very thorough exam, went over testing that had already been done by my primary and ENT, and ordered more testing. She does not do what I have had doctors do in the past... You know those doctors? The ones that give you medicine to try? I look forward to working with her more, and feeling a lot better!'}\n",
            "2024-02-08 06:41:09 [scrapy.core.scraper] DEBUG: Scraped from <200 https://www.yelp.com/biz/upland-rheumatology-center-upland-2?osq=doctors&start=20>\n",
            "{'reviewer': 'Steven C.', 'rating': '1 star rating', 'date': 'Aug 20, 2018', 'content': \"Don't come to this office as they will give you a shot that may not cover by your insurance.  I later found out It cost only $5 copay on those shots to do it at home.  They will bill you $120 not covered by your insurance and not to tell you about it upfront. Those shots were samples provided by pharmaceutical firms.  No other doctors have charged me samples.\"}\n",
            "2024-02-08 06:41:09 [scrapy.core.scraper] DEBUG: Scraped from <200 https://www.yelp.com/biz/upland-rheumatology-center-upland-2?osq=doctors&start=20>\n",
            "{'reviewer': 'Patricia S.', 'rating': '5 star rating', 'date': 'Mar 26, 2019', 'content': \"Great doctor and staff. I've been a patient for almost 10 years. I also see Mary, the physician assistant, and she is the most caring doctor ever. She takes her time with you and you never feel rushed. Mary and Dr. Kokhab are very kind, caring, and knowledgeable doctors. I highly recommend them both.\"}\n",
            "2024-02-08 06:41:09 [scrapy.core.scraper] DEBUG: Scraped from <200 https://www.yelp.com/biz/upland-rheumatology-center-upland-2?osq=doctors&start=20>\n",
            "{'reviewer': 'Sam P.', 'rating': '5 star rating', 'date': 'Oct 18, 2018', 'content': \"I've been seen Dr. Mary here for 1 year now. I absolutely adore her. She takes the time to speak with you without rushing out the door and makes it personal rather than just a sterile environment. I hadn't seen her for 6 months due to my insurance changing, but when I went back she immediately asked me how my son was doing--she remembered. Not to mention she gets the job done and does whatever it takes to make you better. I went there barely being able to move because of my psoriatic arthritis. With her help (after my dermatologist failed me) she was able to get medication approved that worked for me and I went from a pain scale of 10 to a ZERO! This has allowed me to do everything a mommy needs to do for their 1 year old and I can't think her enough. I wen my there with a bleak outlook (self imposed) because I could barely move. It hurt to roll over in bed, couldn't get out of bed without help and couldn't even change my sons diaper without pain. I didn't think there was any hope until Mary. Truly thankful for my new quality of life because of Mary.The ONLY not so great thing I can say about this place is that it's sometimes difficult to reach somebody. I usually get VM when I try to schedule an appointment and have to keep calling back bc my calls are not returned in a timely manner. But, that's not Mary's fault!\"}\n",
            "2024-02-08 06:41:09 [scrapy.core.scraper] DEBUG: Scraped from <200 https://www.yelp.com/biz/upland-rheumatology-center-upland-2?osq=doctors&start=10>\n",
            "{'reviewer': 'Michael L.', 'rating': '1 star rating', 'date': 'Dec 18, 2018', 'content': 'I was there cup of times, never seem by the Dr. him self. Always told me he was busy, and seem by his nurse practitioner. She does not have the knowledge to see patients by herself.Mistreated my condition, and prescribed a medication with lots of side effects just to test it out.Stay away this horrible office. And try to get seem with a Doctor that have time for his patients!'}\n",
            "2024-02-08 06:41:09 [scrapy.core.scraper] DEBUG: Scraped from <200 https://www.yelp.com/biz/upland-rheumatology-center-upland-2?osq=doctors>\n",
            "{'reviewer': 'Dustin C.', 'rating': '5 star rating', 'date': 'Nov 4, 2018', 'content': \"Awesome team, very knowledgeable. My wife was seen and recommended by Gloria Stevens, MD (who is also within the same business complex) -- we were seen rather quick, and quickly the doctor was able to get on the same page. She asked key questions, added a steroid to help cycle my wife off prednisone and was very helpful throughout the entire process. My wife left with comfort, and hope. My wife is battling an autoimmune disease which is 50/50 either Chrons or Henoch-Schonlein -- we're puzzling this all together and are hoping its just Henoch-Schonlein. We will know very soon as my wife has biopsies pending USC, and then a followup with the GI Doctor.Highly recommended.\"}\n",
            "2024-02-08 06:41:09 [scrapy.core.scraper] DEBUG: Scraped from <200 https://www.yelp.com/biz/upland-rheumatology-center-upland-2?osq=doctors&start=20>\n",
            "{'reviewer': 'Mark M.', 'rating': '1 star rating', 'date': 'Jun 26, 2019', 'content': \"I have gone to this office many times and wait for hours just for the Dr to say although I have positive labs for a condition he does not think that's what is the cause of my pain. In addition his demeanor is creepy I was very uncomfortable in a room with him every time. I would find another place to go.\"}\n",
            "2024-02-08 06:41:09 [scrapy.core.scraper] DEBUG: Scraped from <200 https://www.yelp.com/biz/upland-rheumatology-center-upland-2?osq=doctors&start=20>\n",
            "{'reviewer': 'Katie P.', 'rating': '5 star rating', 'date': 'Jun 30, 2015', 'content': 'Dr. Kokhab and his office are doing a great job treating me for fibromyalgia.  His whole office is very polite and caring.  They explained the condition to me in great detail and took my concerns about living on medication very seriously.  I appreciate Dr. Kokhab working with me to devise a live able treatment plan.  I highly recommend him!'}\n",
            "2024-02-08 06:41:09 [scrapy.core.scraper] DEBUG: Scraped from <200 https://www.yelp.com/biz/upland-rheumatology-center-upland-2?osq=doctors&start=20>\n",
            "{'reviewer': 'Valerie B.', 'rating': '5 star rating', 'date': 'Dec 4, 2017', 'content': \"I'm a first time patient, who saw Dr. Kokhab today. Despite being 15 minutes late I was seen promptly and evaluated thoroughly. They pulled my medical records quickly too. This doctor is very professional and helpful. As I was leaving I noticed no one asked to schedule my follow up visit, but it's no biggie and then I got a call from them to make my follow up. 5 star  service!!!\"}\n",
            "2024-02-08 06:41:09 [scrapy.core.scraper] DEBUG: Scraped from <200 https://www.yelp.com/biz/upland-rheumatology-center-upland-2?osq=doctors&start=10>\n",
            "{'reviewer': 'Wendy D.', 'rating': '1 star rating', 'date': 'Dec 8, 2021', 'content': \"Not only have they not responded to my post, they now won't refill my prescriptions- these are evil people; do not use this office\"}\n",
            "2024-02-08 06:41:09 [scrapy.core.scraper] DEBUG: Scraped from <200 https://www.yelp.com/biz/upland-rheumatology-center-upland-2?osq=doctors&start=10>\n",
            "{'reviewer': 'Wendy D.', 'rating': '1 star rating', 'date': 'Nov 29, 2021', 'content': \"My appointment today was scheduled from 4:20; my usual appointments were scheduled for 4;40 as I get off work at 4pm.  I had let the receptionist know that since I would be coming from work, there was no way I could be at the office at that time.  I am in so much pain that I tried to make it and even called the office to let them know that I would be there at 4;30.  When I got to the office I was told there were  patients before me and I would have to wait to see if there were  going to be any no-shows.  At the same time the lead came up front and told the receptionist that someone had called stating they would be late and she had no intention of being there until 7 and I chimed in and told her that person that called was me --she left the reception area.  I waited until 5:10 and was told by office manager or lead person that there were 2 other patients up until 5;40 and she wasn't sure if Dr Scholman would be willing to see me.  I asked for another appointment and was told I could not be seen until late January because they only know day to day what hours the doctor is working.  I have been coming to this office for years and this is the 3rd rheumatologist I have seen here.  When does the patient's health come last?  If you have rude individuals working for you then they should stay in another area -- not up front where the patients can hear her talking about them and furthermore she is n the wrong profession with this attitude.\"}\n",
            "2024-02-08 06:41:09 [scrapy.core.scraper] DEBUG: Scraped from <200 https://www.yelp.com/biz/upland-rheumatology-center-upland-2?osq=doctors&start=10>\n",
            "{'reviewer': 'Wendy D.', 'rating': '4 star rating', 'date': 'Aug 23, 2019', 'content': \"Want to thank Dr Kokhab for seeing and treating me several weeks ago as my pain was unbearable; I know I'm a difficult patient due to my work schedule and my not getting the necessary bloodwork done.  Once bloodwork was received his staff contacted me and called in the necessary prescription.  On my follow up appointment he explained what's needed for my condition that finally got through to me.  He answered all of my concerns and gave me recommendations that I plan on implementing ASAP.  Feeling better now and will be doing what's needed of me to deal with RA.\"}\n",
            "2024-02-08 06:41:09 [scrapy.core.scraper] DEBUG: Scraped from <200 https://www.yelp.com/biz/upland-rheumatology-center-upland-2?osq=doctors&start=10>\n",
            "{'reviewer': 'Melissa A.', 'rating': '1 star rating', 'date': 'Aug 31, 2021', 'content': 'If I could give this place a zero I would. Cynthia the manager was incredibly rude, disrespectful and inconsiderate. Will never be back here again. I do not recommend this office at all please ask your insurance to send you elsewhere. Seems like someone is unhappy and bored with their life to treat patients like this.'}\n",
            "2024-02-08 06:41:09 [scrapy.core.scraper] DEBUG: Scraped from <200 https://www.yelp.com/biz/upland-rheumatology-center-upland-2?osq=doctors&start=10>\n",
            "{'reviewer': 'Ann R.', 'rating': '5 star rating', 'date': 'Feb 22, 2022', 'content': \"Doctors are wonderful. I'm very happy with the service I've been receiving from them at this center. I didn't have any problem with the staff either. Found them professional and friendly. In general, I recommend this place.\"}\n",
            "2024-02-08 06:41:09 [scrapy.core.scraper] DEBUG: Scraped from <200 https://www.yelp.com/biz/upland-rheumatology-center-upland-2?osq=doctors>\n",
            "{'reviewer': 'Sera C.', 'rating': '3 star rating', 'date': 'Sep 26, 2022', 'content': '40 minute wait after checking in so heads up if you are scheduling in between meetings or on a break from work (like me!).Dr Schulman is very nice.Took my concerns seriously, was thorough in her exam and provided actionable next steps.I will provide an update as this journey continues.'}\n",
            "2024-02-08 06:41:09 [scrapy.core.scraper] DEBUG: Scraped from <200 https://www.yelp.com/biz/upland-rheumatology-center-upland-2?osq=doctors>\n",
            "{'reviewer': 'Esther L.', 'rating': '1 star rating', 'date': 'Sep 15, 2022', 'content': \"Ebrahim Sadeghi is the worst doctor that I've ever encountered in my life. He gaslights his patients, insults and belittles them and worst of all does not help the patient with the health issue at hand. He is one of those really lazy jaded don't-care no empathy doctors that should've never been a doctor. I am never returning to him ever again and I recommend that if you have a disease, don't go to him for help. I will be filing an official medical complaint with the board he shouldn't be practicing.\"}\n",
            "2024-02-08 06:41:09 [scrapy.core.scraper] DEBUG: Scraped from <200 https://www.yelp.com/biz/upland-rheumatology-center-upland-2?osq=doctors>\n",
            "{'reviewer': 'Shop 1.', 'rating': '1 star rating', 'date': 'Jul 14, 2022', 'content': 'If you want to be berated and treated like dirt by the staff, then definitely call this office. Phone etiquette is zero & the way the staff speaks to callers certainly reflects on the doctors who allow it.'}\n",
            "2024-02-08 06:41:09 [scrapy.core.scraper] DEBUG: Scraped from <200 https://www.yelp.com/biz/upland-rheumatology-center-upland-2?osq=doctors&start=10>\n",
            "{'reviewer': 'Christina U.', 'rating': '1 star rating', 'date': 'Dec 9, 2019', 'content': 'Cece the office manager is the most unprofessional person. I will be switching offices. Save the stress and go somewhere else!'}\n",
            "2024-02-08 06:41:09 [scrapy.core.scraper] DEBUG: Scraped from <200 https://www.yelp.com/biz/upland-rheumatology-center-upland-2?osq=doctors&start=10>\n",
            "{'reviewer': 'Rilee C.', 'rating': '1 star rating', 'date': 'Oct 23, 2020', 'content': 'I\\'ve been trying to get an appointment with a rheumatologist here for several weeks. I initially called in the middle of the day, got a really rude woman who wanted me, personally, to collect my files, even though I\\'d signed paperwork so it could be released to them upon their request, before she\\'d even put me in the appointment book.I had my files faxed over, called back not 15 minutes later, got put on hold while someone \"checks for my file\". I\\'m on hold so long, the hold system hangs up on me. I call back immediately, I get their voicemail; they\\'ve mysteriously closed in the middle of their stated business hours, while a patient is sitting on hold and they\\'re supposedly doing something for that patient. I wonder if it\\'s just that all lines are busy, so I call a few more times over the next hour; nothing.I called during business hours the next day, someone picked up and put me on hold, I waited several minutes, the phone\\'s hold system hung up on me, again, because I\\'d been on hold too long. I called back, and, again, middle of stated business hours, they were mysteriously closed. Again, tried to call several more times over the next hour; nothing.This happened several times, over the course of several days, with me leaving voicemails with my contact info whenever I got their voicemail box. No calls back, no voicemails for me, nothing.I *finally* got someone on the line the other day willing to actually get me an appointment; I asked (politely) what\\'s going on, as I\\'ve received *no contact whatsoever* from the office. I received a shirty comment about them calling and leaving me a voicemail ages ago (as I\\'m looking directly at my call logs ma\\'am; nothing from you guys!). I ask what number they were calling, as I\\'d continued leaving messages since the date they\\'d supposedly called me.Instead of calling the number I kept leaving, over and over again on my voicemails, they supposedly called a number that I haven\\'t left them at all, that was in my healthcare paperwork that had been faxed over. A number that at no point has been my primary contact number, and hasn\\'t been put in any of my paperwork in the last 7 months. My contact number I kept leaving in voicemails is literally in there in my gp contact info with no other phone number. The only way they\\'d have the old one is by going into my insurance info and bypassing *all my current information* to get to the old stuff. Ma\\'am, you didn\\'t leave a voicemail at that old number; that number *hasn\\'t been active* since the beginning of the pandemic. I\\'m pretty sure the voicemail for it doesn\\'t even work anymore; a distant relative tried calling not 2 days after the center supposedly called and it hadn\\'t even been re-allocated to another person yet and was completely out of service, with no ability to leave voicemails.I haven\\'t even had the chance to see a doctor yet, and this place is already pretty sus. I\\'m genuinely hoping actually seeing the doctor will change my mind about this place, and will update my review afterward.'}\n",
            "2024-02-08 06:41:09 [scrapy.core.scraper] DEBUG: Scraped from <200 https://www.yelp.com/biz/upland-rheumatology-center-upland-2?osq=doctors&start=10>\n",
            "{'reviewer': 'Sharyn H.', 'rating': '4 star rating', 'date': 'Mar 11, 2020', 'content': \"I accept the explanation given for the circumstances I encountered. That doesn't change my past impressions but it does leave room for new ones. Dr Kokhab is no longer running an urgent care and in the new office he has new personnel. I will be going back for follow up care.\"}\n",
            "2024-02-08 06:41:09 [scrapy.core.scraper] DEBUG: Scraped from <200 https://www.yelp.com/biz/upland-rheumatology-center-upland-2?osq=doctors&start=10>\n",
            "{'reviewer': 'Sharyn H.', 'rating': '3 star rating', 'date': 'Feb 24, 2020', 'content': \"I was referred to this office by my insurance and the name I was given is Dr. Kokhab. I have been going there for at least 3 years and have never seen Dr. Kokhab. I have been seen by 3 different doctors who were only at this practice for about a year each. When I asked when I would meet Dr. Kokhab I was told he didn't have appointments available. I have liked the doctors that I have seen but they disappear before I get to know them.  The latest one says he will be there for awhile but I am not sure I can expect him to stay. My insurance has sent me to two doctors, an optometrist and a dentist who don't have  appointments available so I have had to see whomever was available.  I expect to see the doctor whose name is on the approval form. I have left all of those after getting poor follow up care. This one is still a maybe.\"}\n",
            "2024-02-08 06:41:09 [scrapy.core.scraper] DEBUG: Scraped from <200 https://www.yelp.com/biz/upland-rheumatology-center-upland-2?osq=doctors&start=10>\n",
            "{'reviewer': 'Mina I.', 'rating': '5 star rating', 'date': 'Jun 15, 2021', 'content': \"I've been Dr. Najafabadi's patient for a couple years and have always been very pleased with the care and attention I've received from him. He's very knowledgeable, professional and caring. His staff are also courteous and professional. Great experience overall!\"}\n",
            "2024-02-08 06:41:09 [scrapy.core.scraper] DEBUG: Scraped from <200 https://www.yelp.com/biz/upland-rheumatology-center-upland-2?osq=doctors>\n",
            "{'reviewer': 'Maxine S.', 'rating': '1 star rating', 'date': 'Nov 23, 2021', 'content': \"Dr KOHKAB- help!!! This clinic is going down fast. Mary doesn't listen and is a very poor provider.She took me off my meds out of the blue, doesn't listen- overbooks and I was   rushed. This clinic is a mere shadow of what it used to be.\"}\n",
            "2024-02-08 06:41:09 [scrapy.core.scraper] DEBUG: Scraped from <200 https://www.yelp.com/biz/upland-rheumatology-center-upland-2?osq=doctors>\n",
            "{'reviewer': 'Margot S.', 'rating': '5 star rating', 'date': 'Feb 23, 2022', 'content': \"Dr. Sadeghi is an absolutely outstanding physician. He is extremely knowledgeable about rheumatological conditions and maintains an excellent bedside manner. At each visit he completes a thorough physical exam, checking for any new signs or symptoms of autoimmune disease. He answers all of my questions and concerns with patience and kindness. Dr. Sadeghi also encourages me to eat healthy, and try to get exercise. Of note, I had previously seen a very good physician at UCLA in the same specialty however, I chose Dr. Sadeghi as he addressed all of my concerns and has kept a close follow up schedule to ensure my condition does not deteriorate. Dr. Sadeghi's staff is always helpful and very professional. I am so grateful I found Upland Rheumatology!\"}\n",
            "2024-02-08 06:41:09 [scrapy.core.scraper] DEBUG: Scraped from <200 https://www.yelp.com/biz/upland-rheumatology-center-upland-2?osq=doctors>\n",
            "{'reviewer': 'Naomi L.', 'rating': '1 star rating', 'date': 'Oct 6, 2021', 'content': \"Good news and BAD news about this office. First,  the office overcharged me and my husband for our co-pays for several visits and it took  3 Months and too many phone  calls to get refunded. The office staff, primarily Cece are the rudest office personnel that I've ever come across. Very unhelpful and they just seem annoyed when they are speaking with you. Because of the previously mentioned issues and scheduling problems I asked for my records to be sent to my new Rheumatologist. Cece said to get the records myself from my primary doctor. My primary doctor has not received Any progress notes etc since 2019. That's the kind of customer service you get from that office and Cece.  Dr Schumann was fine. The Good news is that because of that horrible office I found a fantastic Rheumatologist that I love and love his staff. They are kind and professional. Nothing like This office. Don't go there.\"}\n",
            "2024-02-08 06:41:09 [scrapy.core.scraper] DEBUG: Scraped from <200 https://www.yelp.com/biz/upland-rheumatology-center-upland-2?osq=doctors>\n",
            "{'reviewer': 'Adriana L.', 'rating': '5 star rating', 'date': 'May 15, 2021', 'content': 'With the Covid-19 restrictions lifting I decided to come into the office to see a rheumatologist as my PCP recommend. I was seen by Dr. Stacey Schulman. Dr. Schulman has been a godsend! She listened to my concerns and symptoms. She was able to accurately diagnose me, and immediately start me on a plan. We are still working to find the right medication/dosage combination but I feel that I am in good hands. I have already noticed significant improvements. Thank you, Dr. Schulman.'}\n",
            "2024-02-08 06:41:09 [scrapy.core.scraper] DEBUG: Scraped from <200 https://www.yelp.com/biz/upland-rheumatology-center-upland-2?osq=doctors&start=10>\n",
            "{'reviewer': 'Lisa B.', 'rating': '5 star rating', 'date': 'Jul 18, 2018', 'content': \"For years I have been suffering from bad migraines and overall aches and pain.  Just a simple touch to my body would trigger agonizing pain. It wasn't until I started sharing my problems with other family members who have been dealing with similar issues that they suggested that I go see a rheumatologist.  Thank goodness that I took their advice and found Dr. K.  The first time that I met with Dr. K, he immediately sent me out for labwork. I scheduled a follow up exam with Dr. K to review my lab results and after a thorough in-office examination Dr. K was able to diagnose me.  Dr. K has put me on a course of treatment that has done wonders for my headaches and has also helped make my pain more tolerable.  Dr. K is very knowledgeable and caring.  He really takes time to listen and I never feel rushed.  Another thing that I really appreciate about Dr. K is that he knows how I feel about taking medication.  He doesn't try to push me into taking anything that I'm not comfortable with.  He has no problem explaining recommended medications and their side effects. In fact, he even writes the medications down for me before I leave so that I can do my own research and ponder over my decision for our next visit. If you find yourself in a similar situation like mine, I would highly recommend Dr. K.  He is absolutely wonderful!\"}\n",
            "2024-02-08 06:41:09 [scrapy.core.scraper] DEBUG: Scraped from <200 https://www.yelp.com/biz/upland-rheumatology-center-upland-2?osq=doctors&start=10>\n",
            "{'reviewer': 'Blanca C.', 'rating': '1 star rating', 'date': 'Mar 4, 2019', 'content': \"I needed shots of B12 and Toradol because I'm completely exhausted and in extreme pain and wanted to get in and simply get the shots and I was told no availability until April. Well my pain and exhaustion just comes with no warning. I'm going to have to look for another rheumy who can accommodate me. This is ridiculous.\"}\n",
            "2024-02-08 06:41:09 [scrapy.core.scraper] DEBUG: Scraped from <200 https://www.yelp.com/biz/upland-rheumatology-center-upland-2?osq=doctors>\n",
            "{'reviewer': 'Adriana L.', 'rating': '1 star rating', 'date': 'May 27, 2020', 'content': \"Worst experience ever. I was referred to Dr. Kokhab by my primary care physician. When I scheduled my appointment I was told that Dr. Kokhab was out on leave. I didn't want to wait, so I agreed to see the fill in doctor...bad idea. This doctor was very rude, showed ZERO empathy. I understand that he must be very busy but that does not give him the right to treat patients like that. Specialist visits are not cheap, and even with insurance you are left paying a significant amount. I did not get anything out of this visit, but I'm sure I will be receiving a bill from them in the near future.\"}\n",
            "2024-02-08 06:41:09 [scrapy.core.scraper] DEBUG: Scraped from <200 https://www.yelp.com/biz/upland-rheumatology-center-upland-2?osq=doctors>\n",
            "{'reviewer': 'Gilbert C.', 'rating': '1 star rating', 'date': 'Oct 16, 2020', 'content': \"Horrible Service! Tiffany and Karina are inconsiderate, rude and disrespectful! Don't go to this office. They cancel my wife medication because we didn't respond to the pharmacy on when we would be available to pick up our medication while we were on vacation. They didn't have have the right to cancel my wife prescription that was approved. They are asking her for her to go on for lab work. This medication doesn't require lab work. They don't know why they are doing. After speaking to the doctor today, he agreed with us that lab work is not required! They don't bother to call the doctor and they couldn't provide the name of the office manager who was on vacation or unavailable until 5 days later. Would not recommend the office whatsoever!\"}\n",
            "2024-02-08 06:41:09 [scrapy.core.scraper] DEBUG: Scraped from <200 https://www.yelp.com/biz/upland-rheumatology-center-upland-2?osq=doctors>\n",
            "{'reviewer': 'Fatima P.', 'rating': '1 star rating', 'date': 'Aug 31, 2021', 'content': 'DO NOT COME HERE! First of all I want to say professionalism is something that should be portrayed in every establishment of any sort. Cynthia \"the supposed manager\" made it very clear that professionalism is not valued here. She wreaked of alcohol and honestly seemed hung over. I would never support an establishment that allows this for their \"managers\" or any of their employees in general. When I arrived for my appointment she basically told me to F*ck off. Tell your insurance to send you elsewhere. NEVER AGAIN! Upland rheumatology center, do better...'}\n",
            "2024-02-08 06:41:09 [scrapy.core.engine] INFO: Closing spider (finished)\n",
            "2024-02-08 06:41:09 [scrapy.extensions.feedexport] INFO: Stored csv feed (52 items) in: reviews.csv\n",
            "2024-02-08 06:41:09 [scrapy.statscollectors] INFO: Dumping Scrapy stats:\n",
            "{'downloader/request_bytes': 1865,\n",
            " 'downloader/request_count': 6,\n",
            " 'downloader/request_method_count/GET': 6,\n",
            " 'downloader/response_bytes': 819224,\n",
            " 'downloader/response_count': 6,\n",
            " 'downloader/response_status_count/200': 5,\n",
            " 'downloader/response_status_count/301': 1,\n",
            " 'elapsed_time_seconds': 4.062218,\n",
            " 'feedexport/success_count/FileFeedStorage': 1,\n",
            " 'finish_reason': 'finished',\n",
            " 'finish_time': datetime.datetime(2024, 2, 8, 6, 41, 9, 701246, tzinfo=datetime.timezone.utc),\n",
            " 'httpcompression/response_bytes': 9562996,\n",
            " 'httpcompression/response_count': 5,\n",
            " 'item_scraped_count': 52,\n",
            " 'log_count/DEBUG': 63,\n",
            " 'log_count/INFO': 11,\n",
            " 'memusage/max': 124989440,\n",
            " 'memusage/startup': 124989440,\n",
            " 'response_received_count': 5,\n",
            " 'scheduler/dequeued': 6,\n",
            " 'scheduler/dequeued/memory': 6,\n",
            " 'scheduler/enqueued': 6,\n",
            " 'scheduler/enqueued/memory': 6,\n",
            " 'start_time': datetime.datetime(2024, 2, 8, 6, 41, 5, 639028, tzinfo=datetime.timezone.utc)}\n",
            "2024-02-08 06:41:09 [scrapy.core.engine] INFO: Spider closed (finished)\n"
          ]
        }
      ],
      "source": [
        "# Command to run the crawler\n",
        "!scrapy crawl yelpbolt -o reviews.csv"
      ]
    },
    {
      "cell_type": "markdown",
      "metadata": {
        "id": "6fr7YKmK1Q5H"
      },
      "source": [
        "Scrapy is made to give the number of reviews scraped in a feedexport \"INFO\", but this can also be checked with \"cat reviews.csv | wc -l\". Note the extra row because of column naming in csv files.\n",
        "\n",
        "52 rows of reviews for 48 reviewers"
      ]
    },
    {
      "cell_type": "code",
      "execution_count": null,
      "metadata": {
        "colab": {
          "base_uri": "https://localhost:8080/"
        },
        "id": "1HrXKmU515Bq",
        "outputId": "dedacfd7-2f04-4693-ba04-2ba302da25a8"
      },
      "outputs": [
        {
          "name": "stdout",
          "output_type": "stream",
          "text": [
            "53\n"
          ]
        }
      ],
      "source": [
        "!(cat reviews.csv | wc -l)"
      ]
    },
    {
      "cell_type": "markdown",
      "metadata": {
        "id": "tp2UPxNhXi65"
      },
      "source": [
        "## 3 Read csv File"
      ]
    },
    {
      "cell_type": "code",
      "execution_count": 4,
      "metadata": {
        "colab": {
          "base_uri": "https://localhost:8080/"
        },
        "id": "5AQwWsrgXwzH",
        "outputId": "e92e3251-a88b-4a8a-a3a5-0c63d0b4d6c8"
      },
      "outputs": [
        {
          "output_type": "stream",
          "name": "stdout",
          "text": [
            "reviews.csv  scrapy.cfg  \u001b[0m\u001b[01;34myelp_crawler\u001b[0m/\n"
          ]
        }
      ],
      "source": [
        "%ls"
      ]
    },
    {
      "cell_type": "code",
      "source": [
        "# Import to use csv\n",
        "import csv"
      ],
      "metadata": {
        "id": "juXJpSEX2p1I"
      },
      "execution_count": 6,
      "outputs": []
    },
    {
      "cell_type": "code",
      "execution_count": 37,
      "metadata": {
        "id": "qVPCPda8XyJK"
      },
      "outputs": [],
      "source": [
        "# Load your CSV data into 'reviews'\n",
        "with open('reviews.csv', 'r', encoding='utf-8') as file:\n",
        "    reader = csv.reader(file)\n",
        "    reviews = list(reader)"
      ]
    },
    {
      "cell_type": "code",
      "execution_count": null,
      "metadata": {
        "colab": {
          "base_uri": "https://localhost:8080/"
        },
        "id": "5mJsR2SfYRfY",
        "outputId": "30d2e535-ad14-4913-cdc8-8d41aa083632"
      },
      "outputs": [
        {
          "data": {
            "text/plain": [
              "['reviewer', 'rating', 'date', 'content']"
            ]
          },
          "execution_count": 42,
          "metadata": {},
          "output_type": "execute_result"
        }
      ],
      "source": [
        "reviews[0]"
      ]
    },
    {
      "cell_type": "code",
      "execution_count": null,
      "metadata": {
        "colab": {
          "base_uri": "https://localhost:8080/"
        },
        "id": "_JysXhDNYNbc",
        "outputId": "3faae922-b83e-46d9-d784-1b566f91311c"
      },
      "outputs": [
        {
          "data": {
            "text/plain": [
              "['ANGIE D.',\n",
              " '5 star rating',\n",
              " 'Jun 23, 2011',\n",
              " \"My husband is a patient of Dr. K and I have accompanied him on a couple of office visits. He was the only doctor who was able to quickly diagnose my husband's condition after countless visits to our PCP, other urgent care, and the ER. After beginning treatment the doctor called our home to check how my husband was doing. In addition to being a great doctor, he also has a wonderful staff. The staff is not only professional, but also very friendly, and helpful. Everyone at this office truly cares about the patients.\"]"
            ]
          },
          "execution_count": 43,
          "metadata": {},
          "output_type": "execute_result"
        }
      ],
      "source": [
        "reviews[1]"
      ]
    },
    {
      "cell_type": "code",
      "execution_count": null,
      "metadata": {
        "colab": {
          "base_uri": "https://localhost:8080/",
          "height": 91
        },
        "id": "bKDioauhDp2Q",
        "outputId": "9e9bd86f-1376-4ea9-f984-edf0502c2eca"
      },
      "outputs": [
        {
          "data": {
            "application/vnd.google.colaboratory.intrinsic+json": {
              "type": "string"
            },
            "text/plain": [
              "\"My husband is a patient of Dr. K and I have accompanied him on a couple of office visits. He was the only doctor who was able to quickly diagnose my husband's condition after countless visits to our PCP, other urgent care, and the ER. After beginning treatment the doctor called our home to check how my husband was doing. In addition to being a great doctor, he also has a wonderful staff. The staff is not only professional, but also very friendly, and helpful. Everyone at this office truly cares about the patients.\""
            ]
          },
          "execution_count": 44,
          "metadata": {},
          "output_type": "execute_result"
        }
      ],
      "source": [
        "reviews[1][3]"
      ]
    },
    {
      "cell_type": "code",
      "source": [
        "# Travel to crawler directory to be able to run commands\n",
        "%cd \"/content/drive/MyDrive/NLP/Lab1/yelp_crawler\""
      ],
      "metadata": {
        "colab": {
          "base_uri": "https://localhost:8080/"
        },
        "id": "C7vIcA2G0g4T",
        "outputId": "1ed0f3c1-4405-4628-b6c1-c44619876cf5"
      },
      "execution_count": 3,
      "outputs": [
        {
          "output_type": "stream",
          "name": "stdout",
          "text": [
            "/content/drive/MyDrive/NLP/Lab1/yelp_crawler\n"
          ]
        }
      ]
    },
    {
      "cell_type": "markdown",
      "metadata": {
        "id": "aAGHvJZFXaEz"
      },
      "source": [
        "## 4 Contraction Expansion"
      ]
    },
    {
      "cell_type": "markdown",
      "source": [
        "We are told to do this before tokenization"
      ],
      "metadata": {
        "id": "yM0wqaHH3nGo"
      }
    },
    {
      "cell_type": "markdown",
      "source": [
        "### 4.1 Setup"
      ],
      "metadata": {
        "id": "voVJ8ElC3Kga"
      }
    },
    {
      "cell_type": "code",
      "source": [
        "# Read reviews if needed\n",
        "with open('reviews.csv', 'r', encoding='utf-8') as file:\n",
        "    reader = csv.reader(file)\n",
        "    reviews = list(reader)"
      ],
      "metadata": {
        "id": "ZdP5FH3W3M6c"
      },
      "execution_count": 69,
      "outputs": []
    },
    {
      "cell_type": "code",
      "source": [
        "# Get contractions library\n",
        "!pip install contractions\n",
        "import contractions"
      ],
      "metadata": {
        "colab": {
          "base_uri": "https://localhost:8080/"
        },
        "id": "mJCTdWi53S2a",
        "outputId": "0a6fcf34-194c-4563-9c93-300ddafd177f"
      },
      "execution_count": 7,
      "outputs": [
        {
          "output_type": "stream",
          "name": "stdout",
          "text": [
            "Collecting contractions\n",
            "  Downloading contractions-0.1.73-py2.py3-none-any.whl (8.7 kB)\n",
            "Collecting textsearch>=0.0.21 (from contractions)\n",
            "  Downloading textsearch-0.0.24-py2.py3-none-any.whl (7.6 kB)\n",
            "Collecting anyascii (from textsearch>=0.0.21->contractions)\n",
            "  Downloading anyascii-0.3.2-py3-none-any.whl (289 kB)\n",
            "\u001b[2K     \u001b[90m━━━━━━━━━━━━━━━━━━━━━━━━━━━━━━━━━━━━━━━━\u001b[0m \u001b[32m289.9/289.9 kB\u001b[0m \u001b[31m9.0 MB/s\u001b[0m eta \u001b[36m0:00:00\u001b[0m\n",
            "\u001b[?25hCollecting pyahocorasick (from textsearch>=0.0.21->contractions)\n",
            "  Downloading pyahocorasick-2.0.0-cp310-cp310-manylinux_2_5_x86_64.manylinux1_x86_64.manylinux_2_12_x86_64.manylinux2010_x86_64.whl (110 kB)\n",
            "\u001b[2K     \u001b[90m━━━━━━━━━━━━━━━━━━━━━━━━━━━━━━━━━━━━━━━━\u001b[0m \u001b[32m110.8/110.8 kB\u001b[0m \u001b[31m13.3 MB/s\u001b[0m eta \u001b[36m0:00:00\u001b[0m\n",
            "\u001b[?25hInstalling collected packages: pyahocorasick, anyascii, textsearch, contractions\n",
            "Successfully installed anyascii-0.3.2 contractions-0.1.73 pyahocorasick-2.0.0 textsearch-0.0.24\n"
          ]
        }
      ]
    },
    {
      "cell_type": "markdown",
      "source": [
        "### 4.2 Testing"
      ],
      "metadata": {
        "id": "FLEg4wfl3X74"
      }
    },
    {
      "cell_type": "code",
      "execution_count": 30,
      "metadata": {
        "colab": {
          "base_uri": "https://localhost:8080/"
        },
        "id": "Gi9f2aABWP7T",
        "outputId": "d1f6ca6b-12dd-4bd7-aa3f-ae558739b1d2"
      },
      "outputs": [
        {
          "output_type": "stream",
          "name": "stdout",
          "text": [
            "['I', 'saw', 'Dr.', 'Kokhab', 'twice', 'at', 'the', 'urgent', 'care', 'in', 'Upland.', \"I've\", 'had', 'Fibromyalgia', 'for', '23', 'years', 'now', 'and', 'I', 'had', 'just', 'quit', 'Norco', '10-325', 'cold', 'turkey', 'after', 'taking', '5-6', 'pills', 'a', 'day', 'for', '5', 'years.', 'Dr', 'Kokhab', 'helped', 'me', 'by', 'giving', 'me', 'a', 'non', 'addictive', 'medication', 'similar', 'to', 'Tylenol', 'and', 'told', 'me', 'to', 'make', 'an', 'appt', 'at', 'his', 'office', 'location', 'to', 'treat', 'my', 'Fibro.', 'He', 'seems', 'like', 'a', 'very', 'good', 'Dr.', 'and', 'took', 'his', 'time', 'twice', 'to', 'answer', 'my', 'questions', 'and', 'help', 'me', 'in', 'any', 'way', 'he', 'can.', 'I', 'will', 'update', 'you', 'with', 'more', 'info', 'after', 'I', 'see', 'him', 'tomorrow', 'at', 'his', 'office.']\n"
          ]
        }
      ],
      "source": [
        "# Read one review to test contraction expansion on\n",
        "row = reviews[2]   # Review with a contraction is chosen\n",
        "review_text = row[3]\n",
        "review_text_words = review_text.split()\n",
        "print(review_text_words)"
      ]
    },
    {
      "cell_type": "code",
      "execution_count": 31,
      "metadata": {
        "colab": {
          "base_uri": "https://localhost:8080/"
        },
        "id": "mNQubNiRW2fJ",
        "outputId": "314b678d-1e29-4ef9-f0b9-35d0c0297de9"
      },
      "outputs": [
        {
          "output_type": "stream",
          "name": "stdout",
          "text": [
            "Original:  I saw Dr. Kokhab twice at the urgent care in Upland. I've had Fibromyalgia for 23 years now and I had just quit Norco 10-325 cold turkey after taking 5-6 pills a day for 5 years. Dr Kokhab helped me by giving me a non addictive medication similar to Tylenol and told me to make an appt at his office location to treat my Fibro. He seems like a very good Dr. and took his time twice to answer my questions and help me in any way he can. I will update you with more info after I see him tomorrow at his office.\n",
            "Expanded:  I saw Dr. Kokhab twice at the urgent care in Upland. I have had Fibromyalgia for 23 years now and I had just quit Norco 10-325 cold turkey after taking 5-6 pills a day for 5 years. Dr Kokhab helped me by giving me a non addictive medication similar to Tylenol and told me to make an appt at his office location to treat my Fibro. He seems like a very good Dr. and took his time twice to answer my questions and help me in any way he can. I will update you with more info after I see him tomorrow at his office.\n"
          ]
        }
      ],
      "source": [
        "# Instantiate empty word list\n",
        "expanded_words = []\n",
        "\n",
        "# Expand words and append\n",
        "for word in review_text_words:\n",
        "  expanded_words.append(contractions.fix(word))\n",
        "\n",
        "# Make clean string\n",
        "expanded_review_text = ' '.join(expanded_words)\n",
        "print('Original: ', review_text)\n",
        "print('Expanded: ', expanded_review_text)"
      ]
    },
    {
      "cell_type": "markdown",
      "metadata": {
        "id": "b0hQuSq_VJRc"
      },
      "source": [
        "### 4.3 Contraction Expansion"
      ]
    },
    {
      "cell_type": "code",
      "source": [
        "\"\"\"Do Contraction Expansion for All Reviews\"\"\"\n",
        "\n",
        "# Process each row, assuming the first row is headers\n",
        "for i, row in enumerate(reviews):\n",
        "    if i == 0:  # Add header row labels\n",
        "      row.extend([\"Contraction Expanded\"])\n",
        "      continue\n",
        "\n",
        "    # If not header row, continue to do tokenization and appending\n",
        "    review_text = row[3]  # Assuming the fourth column contains the review text\n",
        "    review_text_words = review_text.split()\n",
        "\n",
        "    # Expand words and append\n",
        "    expanded_words = []\n",
        "    for word in review_text_words:\n",
        "      expanded_words.append(contractions.fix(word))\n",
        "\n",
        "    # Make clean string\n",
        "    expanded_review_text = ' '.join(expanded_words)\n",
        "\n",
        "    # Append the expanded text as new elements in the row\n",
        "    row.extend([expanded_review_text])"
      ],
      "metadata": {
        "id": "nLHvTGhNwKrW"
      },
      "execution_count": 38,
      "outputs": []
    },
    {
      "cell_type": "code",
      "source": [
        "# Observe one row before and after expansion\n",
        "row = reviews[2]\n",
        "review_text = row[3]\n",
        "expanded_review_text_words = row[4]\n",
        "review_text_words = review_text.split()\n",
        "print(review_text_words)\n",
        "print('Original: ', review_text)\n",
        "print('Expanded: ', expanded_review_text_words)"
      ],
      "metadata": {
        "colab": {
          "base_uri": "https://localhost:8080/"
        },
        "id": "JZErv2CzxtQn",
        "outputId": "27d86547-85ea-4839-ecee-714b4c08d892"
      },
      "execution_count": 39,
      "outputs": [
        {
          "output_type": "stream",
          "name": "stdout",
          "text": [
            "['I', 'saw', 'Dr.', 'Kokhab', 'twice', 'at', 'the', 'urgent', 'care', 'in', 'Upland.', \"I've\", 'had', 'Fibromyalgia', 'for', '23', 'years', 'now', 'and', 'I', 'had', 'just', 'quit', 'Norco', '10-325', 'cold', 'turkey', 'after', 'taking', '5-6', 'pills', 'a', 'day', 'for', '5', 'years.', 'Dr', 'Kokhab', 'helped', 'me', 'by', 'giving', 'me', 'a', 'non', 'addictive', 'medication', 'similar', 'to', 'Tylenol', 'and', 'told', 'me', 'to', 'make', 'an', 'appt', 'at', 'his', 'office', 'location', 'to', 'treat', 'my', 'Fibro.', 'He', 'seems', 'like', 'a', 'very', 'good', 'Dr.', 'and', 'took', 'his', 'time', 'twice', 'to', 'answer', 'my', 'questions', 'and', 'help', 'me', 'in', 'any', 'way', 'he', 'can.', 'I', 'will', 'update', 'you', 'with', 'more', 'info', 'after', 'I', 'see', 'him', 'tomorrow', 'at', 'his', 'office.']\n",
            "Original:  I saw Dr. Kokhab twice at the urgent care in Upland. I've had Fibromyalgia for 23 years now and I had just quit Norco 10-325 cold turkey after taking 5-6 pills a day for 5 years. Dr Kokhab helped me by giving me a non addictive medication similar to Tylenol and told me to make an appt at his office location to treat my Fibro. He seems like a very good Dr. and took his time twice to answer my questions and help me in any way he can. I will update you with more info after I see him tomorrow at his office.\n",
            "Expanded:  I saw Dr. Kokhab twice at the urgent care in Upland. I have had Fibromyalgia for 23 years now and I had just quit Norco 10-325 cold turkey after taking 5-6 pills a day for 5 years. Dr Kokhab helped me by giving me a non addictive medication similar to Tylenol and told me to make an appt at his office location to treat my Fibro. He seems like a very good Dr. and took his time twice to answer my questions and help me in any way he can. I will update you with more info after I see him tomorrow at his office.\n"
          ]
        }
      ]
    },
    {
      "cell_type": "markdown",
      "source": [
        "## 5 Tokenization"
      ],
      "metadata": {
        "id": "xZXiJdVB3qr8"
      }
    },
    {
      "cell_type": "markdown",
      "source": [
        "### 5.1 Setup"
      ],
      "metadata": {
        "id": "xMRAywIk37gp"
      }
    },
    {
      "cell_type": "code",
      "source": [
        "# Do necessary preparation... importing what's needed and creating an instance\n",
        "# of the Treebank tokenizer class\n",
        "\n",
        "# Imports\n",
        "import nltk\n",
        "from nltk.tokenize import(sent_tokenize,\n",
        "                          word_tokenize,\n",
        "                          TreebankWordTokenizer,\n",
        "                          wordpunct_tokenize)\n",
        "\n",
        "# Make sure punkt is downloaded\n",
        "nltk.download('punkt')\n",
        "\n",
        "# Instantiate treebank tokenizer\n",
        "treebank = TreebankWordTokenizer()"
      ],
      "metadata": {
        "colab": {
          "base_uri": "https://localhost:8080/"
        },
        "id": "RWWrShlv4AQ1",
        "outputId": "38f23ace-89f9-430c-e959-ae26e4abd1b5"
      },
      "execution_count": 10,
      "outputs": [
        {
          "output_type": "stream",
          "name": "stderr",
          "text": [
            "[nltk_data] Downloading package punkt to /root/nltk_data...\n",
            "[nltk_data]   Unzipping tokenizers/punkt.zip.\n"
          ]
        }
      ]
    },
    {
      "cell_type": "markdown",
      "metadata": {
        "id": "GmlMX9wvYtge"
      },
      "source": [
        "### 5.2 Testing"
      ]
    },
    {
      "cell_type": "code",
      "source": [
        "# Make copy to test with\n",
        "import copy\n",
        "\n",
        "# Deep copy example\n",
        "reviews_copy = copy.deepcopy(reviews)"
      ],
      "metadata": {
        "id": "USmKMRA64qdi"
      },
      "execution_count": 76,
      "outputs": []
    },
    {
      "cell_type": "code",
      "execution_count": 79,
      "metadata": {
        "colab": {
          "base_uri": "https://localhost:8080/"
        },
        "id": "l1KrqJrnHI6Q",
        "outputId": "0d122a58-6926-4c89-9046-3cd010a778a2"
      },
      "outputs": [
        {
          "output_type": "stream",
          "name": "stdout",
          "text": [
            "['Sara C.', '5 star rating', 'Apr 27, 2011', \"I saw Dr. Kokhab twice at the urgent care in Upland. I've had Fibromyalgia for 23 years now and I had just quit Norco 10-325 cold turkey after taking 5-6 pills a day for 5 years. Dr Kokhab helped me by giving me a non addictive medication similar to Tylenol and told me to make an appt at his office location to treat my Fibro. He seems like a very good Dr. and took his time twice to answer my questions and help me in any way he can. I will update you with more info after I see him tomorrow at his office.\", 'I saw Dr. Kokhab twice at the urgent care in Upland. I have had Fibromyalgia for 23 years now and I had just quit Norco 10-325 cold turkey after taking 5-6 pills a day for 5 years. Dr Kokhab helped me by giving me a non addictive medication similar to Tylenol and told me to make an appt at his office location to treat my Fibro. He seems like a very good Dr. and took his time twice to answer my questions and help me in any way he can. I will update you with more info after I see him tomorrow at his office.']\n",
            "I saw Dr. Kokhab twice at the urgent care in Upland. I've had Fibromyalgia for 23 years now and I had just quit Norco 10-325 cold turkey after taking 5-6 pills a day for 5 years. Dr Kokhab helped me by giving me a non addictive medication similar to Tylenol and told me to make an appt at his office location to treat my Fibro. He seems like a very good Dr. and took his time twice to answer my questions and help me in any way he can. I will update you with more info after I see him tomorrow at his office.\n",
            "['I saw Dr. Kokhab twice at the urgent care in Upland.', \"I've had Fibromyalgia for 23 years now and I had just quit Norco 10-325 cold turkey after taking 5-6 pills a day for 5 years.\", 'Dr Kokhab helped me by giving me a non addictive medication similar to Tylenol and told me to make an appt at his office location to treat my Fibro.', 'He seems like a very good Dr. and took his time twice to answer my questions and help me in any way he can.', 'I will update you with more info after I see him tomorrow at his office.']\n",
            "['I', 'saw', 'Dr.', 'Kokhab', 'twice', 'at', 'the', 'urgent', 'care', 'in', 'Upland', '.', 'I', \"'ve\", 'had', 'Fibromyalgia', 'for', '23', 'years', 'now', 'and', 'I', 'had', 'just', 'quit', 'Norco', '10-325', 'cold', 'turkey', 'after', 'taking', '5-6', 'pills', 'a', 'day', 'for', '5', 'years', '.', 'Dr', 'Kokhab', 'helped', 'me', 'by', 'giving', 'me', 'a', 'non', 'addictive', 'medication', 'similar', 'to', 'Tylenol', 'and', 'told', 'me', 'to', 'make', 'an', 'appt', 'at', 'his', 'office', 'location', 'to', 'treat', 'my', 'Fibro', '.', 'He', 'seems', 'like', 'a', 'very', 'good', 'Dr.', 'and', 'took', 'his', 'time', 'twice', 'to', 'answer', 'my', 'questions', 'and', 'help', 'me', 'in', 'any', 'way', 'he', 'can', '.', 'I', 'will', 'update', 'you', 'with', 'more', 'info', 'after', 'I', 'see', 'him', 'tomorrow', 'at', 'his', 'office', '.']\n",
            "['I', 'saw', 'Dr.', 'Kokhab', 'twice', 'at', 'the', 'urgent', 'care', 'in', 'Upland.', 'I', \"'ve\", 'had', 'Fibromyalgia', 'for', '23', 'years', 'now', 'and', 'I', 'had', 'just', 'quit', 'Norco', '10-325', 'cold', 'turkey', 'after', 'taking', '5-6', 'pills', 'a', 'day', 'for', '5', 'years.', 'Dr', 'Kokhab', 'helped', 'me', 'by', 'giving', 'me', 'a', 'non', 'addictive', 'medication', 'similar', 'to', 'Tylenol', 'and', 'told', 'me', 'to', 'make', 'an', 'appt', 'at', 'his', 'office', 'location', 'to', 'treat', 'my', 'Fibro.', 'He', 'seems', 'like', 'a', 'very', 'good', 'Dr.', 'and', 'took', 'his', 'time', 'twice', 'to', 'answer', 'my', 'questions', 'and', 'help', 'me', 'in', 'any', 'way', 'he', 'can.', 'I', 'will', 'update', 'you', 'with', 'more', 'info', 'after', 'I', 'see', 'him', 'tomorrow', 'at', 'his', 'office', '.']\n",
            "['I', 'saw', 'Dr', '.', 'Kokhab', 'twice', 'at', 'the', 'urgent', 'care', 'in', 'Upland', '.', 'I', \"'\", 've', 'had', 'Fibromyalgia', 'for', '23', 'years', 'now', 'and', 'I', 'had', 'just', 'quit', 'Norco', '10', '-', '325', 'cold', 'turkey', 'after', 'taking', '5', '-', '6', 'pills', 'a', 'day', 'for', '5', 'years', '.', 'Dr', 'Kokhab', 'helped', 'me', 'by', 'giving', 'me', 'a', 'non', 'addictive', 'medication', 'similar', 'to', 'Tylenol', 'and', 'told', 'me', 'to', 'make', 'an', 'appt', 'at', 'his', 'office', 'location', 'to', 'treat', 'my', 'Fibro', '.', 'He', 'seems', 'like', 'a', 'very', 'good', 'Dr', '.', 'and', 'took', 'his', 'time', 'twice', 'to', 'answer', 'my', 'questions', 'and', 'help', 'me', 'in', 'any', 'way', 'he', 'can', '.', 'I', 'will', 'update', 'you', 'with', 'more', 'info', 'after', 'I', 'see', 'him', 'tomorrow', 'at', 'his', 'office', '.']\n",
            "Sara C.\n",
            "5 star rating\n",
            "Apr 27, 2011\n",
            "I saw Dr. Kokhab twice at the urgent care in Upland. I've had Fibromyalgia for 23 years now and I had just quit Norco 10-325 cold turkey after taking 5-6 pills a day for 5 years. Dr Kokhab helped me by giving me a non addictive medication similar to Tylenol and told me to make an appt at his office location to treat my Fibro. He seems like a very good Dr. and took his time twice to answer my questions and help me in any way he can. I will update you with more info after I see him tomorrow at his office.\n",
            "I saw Dr. Kokhab twice at the urgent care in Upland. I have had Fibromyalgia for 23 years now and I had just quit Norco 10-325 cold turkey after taking 5-6 pills a day for 5 years. Dr Kokhab helped me by giving me a non addictive medication similar to Tylenol and told me to make an appt at his office location to treat my Fibro. He seems like a very good Dr. and took his time twice to answer my questions and help me in any way he can. I will update you with more info after I see him tomorrow at his office.\n",
            "['I saw Dr. Kokhab twice at the urgent care in Upland.', \"I've had Fibromyalgia for 23 years now and I had just quit Norco 10-325 cold turkey after taking 5-6 pills a day for 5 years.\", 'Dr Kokhab helped me by giving me a non addictive medication similar to Tylenol and told me to make an appt at his office location to treat my Fibro.', 'He seems like a very good Dr. and took his time twice to answer my questions and help me in any way he can.', 'I will update you with more info after I see him tomorrow at his office.']\n",
            "['I', 'saw', 'Dr.', 'Kokhab', 'twice', 'at', 'the', 'urgent', 'care', 'in', 'Upland', '.', 'I', \"'ve\", 'had', 'Fibromyalgia', 'for', '23', 'years', 'now', 'and', 'I', 'had', 'just', 'quit', 'Norco', '10-325', 'cold', 'turkey', 'after', 'taking', '5-6', 'pills', 'a', 'day', 'for', '5', 'years', '.', 'Dr', 'Kokhab', 'helped', 'me', 'by', 'giving', 'me', 'a', 'non', 'addictive', 'medication', 'similar', 'to', 'Tylenol', 'and', 'told', 'me', 'to', 'make', 'an', 'appt', 'at', 'his', 'office', 'location', 'to', 'treat', 'my', 'Fibro', '.', 'He', 'seems', 'like', 'a', 'very', 'good', 'Dr.', 'and', 'took', 'his', 'time', 'twice', 'to', 'answer', 'my', 'questions', 'and', 'help', 'me', 'in', 'any', 'way', 'he', 'can', '.', 'I', 'will', 'update', 'you', 'with', 'more', 'info', 'after', 'I', 'see', 'him', 'tomorrow', 'at', 'his', 'office', '.']\n",
            "['I', 'saw', 'Dr.', 'Kokhab', 'twice', 'at', 'the', 'urgent', 'care', 'in', 'Upland.', 'I', \"'ve\", 'had', 'Fibromyalgia', 'for', '23', 'years', 'now', 'and', 'I', 'had', 'just', 'quit', 'Norco', '10-325', 'cold', 'turkey', 'after', 'taking', '5-6', 'pills', 'a', 'day', 'for', '5', 'years.', 'Dr', 'Kokhab', 'helped', 'me', 'by', 'giving', 'me', 'a', 'non', 'addictive', 'medication', 'similar', 'to', 'Tylenol', 'and', 'told', 'me', 'to', 'make', 'an', 'appt', 'at', 'his', 'office', 'location', 'to', 'treat', 'my', 'Fibro.', 'He', 'seems', 'like', 'a', 'very', 'good', 'Dr.', 'and', 'took', 'his', 'time', 'twice', 'to', 'answer', 'my', 'questions', 'and', 'help', 'me', 'in', 'any', 'way', 'he', 'can.', 'I', 'will', 'update', 'you', 'with', 'more', 'info', 'after', 'I', 'see', 'him', 'tomorrow', 'at', 'his', 'office', '.']\n",
            "['I', 'saw', 'Dr', '.', 'Kokhab', 'twice', 'at', 'the', 'urgent', 'care', 'in', 'Upland', '.', 'I', \"'\", 've', 'had', 'Fibromyalgia', 'for', '23', 'years', 'now', 'and', 'I', 'had', 'just', 'quit', 'Norco', '10', '-', '325', 'cold', 'turkey', 'after', 'taking', '5', '-', '6', 'pills', 'a', 'day', 'for', '5', 'years', '.', 'Dr', 'Kokhab', 'helped', 'me', 'by', 'giving', 'me', 'a', 'non', 'addictive', 'medication', 'similar', 'to', 'Tylenol', 'and', 'told', 'me', 'to', 'make', 'an', 'appt', 'at', 'his', 'office', 'location', 'to', 'treat', 'my', 'Fibro', '.', 'He', 'seems', 'like', 'a', 'very', 'good', 'Dr', '.', 'and', 'took', 'his', 'time', 'twice', 'to', 'answer', 'my', 'questions', 'and', 'help', 'me', 'in', 'any', 'way', 'he', 'can', '.', 'I', 'will', 'update', 'you', 'with', 'more', 'info', 'after', 'I', 'see', 'him', 'tomorrow', 'at', 'his', 'office', '.']\n"
          ]
        }
      ],
      "source": [
        "\"\"\"Test out the tokenization on just one row using all tokenizers\"\"\"\n",
        "\n",
        "# Instantiate columns to later be appended to data\n",
        "sent_tokenized_rows = []\n",
        "word_tokenized_rows = []\n",
        "treebank_tokenized_rows = []\n",
        "wordpunct_tokenized_rows = []\n",
        "\n",
        "# For loop for just one row\n",
        "for i in [2]:   # Make sure to skip the header row\n",
        "  # Look at whole row\n",
        "  row = reviews_copy[i]\n",
        "  print(row)\n",
        "\n",
        "  # Look at review in particular\n",
        "  review_text = row[3]\n",
        "  print(review_text)\n",
        "\n",
        "  # Tokenize\n",
        "  sent_tokens = sent_tokenize(review_text)\n",
        "  word_tokens = word_tokenize(review_text)\n",
        "  treebank_tokens = treebank.tokenize(review_text)\n",
        "  wordpunct_tokens = wordpunct_tokenize(review_text)\n",
        "\n",
        "  # Look at tokenized\n",
        "  print(sent_tokens)\n",
        "  print(word_tokens)\n",
        "  print(treebank_tokens)\n",
        "  print(wordpunct_tokens)\n",
        "\n",
        "  # Append the tokenized data to the respective lists\n",
        "  sent_tokenized_rows.append(sent_tokens)\n",
        "  word_tokenized_rows.append(word_tokens)\n",
        "  treebank_tokenized_rows.append(treebank_tokens)\n",
        "  wordpunct_tokenized_rows.append(wordpunct_tokens)\n",
        "\n",
        "  # Extend row to include the various tokenizations\n",
        "  row.extend([sent_tokens, word_tokens, treebank_tokens, wordpunct_tokens])\n",
        "\n",
        "  # Check components of row\n",
        "  for i in range(len(row)):\n",
        "    print(row[i])"
      ]
    },
    {
      "cell_type": "markdown",
      "metadata": {
        "id": "yRWjzeRlVRq2"
      },
      "source": [
        "### 5.3 Tokenization"
      ]
    },
    {
      "cell_type": "code",
      "execution_count": 40,
      "metadata": {
        "id": "-pR4ph6PMgTt",
        "colab": {
          "base_uri": "https://localhost:8080/"
        },
        "outputId": "9f11dc8e-a99d-4125-9155-8278ef48fea6"
      },
      "outputs": [
        {
          "output_type": "stream",
          "name": "stderr",
          "text": [
            "[nltk_data] Downloading package punkt to /root/nltk_data...\n",
            "[nltk_data]   Package punkt is already up-to-date!\n"
          ]
        }
      ],
      "source": [
        "\"\"\"Use one tokenization on all reviews. I choose the word_tokenizer\"\"\"\n",
        "\n",
        "# Imports\n",
        "import nltk\n",
        "from nltk.tokenize import(word_tokenize)\n",
        "# Make sure punkt is downloaded\n",
        "nltk.download('punkt')\n",
        "\n",
        "# Instantiate columns to later be appended to data\n",
        "word_tokenized_rows = []\n",
        "\n",
        "# Process each row, assuming the first row is headers\n",
        "for i, row in enumerate(reviews):\n",
        "    if i == 0:  # Add header row labels\n",
        "      row.extend([\"Tokenized\"])\n",
        "      continue\n",
        "\n",
        "    # If not header row, continue to do tokenization and appending\n",
        "    review_text = row[4]\n",
        "\n",
        "    # Tokenize the review text\n",
        "    word_tokens = word_tokenize(review_text)\n",
        "\n",
        "    # Append the tokenized text as new elements in the row\n",
        "    row.append(word_tokens)"
      ]
    },
    {
      "cell_type": "code",
      "execution_count": 41,
      "metadata": {
        "colab": {
          "base_uri": "https://localhost:8080/"
        },
        "id": "rJoa_uxWYaIW",
        "outputId": "be4ce411-586c-4d98-e4b7-92247b4aabb6"
      },
      "outputs": [
        {
          "output_type": "stream",
          "name": "stdout",
          "text": [
            "reviewer\n",
            "rating\n",
            "date\n",
            "content\n",
            "Contraction Expanded\n",
            "Tokenized\n",
            "-------------------------------\n",
            "Sara C.\n",
            "5 star rating\n",
            "Apr 27, 2011\n",
            "I saw Dr. Kokhab twice at the urgent care in Upland. I've had Fibromyalgia for 23 years now and I had just quit Norco 10-325 cold turkey after taking 5-6 pills a day for 5 years. Dr Kokhab helped me by giving me a non addictive medication similar to Tylenol and told me to make an appt at his office location to treat my Fibro. He seems like a very good Dr. and took his time twice to answer my questions and help me in any way he can. I will update you with more info after I see him tomorrow at his office.\n",
            "I saw Dr. Kokhab twice at the urgent care in Upland. I have had Fibromyalgia for 23 years now and I had just quit Norco 10-325 cold turkey after taking 5-6 pills a day for 5 years. Dr Kokhab helped me by giving me a non addictive medication similar to Tylenol and told me to make an appt at his office location to treat my Fibro. He seems like a very good Dr. and took his time twice to answer my questions and help me in any way he can. I will update you with more info after I see him tomorrow at his office.\n",
            "['I', 'saw', 'Dr.', 'Kokhab', 'twice', 'at', 'the', 'urgent', 'care', 'in', 'Upland', '.', 'I', 'have', 'had', 'Fibromyalgia', 'for', '23', 'years', 'now', 'and', 'I', 'had', 'just', 'quit', 'Norco', '10-325', 'cold', 'turkey', 'after', 'taking', '5-6', 'pills', 'a', 'day', 'for', '5', 'years', '.', 'Dr', 'Kokhab', 'helped', 'me', 'by', 'giving', 'me', 'a', 'non', 'addictive', 'medication', 'similar', 'to', 'Tylenol', 'and', 'told', 'me', 'to', 'make', 'an', 'appt', 'at', 'his', 'office', 'location', 'to', 'treat', 'my', 'Fibro', '.', 'He', 'seems', 'like', 'a', 'very', 'good', 'Dr.', 'and', 'took', 'his', 'time', 'twice', 'to', 'answer', 'my', 'questions', 'and', 'help', 'me', 'in', 'any', 'way', 'he', 'can', '.', 'I', 'will', 'update', 'you', 'with', 'more', 'info', 'after', 'I', 'see', 'him', 'tomorrow', 'at', 'his', 'office', '.']\n",
            "-------------------------------\n"
          ]
        }
      ],
      "source": [
        "# Check rows\n",
        "rows = [reviews[0], reviews[2]]\n",
        "for row in rows:\n",
        "  for i in range(len(row)):\n",
        "    print(row[i])\n",
        "  print(\"-------------------------------\")"
      ]
    },
    {
      "cell_type": "markdown",
      "source": [
        "## 6 Spellcheck"
      ],
      "metadata": {
        "id": "3VGEXt4czudA"
      }
    },
    {
      "cell_type": "markdown",
      "source": [
        "### 6.1 Setup"
      ],
      "metadata": {
        "id": "DdNNP9lp7-nY"
      }
    },
    {
      "cell_type": "code",
      "source": [
        "!pip install pyspellchecker"
      ],
      "metadata": {
        "colab": {
          "base_uri": "https://localhost:8080/"
        },
        "id": "WCv10Zm50E_S",
        "outputId": "48f82b11-dc27-4008-bfa1-9a96821d02e0"
      },
      "execution_count": 13,
      "outputs": [
        {
          "output_type": "stream",
          "name": "stdout",
          "text": [
            "Collecting pyspellchecker\n",
            "  Downloading pyspellchecker-0.8.1-py3-none-any.whl (6.8 MB)\n",
            "\u001b[2K     \u001b[90m━━━━━━━━━━━━━━━━━━━━━━━━━━━━━━━━━━━━━━━━\u001b[0m \u001b[32m6.8/6.8 MB\u001b[0m \u001b[31m48.2 MB/s\u001b[0m eta \u001b[36m0:00:00\u001b[0m\n",
            "\u001b[?25hInstalling collected packages: pyspellchecker\n",
            "Successfully installed pyspellchecker-0.8.1\n"
          ]
        }
      ]
    },
    {
      "cell_type": "code",
      "source": [
        "# Import and instantiate spellchecker class\n",
        "from spellchecker import SpellChecker\n",
        "spellchecker = SpellChecker()"
      ],
      "metadata": {
        "id": "Qgcodx7a8Woo"
      },
      "execution_count": 14,
      "outputs": []
    },
    {
      "cell_type": "markdown",
      "source": [
        "### 6.2 Testing"
      ],
      "metadata": {
        "id": "ZAer3lOG8FPu"
      }
    },
    {
      "cell_type": "code",
      "source": [
        "# Take a single tokenized review\n",
        "review = reviews[2]\n",
        "tokenized_review_text = review[5]\n",
        "print(tokenized_review_text)"
      ],
      "metadata": {
        "colab": {
          "base_uri": "https://localhost:8080/"
        },
        "id": "JyZYBV_Y0yOi",
        "outputId": "58316850-ce28-4c26-a756-059a337047b0"
      },
      "execution_count": 93,
      "outputs": [
        {
          "output_type": "stream",
          "name": "stdout",
          "text": [
            "['I', 'saw', 'Dr.', 'Kokhab', 'twice', 'at', 'the', 'urgent', 'care', 'in', 'Upland', '.', 'I', 'have', 'had', 'Fibromyalgia', 'for', '23', 'years', 'now', 'and', 'I', 'had', 'just', 'quit', 'Norco', '10-325', 'cold', 'turkey', 'after', 'taking', '5-6', 'pills', 'a', 'day', 'for', '5', 'years', '.', 'Dr', 'Kokhab', 'helped', 'me', 'by', 'giving', 'me', 'a', 'non', 'addictive', 'medication', 'similar', 'to', 'Tylenol', 'and', 'told', 'me', 'to', 'make', 'an', 'appt', 'at', 'his', 'office', 'location', 'to', 'treat', 'my', 'Fibro', '.', 'He', 'seems', 'like', 'a', 'very', 'good', 'Dr.', 'and', 'took', 'his', 'time', 'twice', 'to', 'answer', 'my', 'questions', 'and', 'help', 'me', 'in', 'any', 'way', 'he', 'can', '.', 'I', 'will', 'update', 'you', 'with', 'more', 'info', 'after', 'I', 'see', 'him', 'tomorrow', 'at', 'his', 'office', '.']\n"
          ]
        }
      ]
    },
    {
      "cell_type": "code",
      "source": [
        "# Observe the unrecognized words (expected to be misspelled)\n",
        "misspelled = spellchecker.unknown(tokenized_review_text)\n",
        "print(misspelled)"
      ],
      "metadata": {
        "colab": {
          "base_uri": "https://localhost:8080/"
        },
        "id": "YUDfbZZl1RMR",
        "outputId": "5f16593b-5d0a-42a2-cf7d-2f381384563b"
      },
      "execution_count": 94,
      "outputs": [
        {
          "output_type": "stream",
          "name": "stdout",
          "text": [
            "{'kokhab', 'norco', 'dr.', 'dr', 'fibromyalgia', '5-6', 'appt', '10-325', 'fibro', 'tylenol'}\n"
          ]
        }
      ]
    },
    {
      "cell_type": "markdown",
      "source": [
        "### 6.3 Misspelled Word Collection"
      ],
      "metadata": {
        "id": "XbnHahj3BLa0"
      }
    },
    {
      "cell_type": "markdown",
      "source": [
        "**All Misspellings**"
      ],
      "metadata": {
        "id": "eUF3kNdnD6f9"
      }
    },
    {
      "cell_type": "code",
      "source": [
        "misspelled_all = set()  # Using a set to automatically ensure uniqueness\n",
        "\n",
        "# Iterate over the rows, adding the expected misspelled words\n",
        "for i, row in enumerate(reviews):\n",
        "  if i == 0:\n",
        "    continue  # Skip the header row\n",
        "  tokenized_review_text = row[5]  # tokenized row is the 6'th column\n",
        "  review_misspelled = spellchecker.unknown(tokenized_review_text)\n",
        "  misspelled_all.update(review_misspelled)  # Use 'update' to add items from the set"
      ],
      "metadata": {
        "id": "-rjzMoQc9Qfb"
      },
      "execution_count": 20,
      "outputs": []
    },
    {
      "cell_type": "code",
      "source": [
        "print(misspelled_all)"
      ],
      "metadata": {
        "colab": {
          "base_uri": "https://localhost:8080/"
        },
        "id": "oR-5Igc7DC0y",
        "outputId": "08414492-f828-4950-937a-01884e190780"
      },
      "execution_count": 22,
      "outputs": [
        {
          "output_type": "stream",
          "name": "stdout",
          "text": [
            "{'patients.this', 'me.instead', 'comp', 'ra', 'nice.took', 'schumann', 'doctor.highly', 'ck', 'najafabadi', '...', 'labwork', 'cece', '4:20', '....', 'pcp', 'stacey', 'knowledgable', 'usc', 'workmans', 'by.i', 'md', 'fibromyalgia', 'norco', 'stevens', '5-6', 'would=', 'fibro', '10-325', 're-allocated', 'not-care', 'rheumatologist', 'dr', 'khaleghi', 'in-office', '--', 'jparedes', 'dr.', 'lol', 'gi', 'tylenol', 'nothing.this', 'listen-', 'appt', '3rd', 'scholman', '..', '50/50', 'specalist', 'pulmonologist', 'schulman', 'arthritis.after', 'hope.thankyou', 'chrons', 'herself.mistreated', 'psoriatic', 'steps.i', 'ucla', 'mary.the', 'voicemail', '``', 'knowledge.for', 'provider.she', 'rheumatological', 'kokhab', 'omg', 'out.stay', 'no-shows', 'gp', 'prednisone', 'televisits', 'co-pays', \"''\", 'etc', '.dr', 'rheumatology', '.....', 'ebrahim', 'sus', 'kohkab-', 'ent', 'tiffany', 'chicago', 'meds', '4pm', 'cynthia', 'gloria', 'voicemails', 'nothing.i', 'zuniga', 'voicemails.i', 'react.i', 'january', 'book.i', 'k.', 'youhe', 'amanda', 'covid-19', 'x-rays', '5:10', 'medication/dosage', 'april', 'marjan', 'toradol', 'sadeghi', 'vm', 'dr.kokhab', 'henoch-schonlein', 'bloodwork', 'karina', 'm.d', 'prescriptions-', 'b12', 'mary', 'condition.i', \"'s\"}\n"
          ]
        }
      ]
    },
    {
      "cell_type": "code",
      "source": [
        "# Writing misspelled words to a .txt file\n",
        "with open('misspelled_all.txt', 'w') as file:\n",
        "    for word in misspelled_all:\n",
        "        file.write(f\"{word}\\n\")"
      ],
      "metadata": {
        "id": "nPIQV8OqC-F1"
      },
      "execution_count": 24,
      "outputs": []
    },
    {
      "cell_type": "markdown",
      "source": [
        "**Misspellings By Review**"
      ],
      "metadata": {
        "id": "Ezz8ZZEZD92o"
      }
    },
    {
      "cell_type": "code",
      "source": [
        "# Dictionary to hold misspelled words for each review\n",
        "misspelled_by_review = {}\n",
        "\n",
        "# Iterate over rows\n",
        "for i, row in enumerate(reviews):\n",
        "  if i == 0:\n",
        "    continue  # Skip the header row\n",
        "\n",
        "  # Find misspelled words\n",
        "  tokenized_review_text = row[5]\n",
        "  misspelled = spellchecker.unknown(tokenized_review_text)\n",
        "\n",
        "  # Store the misspelled words in the dictionary\n",
        "  misspelled_by_review[f\"Review {i}\"] = list(misspelled)\n",
        "\n",
        "# Write the collected misspelled words to a file\n",
        "with open('misspelled_by_review.txt', 'w') as file:\n",
        "    for review, words in misspelled_by_review.items():\n",
        "        file.write(f\"{review}:\")\n",
        "        # Join the words with a comma and a space, and write them\n",
        "        file.write(\", \".join(words))\n",
        "        file.write(\"\\n\")  # New line after each review"
      ],
      "metadata": {
        "id": "IU0-CyUoEW7I"
      },
      "execution_count": 25,
      "outputs": []
    },
    {
      "cell_type": "code",
      "source": [
        "print(misspelled_by_review[\"Review 1\"])"
      ],
      "metadata": {
        "colab": {
          "base_uri": "https://localhost:8080/"
        },
        "id": "ED3qp99YUF6W",
        "outputId": "d2c125bf-9383-4ce5-ca9a-bd47f33818eb"
      },
      "execution_count": 26,
      "outputs": [
        {
          "output_type": "stream",
          "name": "stdout",
          "text": [
            "['dr.', 'pcp', \"'s\"]\n"
          ]
        }
      ]
    },
    {
      "cell_type": "markdown",
      "source": [
        "## 7. Text Normalization"
      ],
      "metadata": {
        "id": "TXEhsB4EUXiA"
      }
    },
    {
      "cell_type": "markdown",
      "source": [
        "\n",
        "\n",
        "*   Lowercase all words\n",
        "*   Remove stopwords\n",
        "*   Remove digits\n",
        "*   Remove punctuations\n",
        "*   Remove tokens less than two characters\n",
        "\n"
      ],
      "metadata": {
        "id": "rnQhaYqMV5e4"
      }
    },
    {
      "cell_type": "markdown",
      "source": [
        "Not said that we need to lemmatize"
      ],
      "metadata": {
        "id": "do0N7Gl2FajL"
      }
    },
    {
      "cell_type": "markdown",
      "source": [
        "### 7.1 Setup"
      ],
      "metadata": {
        "id": "zVXkSTXPYg3X"
      }
    },
    {
      "cell_type": "code",
      "source": [
        "# Imports\n",
        "nltk.download('stopwords')\n",
        "from nltk.corpus import stopwords\n",
        "from string import punctuation"
      ],
      "metadata": {
        "colab": {
          "base_uri": "https://localhost:8080/"
        },
        "id": "f6oLRC7jYj3t",
        "outputId": "9f2632fa-7c6c-411c-e126-65872e9c9ce2"
      },
      "execution_count": 20,
      "outputs": [
        {
          "output_type": "stream",
          "name": "stderr",
          "text": [
            "[nltk_data] Downloading package stopwords to /root/nltk_data...\n",
            "[nltk_data]   Unzipping corpora/stopwords.zip.\n"
          ]
        }
      ]
    },
    {
      "cell_type": "code",
      "source": [
        "# Make function to normalize tokens\n",
        "def preprocessing(tokens):\n",
        "  tokens = [token.lower() for token in tokens]  # lowercasing\n",
        "\n",
        "  stop_words = set(stopwords.words(\"english\"))  # use english stopwords\n",
        "  tokens = [token for token in tokens if token not in stop_words]  # remove stopwords\n",
        "\n",
        "  tokens = [token for token in tokens if not token.isdigit()] # remove digits\n",
        "\n",
        "  tokens = [token for token in tokens if token not in punctuation]  # remove punctuation\n",
        "\n",
        "  tokens = [token for token in tokens if len(token)>2]  # remove tokens with two or less characters\n",
        "\n",
        "  return tokens"
      ],
      "metadata": {
        "id": "EW6ec4CZWW3g"
      },
      "execution_count": 31,
      "outputs": []
    },
    {
      "cell_type": "markdown",
      "source": [
        "### 7.2 Testing"
      ],
      "metadata": {
        "id": "G6EnXGrrZzYi"
      }
    },
    {
      "cell_type": "code",
      "source": [
        "row = reviews[2]\n",
        "print(len(row))\n",
        "tokenized_review_text = row[5]\n",
        "print(tokenized_review_text)\n",
        "preprocessed_review_text = preprocessing(tokenized_review_text)\n",
        "print(preprocessed_review_text)"
      ],
      "metadata": {
        "colab": {
          "base_uri": "https://localhost:8080/"
        },
        "id": "UXYlzGABZ2EC",
        "outputId": "54cc05b0-50db-4e86-b8a8-9bc18068e9c3"
      },
      "execution_count": 33,
      "outputs": [
        {
          "output_type": "stream",
          "name": "stdout",
          "text": [
            "6\n",
            "['I', 'saw', 'Dr.', 'Kokhab', 'twice', 'at', 'the', 'urgent', 'care', 'in', 'Upland', '.', 'I', 'have', 'had', 'Fibromyalgia', 'for', '23', 'years', 'now', 'and', 'I', 'had', 'just', 'quit', 'Norco', '10-325', 'cold', 'turkey', 'after', 'taking', '5-6', 'pills', 'a', 'day', 'for', '5', 'years', '.', 'Dr', 'Kokhab', 'helped', 'me', 'by', 'giving', 'me', 'a', 'non', 'addictive', 'medication', 'similar', 'to', 'Tylenol', 'and', 'told', 'me', 'to', 'make', 'an', 'appt', 'at', 'his', 'office', 'location', 'to', 'treat', 'my', 'Fibro', '.', 'He', 'seems', 'like', 'a', 'very', 'good', 'Dr.', 'and', 'took', 'his', 'time', 'twice', 'to', 'answer', 'my', 'questions', 'and', 'help', 'me', 'in', 'any', 'way', 'he', 'can', '.', 'I', 'will', 'update', 'you', 'with', 'more', 'info', 'after', 'I', 'see', 'him', 'tomorrow', 'at', 'his', 'office', '.']\n",
            "['saw', 'dr.', 'kokhab', 'twice', 'urgent', 'care', 'upland', 'fibromyalgia', 'years', 'quit', 'norco', '10-325', 'cold', 'turkey', 'taking', '5-6', 'pills', 'day', 'years', 'kokhab', 'helped', 'giving', 'non', 'addictive', 'medication', 'similar', 'tylenol', 'told', 'make', 'appt', 'office', 'location', 'treat', 'fibro', 'seems', 'like', 'good', 'dr.', 'took', 'time', 'twice', 'answer', 'questions', 'help', 'way', 'update', 'info', 'see', 'tomorrow', 'office']\n"
          ]
        }
      ]
    },
    {
      "cell_type": "markdown",
      "source": [
        "### 7.3 Normalization"
      ],
      "metadata": {
        "id": "Ao3hDjDjUTkH"
      }
    },
    {
      "cell_type": "code",
      "source": [
        "\"\"\"Do preprocessing for all reviews\"\"\"\n",
        "\n",
        "# Iterate over the rows, adding the normalized token as a column\n",
        "for i, row in enumerate(reviews):\n",
        "  if i == 0:\n",
        "    row.extend([\"Preprocessed\"])\n",
        "    continue  # Skip the header row\n",
        "  tokenized_review_text = row[5]  # tokenized row is the 6'th column\n",
        "  # Preprocess tokens\n",
        "  preprocessed_review_text = preprocessing(tokenized_review_text)\n",
        "  # Append the preprocessed text as new elements in the row\n",
        "  row.append(preprocessed_review_text)"
      ],
      "metadata": {
        "id": "KdNb2qxxZW59"
      },
      "execution_count": 42,
      "outputs": []
    },
    {
      "cell_type": "code",
      "source": [
        "# Check rows\n",
        "rows = [reviews[0], reviews[2]]\n",
        "for row in rows:\n",
        "  for i in range(len(row)):\n",
        "    print(row[i])\n",
        "  print(\"-------------------------------\")"
      ],
      "metadata": {
        "colab": {
          "base_uri": "https://localhost:8080/"
        },
        "id": "t4BOCl9mEgII",
        "outputId": "8c73967a-2811-4dc6-ec7a-6aed1b936e3e"
      },
      "execution_count": 43,
      "outputs": [
        {
          "output_type": "stream",
          "name": "stdout",
          "text": [
            "reviewer\n",
            "rating\n",
            "date\n",
            "content\n",
            "Contraction Expanded\n",
            "Tokenized\n",
            "Preprocessed\n",
            "-------------------------------\n",
            "Sara C.\n",
            "5 star rating\n",
            "Apr 27, 2011\n",
            "I saw Dr. Kokhab twice at the urgent care in Upland. I've had Fibromyalgia for 23 years now and I had just quit Norco 10-325 cold turkey after taking 5-6 pills a day for 5 years. Dr Kokhab helped me by giving me a non addictive medication similar to Tylenol and told me to make an appt at his office location to treat my Fibro. He seems like a very good Dr. and took his time twice to answer my questions and help me in any way he can. I will update you with more info after I see him tomorrow at his office.\n",
            "I saw Dr. Kokhab twice at the urgent care in Upland. I have had Fibromyalgia for 23 years now and I had just quit Norco 10-325 cold turkey after taking 5-6 pills a day for 5 years. Dr Kokhab helped me by giving me a non addictive medication similar to Tylenol and told me to make an appt at his office location to treat my Fibro. He seems like a very good Dr. and took his time twice to answer my questions and help me in any way he can. I will update you with more info after I see him tomorrow at his office.\n",
            "['I', 'saw', 'Dr.', 'Kokhab', 'twice', 'at', 'the', 'urgent', 'care', 'in', 'Upland', '.', 'I', 'have', 'had', 'Fibromyalgia', 'for', '23', 'years', 'now', 'and', 'I', 'had', 'just', 'quit', 'Norco', '10-325', 'cold', 'turkey', 'after', 'taking', '5-6', 'pills', 'a', 'day', 'for', '5', 'years', '.', 'Dr', 'Kokhab', 'helped', 'me', 'by', 'giving', 'me', 'a', 'non', 'addictive', 'medication', 'similar', 'to', 'Tylenol', 'and', 'told', 'me', 'to', 'make', 'an', 'appt', 'at', 'his', 'office', 'location', 'to', 'treat', 'my', 'Fibro', '.', 'He', 'seems', 'like', 'a', 'very', 'good', 'Dr.', 'and', 'took', 'his', 'time', 'twice', 'to', 'answer', 'my', 'questions', 'and', 'help', 'me', 'in', 'any', 'way', 'he', 'can', '.', 'I', 'will', 'update', 'you', 'with', 'more', 'info', 'after', 'I', 'see', 'him', 'tomorrow', 'at', 'his', 'office', '.']\n",
            "['saw', 'dr.', 'kokhab', 'twice', 'urgent', 'care', 'upland', 'fibromyalgia', 'years', 'quit', 'norco', '10-325', 'cold', 'turkey', 'taking', '5-6', 'pills', 'day', 'years', 'kokhab', 'helped', 'giving', 'non', 'addictive', 'medication', 'similar', 'tylenol', 'told', 'make', 'appt', 'office', 'location', 'treat', 'fibro', 'seems', 'like', 'good', 'dr.', 'took', 'time', 'twice', 'answer', 'questions', 'help', 'way', 'update', 'info', 'see', 'tomorrow', 'office']\n",
            "-------------------------------\n"
          ]
        }
      ]
    },
    {
      "cell_type": "markdown",
      "source": [
        "## 8 Store/Load Fully Processed Reviews"
      ],
      "metadata": {
        "id": "-nCDQLuWFURJ"
      }
    },
    {
      "cell_type": "code",
      "source": [
        "# Mount drive for directory structure\n",
        "from google.colab import drive\n",
        "drive.mount('/content/drive', force_remount=True)"
      ],
      "metadata": {
        "id": "zGwzuJgpIvbl"
      },
      "execution_count": null,
      "outputs": []
    },
    {
      "cell_type": "markdown",
      "source": [
        "### Store"
      ],
      "metadata": {
        "id": "vV077DSXIbD9"
      }
    },
    {
      "cell_type": "markdown",
      "source": [
        "Store/Load so that the processing does not need to be repeated every time the runtime restarts"
      ],
      "metadata": {
        "id": "vOeP3JkIHKzz"
      }
    },
    {
      "cell_type": "code",
      "source": [
        "print(type(reviews))"
      ],
      "metadata": {
        "colab": {
          "base_uri": "https://localhost:8080/"
        },
        "id": "KwLZHFPVGrFC",
        "outputId": "867b21e5-9aa2-4fea-a4a6-50bf9626517e"
      },
      "execution_count": 36,
      "outputs": [
        {
          "output_type": "stream",
          "name": "stdout",
          "text": [
            "<class 'list'>\n"
          ]
        }
      ]
    },
    {
      "cell_type": "code",
      "source": [
        "# Travel to crawler directory if needed when restarting runtime\n",
        "%cd \"/content/drive/MyDrive/NLP/Lab1/yelp_crawler\""
      ],
      "metadata": {
        "colab": {
          "base_uri": "https://localhost:8080/"
        },
        "id": "IQwNMe-NIik3",
        "outputId": "dfa16363-09d7-4b2c-ebb2-6eaa933a1059"
      },
      "execution_count": 48,
      "outputs": [
        {
          "output_type": "stream",
          "name": "stdout",
          "text": [
            "/content/drive/MyDrive/NLP/Lab1/yelp_crawler\n"
          ]
        }
      ]
    },
    {
      "cell_type": "code",
      "source": [
        "# Check correct directory to store\n",
        "%ls"
      ],
      "metadata": {
        "colab": {
          "base_uri": "https://localhost:8080/"
        },
        "id": "aJe2JDrrIBx2",
        "outputId": "f4e070ab-5dee-4c0b-c6da-542475f495de"
      },
      "execution_count": 51,
      "outputs": [
        {
          "output_type": "stream",
          "name": "stdout",
          "text": [
            "misspelled_all.txt        reviews.csv            scrapy.cfg\n",
            "misspelled_by_review.txt  reviews_processed.csv  \u001b[0m\u001b[01;34myelp_crawler\u001b[0m/\n"
          ]
        }
      ]
    },
    {
      "cell_type": "code",
      "source": [
        "# Setup\n",
        "import csv\n",
        "filename = 'reviews_processed.csv'\n",
        "\n",
        "# Open the file in write mode ('w') and create a csv.writer object\n",
        "with open(filename, 'w', newline='') as file:\n",
        "    writer = csv.writer(file)\n",
        "\n",
        "    # Write all rows at once\n",
        "    writer.writerows(reviews)\n",
        "\n",
        "# Print success\n",
        "print(f'Reviews successfully written to {filename}')"
      ],
      "metadata": {
        "colab": {
          "base_uri": "https://localhost:8080/"
        },
        "id": "vir8CXsLGyXJ",
        "outputId": "f050074f-2303-48b4-e573-e505876d18ce"
      },
      "execution_count": 46,
      "outputs": [
        {
          "output_type": "stream",
          "name": "stdout",
          "text": [
            "Reviews successfully written to reviews_processed.csv\n"
          ]
        }
      ]
    },
    {
      "cell_type": "code",
      "source": [
        "# Check that the processed reviews saved\n",
        "%ls"
      ],
      "metadata": {
        "colab": {
          "base_uri": "https://localhost:8080/"
        },
        "id": "DTgdwwNmIHzv",
        "outputId": "36e3dfff-f181-4f58-df01-cd33d055d48a"
      },
      "execution_count": 47,
      "outputs": [
        {
          "output_type": "stream",
          "name": "stdout",
          "text": [
            "misspelled_all.txt        reviews.csv            scrapy.cfg\n",
            "misspelled_by_review.txt  reviews_processed.csv  \u001b[0m\u001b[01;34myelp_crawler\u001b[0m/\n"
          ]
        }
      ]
    },
    {
      "cell_type": "markdown",
      "source": [
        "### Load"
      ],
      "metadata": {
        "id": "71hsGdTFIMBi"
      }
    },
    {
      "cell_type": "code",
      "source": [
        "# Travel to crawler directory if needed when restarting runtime\n",
        "%cd \"/content/drive/MyDrive/NLP/Lab1/yelp_crawler\""
      ],
      "metadata": {
        "id": "p-dYU0hkIrmr"
      },
      "execution_count": null,
      "outputs": []
    },
    {
      "cell_type": "code",
      "source": [
        "# Load your CSV data if needed when restarting runtime\n",
        "import csv\n",
        "with open('reviews_processed.csv', 'r', encoding='utf-8') as file:\n",
        "    reader = csv.reader(file)\n",
        "    reviews_processed = list(reader)"
      ],
      "metadata": {
        "id": "5-O11ZCRIx4x"
      },
      "execution_count": 153,
      "outputs": []
    },
    {
      "cell_type": "code",
      "source": [
        "# Check load\n",
        "rows = [reviews_processed[0], reviews_processed[2]]\n",
        "for row in rows:\n",
        "  for i in range(len(row)):\n",
        "    print(row[i])\n",
        "  print(\"-------------------------------\")"
      ],
      "metadata": {
        "colab": {
          "base_uri": "https://localhost:8080/"
        },
        "id": "-EyKOV4EI7SP",
        "outputId": "fadb913c-251e-42f8-d96f-63fb6154e2a9"
      },
      "execution_count": 154,
      "outputs": [
        {
          "output_type": "stream",
          "name": "stdout",
          "text": [
            "reviewer\n",
            "rating\n",
            "date\n",
            "content\n",
            "Contraction Expanded\n",
            "Tokenized\n",
            "Preprocessed\n",
            "-------------------------------\n",
            "Sara C.\n",
            "5 star rating\n",
            "Apr 27, 2011\n",
            "I saw Dr. Kokhab twice at the urgent care in Upland. I've had Fibromyalgia for 23 years now and I had just quit Norco 10-325 cold turkey after taking 5-6 pills a day for 5 years. Dr Kokhab helped me by giving me a non addictive medication similar to Tylenol and told me to make an appt at his office location to treat my Fibro. He seems like a very good Dr. and took his time twice to answer my questions and help me in any way he can. I will update you with more info after I see him tomorrow at his office.\n",
            "I saw Dr. Kokhab twice at the urgent care in Upland. I have had Fibromyalgia for 23 years now and I had just quit Norco 10-325 cold turkey after taking 5-6 pills a day for 5 years. Dr Kokhab helped me by giving me a non addictive medication similar to Tylenol and told me to make an appt at his office location to treat my Fibro. He seems like a very good Dr. and took his time twice to answer my questions and help me in any way he can. I will update you with more info after I see him tomorrow at his office.\n",
            "['I', 'saw', 'Dr.', 'Kokhab', 'twice', 'at', 'the', 'urgent', 'care', 'in', 'Upland', '.', 'I', 'have', 'had', 'Fibromyalgia', 'for', '23', 'years', 'now', 'and', 'I', 'had', 'just', 'quit', 'Norco', '10-325', 'cold', 'turkey', 'after', 'taking', '5-6', 'pills', 'a', 'day', 'for', '5', 'years', '.', 'Dr', 'Kokhab', 'helped', 'me', 'by', 'giving', 'me', 'a', 'non', 'addictive', 'medication', 'similar', 'to', 'Tylenol', 'and', 'told', 'me', 'to', 'make', 'an', 'appt', 'at', 'his', 'office', 'location', 'to', 'treat', 'my', 'Fibro', '.', 'He', 'seems', 'like', 'a', 'very', 'good', 'Dr.', 'and', 'took', 'his', 'time', 'twice', 'to', 'answer', 'my', 'questions', 'and', 'help', 'me', 'in', 'any', 'way', 'he', 'can', '.', 'I', 'will', 'update', 'you', 'with', 'more', 'info', 'after', 'I', 'see', 'him', 'tomorrow', 'at', 'his', 'office', '.']\n",
            "['saw', 'dr.', 'kokhab', 'twice', 'urgent', 'care', 'upland', 'fibromyalgia', 'years', 'quit', 'norco', '10-325', 'cold', 'turkey', 'taking', '5-6', 'pills', 'day', 'years', 'kokhab', 'helped', 'giving', 'non', 'addictive', 'medication', 'similar', 'tylenol', 'told', 'make', 'appt', 'office', 'location', 'treat', 'fibro', 'seems', 'like', 'good', 'dr.', 'took', 'time', 'twice', 'answer', 'questions', 'help', 'way', 'update', 'info', 'see', 'tomorrow', 'office']\n",
            "-------------------------------\n"
          ]
        }
      ]
    },
    {
      "cell_type": "code",
      "source": [
        "print(len(reviews[0]))"
      ],
      "metadata": {
        "colab": {
          "base_uri": "https://localhost:8080/"
        },
        "id": "ODg2dHqeMbR4",
        "outputId": "bec60d3b-b8f9-42cc-91a2-8cd48b6d31ff"
      },
      "execution_count": 72,
      "outputs": [
        {
          "output_type": "stream",
          "name": "stdout",
          "text": [
            "7\n"
          ]
        }
      ]
    },
    {
      "cell_type": "markdown",
      "source": [
        "## 9 Word Context"
      ],
      "metadata": {
        "id": "oouFzLr5JGDs"
      }
    },
    {
      "cell_type": "markdown",
      "source": [
        "### 9.1 Word Concordance"
      ],
      "metadata": {
        "id": "MNMbGEdnJquL"
      }
    },
    {
      "cell_type": "code",
      "source": [
        "# Imports\n",
        "import ast\n",
        "\n",
        "# Get one review\n",
        "row = reviews_processed[1]\n",
        "review = row[6]\n",
        "review = ast.literal_eval(review)  # make sure review is a list type\n",
        "\n",
        "# Check review\n",
        "print(type(review))\n",
        "print(review)\n",
        "\n",
        "# Make into Text\n",
        "processed_text = Text(review)\n",
        "print(processed_text)"
      ],
      "metadata": {
        "colab": {
          "base_uri": "https://localhost:8080/"
        },
        "id": "WmxQBQO8Mz68",
        "outputId": "026da66a-c7d1-48c0-b2d1-8ed212f658b7"
      },
      "execution_count": 74,
      "outputs": [
        {
          "output_type": "stream",
          "name": "stdout",
          "text": [
            "<class 'list'>\n",
            "['husband', 'patient', 'dr.', 'accompanied', 'couple', 'office', 'visits', 'doctor', 'able', 'quickly', 'diagnose', 'husband', 'condition', 'countless', 'visits', 'pcp', 'urgent', 'care', 'beginning', 'treatment', 'doctor', 'called', 'home', 'check', 'husband', 'addition', 'great', 'doctor', 'also', 'wonderful', 'staff', 'staff', 'professional', 'also', 'friendly', 'helpful', 'everyone', 'office', 'truly', 'cares', 'patients']\n",
            "<Text: husband patient dr. accompanied couple office visits doctor...>\n"
          ]
        }
      ]
    },
    {
      "cell_type": "code",
      "source": [
        "# Imports\n",
        "import ast\n",
        "import nltk\n",
        "from nltk.text import Text\n",
        "nltk.download('punkt')\n",
        "\n",
        "# Instantiate collected tokens\n",
        "all_processed_tokens = []\n",
        "\n",
        "# Collect all tokens together\n",
        "for i, row in enumerate(reviews_processed):\n",
        "  if i == 0:  # skip header row\n",
        "    continue\n",
        "  # Read review\n",
        "  review = row[6]  # processed review is in 7'th column\n",
        "  review = ast.literal_eval(review)\n",
        "  # Append to all tokens\n",
        "  all_processed_tokens.extend(review)\n",
        "\n",
        "# Check all tokens\n",
        "print(all_processed_tokens[:20])\n",
        "\n",
        "# Make text object\n",
        "all_processed_text = Text(all_processed_tokens)\n",
        "\n",
        "# Check text\n",
        "print(all_processed_text[:20])"
      ],
      "metadata": {
        "colab": {
          "base_uri": "https://localhost:8080/"
        },
        "id": "u2S4V6sAJtkL",
        "outputId": "1de11302-4112-45bc-8d63-e421b3e32edd"
      },
      "execution_count": 116,
      "outputs": [
        {
          "output_type": "stream",
          "name": "stdout",
          "text": [
            "['husband', 'patient', 'dr.', 'accompanied', 'couple', 'office', 'visits', 'doctor', 'able', 'quickly', 'diagnose', 'husband', 'condition', 'countless', 'visits', 'pcp', 'urgent', 'care', 'beginning', 'treatment']\n",
            "['husband', 'patient', 'dr.', 'accompanied', 'couple', 'office', 'visits', 'doctor', 'able', 'quickly', 'diagnose', 'husband', 'condition', 'countless', 'visits', 'pcp', 'urgent', 'care', 'beginning', 'treatment']\n"
          ]
        },
        {
          "output_type": "stream",
          "name": "stderr",
          "text": [
            "[nltk_data] Downloading package punkt to /root/nltk_data...\n",
            "[nltk_data]   Package punkt is already up-to-date!\n"
          ]
        }
      ]
    },
    {
      "cell_type": "code",
      "source": [
        "# Use concordance on this Text object\n",
        "word_to_search = \"office\"\n",
        "all_processed_text.concordance(word_to_search)"
      ],
      "metadata": {
        "colab": {
          "base_uri": "https://localhost:8080/"
        },
        "id": "YAJCT6TjJcCH",
        "outputId": "c9e3615e-cb88-4706-cf04-76457cab8dab"
      },
      "execution_count": 99,
      "outputs": [
        {
          "output_type": "stream",
          "name": "stdout",
          "text": [
            "Displaying 25 of 42 matches:\n",
            "band patient dr. accompanied couple office visits doctor able quickly diagnose\n",
            "onal also friendly helpful everyone office truly cares patients saw dr. kokhab\n",
            "tion similar tylenol told make appt office location treat fibro seems like goo\n",
            "s help way update info see tomorrow office dr. kokhab awesome doctor rush appo\n",
            " great since could seen regular dr. office good thing especially since trouble\n",
            "el lucky group staff honestly worst office staff ever dealt business argumenta\n",
            "care professional need make changes office manager staff want provide around g\n",
            " going many offices get busy forget office flair ups doctor waited make sure a\n",
            "ul found dr. kokhab would recommend office everyone anyone needs type specalis\n",
            "elp everyone deeper level food back office give patients treats like family th\n",
            "really cares everything right leave office makes sure help pain never doctor g\n",
            "mmend couple televisits dr. sadeghi office nice knowledgable doctor happy visi\n",
            "hange offices account inefficiently office run constant chase try make appoint\n",
            "ing health seen mary today everyone office professional kind even personable y\n",
            "ard working feeling lot better come office give shot may cover insurance later\n",
            "effects test out.stay away horrible office try get seem doctor time patients a\n",
            "owup doctor.highly recommended gone office many times wait hours say although \n",
            "would find another place dr. kokhab office great job treating fibromyalgia who\n",
            "eat job treating fibromyalgia whole office polite caring explained condition g\n",
            "fill prescriptions- evil people use office appointment today scheduled 4:20 us\n",
            "w since would coming work way could office time much pain tried make even call\n",
            "me much pain tried make even called office let know would got office told pati\n",
            "en called office let know would got office told patients would wait see going \n",
            "eft reception area waited 5:10 told office manager lead person patients sure s\n",
            "day day hours doctor working coming office years 3rd rheumatologist seen patie\n"
          ]
        }
      ]
    },
    {
      "cell_type": "code",
      "source": [
        "# Need sys to print without making a variable\n",
        "import sys\n",
        "\n",
        "# Define the word to search\n",
        "word_to_search = \"office\"\n",
        "\n",
        "# Open the file to write concordance results to\n",
        "with open('concordance_output.txt', 'w') as file:\n",
        "    # Temporarily redirect standard output to the file\n",
        "    original_stdout = sys.stdout  # Save the original standard output\n",
        "    sys.stdout = file  # Redirect standard output to the file\n",
        "\n",
        "    # Use concordance on this Text object\n",
        "    all_processed_text.concordance(word_to_search)\n",
        "\n",
        "    sys.stdout = original_stdout  # Reset standard output to its original value\n",
        "\n",
        "# Print success\n",
        "print(\"Concordance output written to 'concordance_output.txt'\")"
      ],
      "metadata": {
        "colab": {
          "base_uri": "https://localhost:8080/"
        },
        "id": "TLu2PrpOOzbT",
        "outputId": "4cfbf914-305b-4167-e77b-baa286c92219"
      },
      "execution_count": 106,
      "outputs": [
        {
          "output_type": "stream",
          "name": "stdout",
          "text": [
            "Concordance output written to 'concordance_output.txt'\n"
          ]
        }
      ]
    },
    {
      "cell_type": "markdown",
      "source": [
        "### 9.2 Most Common Words"
      ],
      "metadata": {
        "id": "Ij1tBUbHY2Q9"
      }
    },
    {
      "cell_type": "code",
      "source": [
        "import nltk\n",
        "from nltk import Text\n",
        "from nltk.tokenize import word_tokenize\n",
        "from nltk.collocations import BigramCollocationFinder\n",
        "from nltk.metrics import BigramAssocMeasures\n",
        "from collections import Counter\n",
        "\n",
        "# Text object\n",
        "text = all_processed_text\n",
        "\n",
        "# Find all contexts of \"office\"\n",
        "window_size = 5\n",
        "office_contexts = []\n",
        "\n",
        "# Tokenize and create a list of all words in a window around \"office\"\n",
        "for i, word in enumerate(text.tokens):\n",
        "    if word.lower() == \"office\":\n",
        "        start = max(0, i - window_size)\n",
        "        end = min(len(text.tokens), i + window_size + 1)\n",
        "        context = text.tokens[start:end]\n",
        "        office_contexts.extend(context)\n",
        "\n",
        "# Remove \"office\" from the contexts to analyze the surrounding words\n",
        "surrounding_words = [word.lower() for word in office_contexts if word.lower() != \"office\"]\n",
        "\n",
        "# Count and display the most common words\n",
        "most_common_words = Counter(surrounding_words).most_common()\n",
        "\n",
        "print(\"Most common words appearing with 'office':\")\n",
        "for word, count in most_common_words:\n",
        "  if count >= 3:  # Only print counts greater than or equal to 3\n",
        "    print(f\"{word}: {count}\")"
      ],
      "metadata": {
        "colab": {
          "base_uri": "https://localhost:8080/"
        },
        "id": "LrVEJ3K_Y5uR",
        "outputId": "b30d533b-ee17-4bcf-ac52-5cf628079e7d"
      },
      "execution_count": 103,
      "outputs": [
        {
          "output_type": "stream",
          "name": "stdout",
          "text": [
            "Most common words appearing with 'office':\n",
            "dr.: 8\n",
            "staff: 8\n",
            "doctor: 7\n",
            "make: 6\n",
            "would: 6\n",
            "news: 6\n",
            "recommend: 5\n",
            "come: 5\n",
            "professional: 4\n",
            "everyone: 4\n",
            "patients: 4\n",
            "like: 4\n",
            "kokhab: 4\n",
            "seen: 4\n",
            "good: 4\n",
            "manager: 4\n",
            "get: 4\n",
            "back: 4\n",
            "cece: 4\n",
            "husband: 3\n",
            "told: 3\n",
            "way: 3\n",
            "see: 3\n",
            "since: 3\n",
            "could: 3\n",
            "care: 3\n",
            "many: 3\n",
            "offices: 3\n",
            "pain: 3\n",
            "kind: 3\n",
            "insurance: 3\n",
            "great: 3\n",
            "rheumatologist: 3\n",
            "going: 3\n",
            "first: 3\n"
          ]
        }
      ]
    },
    {
      "cell_type": "code",
      "source": [
        "# Write the most common words (with counts >= 3) to the file\n",
        "with open('office_most_common_words.txt', 'w') as file:\n",
        "    file.write(\"Most common words appearing with 'office' (count >= 3):\\n\")\n",
        "    for word, count in most_common_words:\n",
        "        if count >= 3:  # Only include words with counts greater than or equal to 3\n",
        "            file.write(f\"{word}: {count}\\n\")"
      ],
      "metadata": {
        "id": "0GOjRAzFZHzA"
      },
      "execution_count": 105,
      "outputs": []
    },
    {
      "cell_type": "markdown",
      "source": [
        "## 10 Text Statistics"
      ],
      "metadata": {
        "id": "6NgWSHUAZ0Nh"
      }
    },
    {
      "cell_type": "markdown",
      "source": [
        "### 10.1 Review Lengths"
      ],
      "metadata": {
        "id": "9c07kDRcan37"
      }
    },
    {
      "cell_type": "code",
      "source": [
        "# Imports\n",
        "import ast\n",
        "\n",
        "# Look at header row\n",
        "row = reviews_processed[0]\n",
        "print(row)\n",
        "\n",
        "# Look at original and cleaned\n",
        "row = reviews_processed[1]\n",
        "print(row[4])\n",
        "# Cleaned will need to be converted from tokenized to cleaned\n",
        "print(type(row[6]))\n",
        "print(' '.join(ast.literal_eval(row[6])))"
      ],
      "metadata": {
        "colab": {
          "base_uri": "https://localhost:8080/"
        },
        "id": "9H34rpelash6",
        "outputId": "053068e4-9655-4f51-e913-1bcb43dd0691"
      },
      "execution_count": 155,
      "outputs": [
        {
          "output_type": "stream",
          "name": "stdout",
          "text": [
            "['reviewer', 'rating', 'date', 'content', 'Contraction Expanded', 'Tokenized', 'Preprocessed']\n",
            "My husband is a patient of Dr. K and I have accompanied him on a couple of office visits. He was the only doctor who was able to quickly diagnose my husband's condition after countless visits to our PCP, other urgent care, and the ER. After beginning treatment the doctor called our home to check how my husband was doing. In addition to being a great doctor, he also has a wonderful staff. The staff is not only professional, but also very friendly, and helpful. Everyone at this office truly cares about the patients.\n",
            "<class 'str'>\n",
            "husband patient dr. accompanied couple office visits doctor able quickly diagnose husband condition countless visits pcp urgent care beginning treatment doctor called home check husband addition great doctor also wonderful staff staff professional also friendly helpful everyone office truly cares patients\n"
          ]
        }
      ]
    },
    {
      "cell_type": "markdown",
      "source": [
        "First make column with clean processed strings"
      ],
      "metadata": {
        "id": "lfLROO7JfSnb"
      }
    },
    {
      "cell_type": "code",
      "source": [
        "# Imports\n",
        "import ast\n",
        "\n",
        "# Loop through each row in reviews_processed\n",
        "for i, row in enumerate(reviews_processed):\n",
        "  if i == 0:\n",
        "    row.append('Cleaned String')  # new header\n",
        "    continue\n",
        "  # Convert the string representation of the tokenized review into a list\n",
        "  tokenized_review = ast.literal_eval(row[6])\n",
        "\n",
        "  # Join the tokens into a single cleaned string\n",
        "  cleaned_review = ' '.join(tokenized_review)\n",
        "\n",
        "  # Append the cleaned review to the current row\n",
        "  row.append(cleaned_review)"
      ],
      "metadata": {
        "id": "aMKHLfjha0-V"
      },
      "execution_count": 156,
      "outputs": []
    },
    {
      "cell_type": "code",
      "source": [
        "# Check row\n",
        "row = reviews_processed[1]\n",
        "print(row[3])\n",
        "print(row[7])"
      ],
      "metadata": {
        "colab": {
          "base_uri": "https://localhost:8080/"
        },
        "id": "0aPwRzAsfwot",
        "outputId": "dd099d75-78d1-4824-a213-7d171e313f31"
      },
      "execution_count": 157,
      "outputs": [
        {
          "output_type": "stream",
          "name": "stdout",
          "text": [
            "My husband is a patient of Dr. K and I have accompanied him on a couple of office visits. He was the only doctor who was able to quickly diagnose my husband's condition after countless visits to our PCP, other urgent care, and the ER. After beginning treatment the doctor called our home to check how my husband was doing. In addition to being a great doctor, he also has a wonderful staff. The staff is not only professional, but also very friendly, and helpful. Everyone at this office truly cares about the patients.\n",
            "husband patient dr. accompanied couple office visits doctor able quickly diagnose husband condition countless visits pcp urgent care beginning treatment doctor called home check husband addition great doctor also wonderful staff staff professional also friendly helpful everyone office truly cares patients\n"
          ]
        }
      ]
    },
    {
      "cell_type": "markdown",
      "source": [
        "Count original and cleaned review lengths"
      ],
      "metadata": {
        "id": "EzEwkDYnf1Nh"
      }
    },
    {
      "cell_type": "code",
      "source": [
        "# Loop through each row in reviews_processed\n",
        "for i, row in enumerate(reviews_processed):\n",
        "  if i == 0:\n",
        "    row.extend(['Original String Length', 'Clean String Length'])  # new headers\n",
        "    continue\n",
        "  # Get original review length\n",
        "  original_length = len(row[3])\n",
        "\n",
        "  # Get original review length\n",
        "  cleaned_length = len(row[7])\n",
        "\n",
        "  # Extend with the lengths\n",
        "  row.extend([original_length, cleaned_length])"
      ],
      "metadata": {
        "id": "u-brBnCwgDF_"
      },
      "execution_count": 158,
      "outputs": []
    },
    {
      "cell_type": "code",
      "source": [
        "# Check rows\n",
        "row = reviews_processed[0]\n",
        "print(row)\n",
        "row = reviews_processed[1]\n",
        "print(row[8], row[9])"
      ],
      "metadata": {
        "colab": {
          "base_uri": "https://localhost:8080/"
        },
        "id": "RZUfJMeag4OH",
        "outputId": "48ed0ecd-4531-42c8-e11f-430ca96327ef"
      },
      "execution_count": 159,
      "outputs": [
        {
          "output_type": "stream",
          "name": "stdout",
          "text": [
            "['reviewer', 'rating', 'date', 'content', 'Contraction Expanded', 'Tokenized', 'Preprocessed', 'Cleaned String', 'Original String Length', 'Clean String Length']\n",
            "519 306\n"
          ]
        }
      ]
    },
    {
      "cell_type": "markdown",
      "source": [
        "### 10.2 Lexical Diversity"
      ],
      "metadata": {
        "id": "UwDIo9KxiC69"
      }
    },
    {
      "cell_type": "code",
      "source": [
        "# Make function for lexical diversity (unique tokens/total tokens)\n",
        "def lexical_diversity_calculator(text):\n",
        "  return len(set(text))/len(text)"
      ],
      "metadata": {
        "id": "DHPufyN4iFYX"
      },
      "execution_count": 160,
      "outputs": []
    },
    {
      "cell_type": "code",
      "source": [
        "# Loop through each row in reviews_processed to append lexical diversity\n",
        "for i, row in enumerate(reviews_processed):\n",
        "  if i == 0:\n",
        "    row.append('Lexical Diversity')  # new headers\n",
        "    continue\n",
        "\n",
        "  # Get original review length\n",
        "  lexical_diversity = lexical_diversity_calculator(row[6])\n",
        "\n",
        "  # Append with the lengths\n",
        "  row.append(lexical_diversity)"
      ],
      "metadata": {
        "id": "n31zw-YFg6jJ"
      },
      "execution_count": 161,
      "outputs": []
    },
    {
      "cell_type": "code",
      "source": [
        "# Check rows\n",
        "row = reviews_processed[0]\n",
        "print(row)\n",
        "row = reviews_processed[1]\n",
        "print(row[8], row[9], row[10])"
      ],
      "metadata": {
        "colab": {
          "base_uri": "https://localhost:8080/"
        },
        "id": "wlLvph3zkUIq",
        "outputId": "4f2a62fb-7a2d-44c4-815e-2bfeff04302f"
      },
      "execution_count": 163,
      "outputs": [
        {
          "output_type": "stream",
          "name": "stdout",
          "text": [
            "['reviewer', 'rating', 'date', 'content', 'Contraction Expanded', 'Tokenized', 'Preprocessed', 'Cleaned String', 'Original String Length', 'Clean String Length', 'Lexical Diversity']\n",
            "519 306 0.06744186046511629\n"
          ]
        }
      ]
    },
    {
      "cell_type": "markdown",
      "source": [
        "### 10.3 Write Table"
      ],
      "metadata": {
        "id": "Nv95eD7allo1"
      }
    },
    {
      "cell_type": "code",
      "source": [
        "type(reviews_processed)"
      ],
      "metadata": {
        "colab": {
          "base_uri": "https://localhost:8080/"
        },
        "id": "ow0L66V-k_E8",
        "outputId": "1cc356fb-e4aa-4d6f-9f2c-57948195adf6"
      },
      "execution_count": 164,
      "outputs": [
        {
          "output_type": "execute_result",
          "data": {
            "text/plain": [
              "list"
            ]
          },
          "metadata": {},
          "execution_count": 164
        }
      ]
    },
    {
      "cell_type": "code",
      "source": [
        "# Define which columns to include (8, 9, and 10 contain the lengths and lexical diversity)\n",
        "selected_columns = [8, 9, 10]\n",
        "\n",
        "# Create a table with the selected columns\n",
        "table = []\n",
        "for i, row in enumerate(reviews_processed):\n",
        "  if i == 0:\n",
        "    row.extend(['Review', 'Review Length', 'Cleaned Review Length', 'Lexical Diversity'])\n",
        "    continue\n",
        "  selected_row = [i]  # Add review number as the first item\n",
        "  selected_row.extend([row[i] for i in selected_columns])  # Add selected columns\n",
        "  table.append(selected_row)"
      ],
      "metadata": {
        "id": "-l5kyEBnmUDB"
      },
      "execution_count": 174,
      "outputs": []
    },
    {
      "cell_type": "code",
      "source": [
        "print(table)"
      ],
      "metadata": {
        "colab": {
          "base_uri": "https://localhost:8080/"
        },
        "id": "4iTySuh0pr7M",
        "outputId": "6204d9eb-e62f-4d14-8fb7-9051b6adb1a4"
      },
      "execution_count": 175,
      "outputs": [
        {
          "output_type": "stream",
          "name": "stdout",
          "text": [
            "[[1, 519, 306, 0.06744186046511629], [2, 508, 314, 0.07741935483870968], [3, 280, 161, 0.12658227848101267], [4, 92, 58, 0.22093023255813954], [5, 488, 316, 0.0645879732739421], [6, 258, 183, 0.109375], [7, 623, 388, 0.050966608084358524], [8, 159, 90, 0.1889763779527559], [9, 553, 287, 0.06716417910447761], [10, 275, 190, 0.10526315789473684], [11, 465, 283, 0.07088607594936709], [12, 915, 516, 0.039318479685452164], [13, 678, 424, 0.0490506329113924], [14, 468, 295, 0.06971153846153846], [15, 302, 173, 0.10714285714285714], [16, 301, 173, 0.11372549019607843], [17, 451, 248, 0.0784313725490196], [18, 749, 508, 0.04261363636363636], [19, 126, 79, 0.23008849557522124], [20, 724, 499, 0.04016620498614958], [21, 109, 83, 0.2222222222222222], [22, 771, 452, 0.0445468509984639], [23, 361, 179, 0.09689922480620156], [24, 301, 188, 0.10256410256410256], [25, 1336, 762, 0.0279027902790279], [26, 378, 231, 0.08459214501510574], [27, 677, 440, 0.056910569105691054], [28, 305, 161, 0.11538461538461539], [29, 342, 230, 0.09259259259259259], [30, 381, 243, 0.0830945558739255], [31, 130, 59, 0.23809523809523808], [32, 1453, 733, 0.03289473684210526], [33, 567, 362, 0.05588822355289421], [34, 319, 209, 0.09427609427609428], [35, 223, 121, 0.15568862275449102], [36, 286, 184, 0.11284046692607004], [37, 504, 279, 0.07360406091370558], [38, 205, 138, 0.1306532663316583], [39, 126, 86, 0.19166666666666668], [40, 3022, 1900, 0.011460258780036968], [41, 275, 176, 0.10714285714285714], [42, 834, 440, 0.04538341158059468], [43, 262, 167, 0.12280701754385964], [44, 237, 124, 0.15934065934065933], [45, 755, 551, 0.03968253968253968], [46, 904, 559, 0.03513174404015056], [47, 482, 334, 0.06941431670281996], [48, 1337, 820, 0.026655202063628546], [49, 321, 194, 0.10507246376811594], [50, 595, 359, 0.05747126436781609], [51, 748, 407, 0.04912280701754386], [52, 560, 353, 0.05761316872427984]]\n"
          ]
        }
      ]
    },
    {
      "cell_type": "code",
      "source": [
        "# Imports\n",
        "import csv\n",
        "\n",
        "# Write the table to a csv file\n",
        "with open(\"table.csv\", \"w\") as file:\n",
        "    for row in table:\n",
        "        # Join the selected columns with a comma for CSV format\n",
        "        row_str = \",\".join(str(item) for item in row)\n",
        "        file.write(row_str + \"\\n\")"
      ],
      "metadata": {
        "id": "L8pYH8RBl7Wm"
      },
      "execution_count": 176,
      "outputs": []
    },
    {
      "cell_type": "markdown",
      "source": [
        "## 11 Frequency Plot"
      ],
      "metadata": {
        "id": "sZZtxGBMqVqd"
      }
    },
    {
      "cell_type": "code",
      "source": [
        "# Imports\n",
        "import ast\n",
        "\n",
        "# Instantiate collected tokens\n",
        "all_processed_tokens = []\n",
        "\n",
        "# Collect all tokens together\n",
        "for i, row in enumerate(reviews_processed):\n",
        "  if i == 0:  # skip header row\n",
        "    continue\n",
        "  # Read review\n",
        "  review = row[6]  # processed review is in 7'th column\n",
        "  review = ast.literal_eval(review)\n",
        "  # Append to all tokens\n",
        "  all_processed_tokens.extend(review)\n",
        "\n",
        "# Check all tokens\n",
        "print(all_processed_tokens[:20])"
      ],
      "metadata": {
        "id": "xZdYFm-Is_Kq"
      },
      "execution_count": null,
      "outputs": []
    },
    {
      "cell_type": "code",
      "source": [
        "# Imports\n",
        "from nltk import FreqDist\n",
        "\n",
        "# Make frequency distribution\n",
        "fdist_reviews = FreqDist(all_processed_tokens)\n",
        "fdist_reviews"
      ],
      "metadata": {
        "colab": {
          "base_uri": "https://localhost:8080/"
        },
        "id": "aw3KhqG6oaMq",
        "outputId": "13c51f4a-34cd-44af-c296-ee5559913ee0"
      },
      "execution_count": 183,
      "outputs": [
        {
          "output_type": "execute_result",
          "data": {
            "text/plain": [
              "FreqDist({'office': 42, 'dr.': 41, 'doctor': 27, 'get': 26, 'kokhab': 25, 'would': 24, 'time': 23, 'staff': 19, 'seen': 17, 'appointment': 17, ...})"
            ]
          },
          "metadata": {},
          "execution_count": 183
        }
      ]
    },
    {
      "cell_type": "code",
      "source": [
        "# Total number of tokens\n",
        "print(f\"Total Num Tokens: {fdist_reviews.N()}\")\n",
        "\n",
        "# Frequency of office\n",
        "word = 'office'\n",
        "print(f\"Frequency of {word}: {fdist_reviews.freq(word)}\")"
      ],
      "metadata": {
        "colab": {
          "base_uri": "https://localhost:8080/"
        },
        "id": "fDv-rx0Huvw-",
        "outputId": "a888e081-5aad-4bcc-ca4d-7b7622395a5e"
      },
      "execution_count": 184,
      "outputs": [
        {
          "output_type": "stream",
          "name": "stdout",
          "text": [
            "Total Num Tokens: 2404\n",
            "Frequency of office: 0.01747088186356073\n"
          ]
        }
      ]
    },
    {
      "cell_type": "code",
      "source": [
        "# Plot the frequency of top 25\n",
        "fdist_reviews.plot(20, cumulative=True)"
      ],
      "metadata": {
        "colab": {
          "base_uri": "https://localhost:8080/",
          "height": 543
        },
        "id": "8AAIi7vCtG-7",
        "outputId": "abf1ff45-5687-4b55-ea1f-e1db2f7db6ac"
      },
      "execution_count": 186,
      "outputs": [
        {
          "output_type": "display_data",
          "data": {
            "text/plain": [
              "<Figure size 640x480 with 1 Axes>"
            ],
            "image/png": "[encoded data removed]"
          },
          "metadata": {}
        },
        {
          "output_type": "execute_result",
          "data": {
            "text/plain": [
              "<Axes: xlabel='Samples', ylabel='Cumulative Counts'>"
            ]
          },
          "metadata": {},
          "execution_count": 186
        }
      ]
    }
  ],
  "metadata": {
    "colab": {
      "provenance": [],
      "collapsed_sections": [
        "-EVo0RfeW_i2",
        "T-fHzQEIjkH2",
        "J8X6AWCmYn1M",
        "CV4saFVrkILs",
        "g5r3zlv-kYO0",
        "3Uq-sZqUkvjb",
        "Tc0AM9bC0QDM",
        "tp2UPxNhXi65",
        "aAGHvJZFXaEz",
        "voVJ8ElC3Kga",
        "FLEg4wfl3X74",
        "b0hQuSq_VJRc",
        "xMRAywIk37gp",
        "GmlMX9wvYtge",
        "yRWjzeRlVRq2"
      ],
      "authorship_tag": "ABX9TyOg0nQEADPF+CuhJTI4Ve6b",
      "include_colab_link": true
    },
    "kernelspec": {
      "display_name": "Python 3",
      "name": "python3"
    },
    "language_info": {
      "name": "python"
    }
  },
  "nbformat": 4,
  "nbformat_minor": 0
}